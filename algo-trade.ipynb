{
 "cells": [
  {
   "cell_type": "markdown",
   "id": "b3f38d98-6710-44ad-99c9-d64e65537ebe",
   "metadata": {
    "tags": []
   },
   "source": [
    "# Algo Trade Machine Learning End to End\n",
    "\n",
    "This is an experiment to see if Machine Learning might be helpful to algorithm trading. While other team members working intensely on ML models, this notebook probes an end-to-end practical process yeilding actual trading actions, into which any premiumly trained ML model can be plug and play.\n",
    "\n",
    "There are some special challenges in algo trade compared to other ML subjects. For example, we could only decide tentative labels which are far from actual answer, which means even if the ML model gets very high score, it still does not guarantee a good outcome. We'd need to go with some different kind of measurement. Another example is we are actually trying to predict the future, when no data is yet available. Instead of splitting train and test sets, we should only train then predict once at a time, like in the reality tomorrow comes one at a time. This requires some experimantal design targeting practicality as much as possible. \n",
    "\n",
    "## Experimental design\n",
    "\n",
    "* One main ticker plus other supplemental tickers\n",
    "* Gather historical data from Alpaca for 3 years up to today\n",
    "* Start with 10K, process one trade action per day for \"15 days\" (action window)\n",
    "* Predict one day at a time using previous day's data, having trained using \"number of days backwards\" (train window)\n",
    "* While testing the trade actions use the day's market average price of open, close, high and low; If the instruction is to buy, we spend \"the ticker's portion\", i.e., the 1/\"total number of tickers\" of current available cash; If to sell, we sell all shares\n",
    "* With multiple tickers action predicted, when the main ticker is not actionable, such as sell but no share, resort to the second ticker, then third, then forth, etc, to maximize the actions\n",
    "* Probe the 15 days leading to today\n",
    "* Move backwords one day at a time starting today, using the same sizes of train window and action window, run the training and prediction for 500 times\n",
    "* Plot the distribution of the 500 experiments\n",
    "\n",
    "## Define tickers\n",
    "\n",
    "So far we use 4 random ones AAPL, AMZN, MSFT and GOOG. It would be easy to search and find other better tickers once we have the process built, and measurement decided\n",
    "\n",
    "## Analysis for the algo\n",
    "\n",
    "So far we use the simplest logic on volume weighted average price (vwap) changes for one day (daily return): gone down, buy; gone up, sell. Although we have the analysis step built in - looking for correlations amongst daily return, once and twice lagged daily return, there is not enough time for this project to try and find better curves and better logic. \n",
    "![curve for clue](Image/algo_trade_curve_for_clue.png)\n",
    " \n",
    "## Support Vector Machine in 3 different ways\n",
    "\n",
    "### Regression train for 90 days over once and twice lagged daily return (A)\n",
    "![action a](Image/algo_trade_action_a.png)\n",
    "\n",
    "![distribution a](Image/algo_trade_distribution_a.png)\n",
    "\n",
    "### Classification train for 90 days over all data columns scaled with StandardScaler (B)\n",
    "![action b](Image/algo_trade_action_b.png)\n",
    "\n",
    "![distribution b](Image/algo_trade_distribution_b.png)\n",
    "\n",
    "### Regression train for 45 days over all data columns percentage change (C)\n",
    "![action c](Image/algo_trade_action_c.png)\n",
    "\n",
    "![distribution c](Image/algo_trade_distribution_c.png)\n",
    "\n",
    "## Random trade actions \n",
    "![action random](Image/algo_trade_action_random.png)\n",
    "\n",
    "![distribution random](Image/algo_trade_distribution_random.png)\n",
    "\n",
    "## Conclusion\n",
    "\n",
    "For now it does not appear that any sure conclusion can be drawn. The method A shows the most chances to make some profit while slightly lower chance to lose; Method B looks like the random distrubution, slightly to the profit side; Method C shows more chance to make more profit, though all are low. \n",
    "\n",
    "We will go next steps including:\n",
    "* Incoporate our primal ML models out from teammate's study\n",
    "* Find better curves of ticker\n",
    "* Refine algos to incoporate more parameters\n",
    "\n",
    "## Major steps\n",
    "\n",
    "* Train - where to plug in the ML model\n",
    "```\n",
    "def ML_pred_a( cycle ):\n",
    "    \"\"\" one cycle of n_dates_for_training + 15 days, using SVR directly on vwap pct_change \"\"\"\n",
    "   \n",
    "    # use lagged returns to train SVM\n",
    "    data = cycle.loc[:, ['lagged_daily_return', 'twice_lagged']]\n",
    "    label = cycle['signal']\n",
    "    instrs = pd.DataFrame()\n",
    "    model = svm.SVR()\n",
    "    \n",
    "    # rolling train for 30 days then predict 1 day, 15 cycles for 15 instructions\n",
    "    for instri in range(0,15):\n",
    "        iloc_to = instri + 90\n",
    "        X = data.iloc[:iloc_to,:]\n",
    "        y = label.iloc[:iloc_to]\n",
    "        model.fit(X, y)\n",
    "        signal = model.predict(data.iloc[iloc_to:iloc_to+1,:])\n",
    "        \n",
    "        if signal > 0:\n",
    "            instr = 1\n",
    "        else:\n",
    "            instr = -1\n",
    "        one_row = pd.DataFrame([[cycle.index[iloc_to].date(), instr]])\n",
    "        instrs = pd.concat([instrs,one_row], join='outer')\n",
    "        \n",
    "    return instrs\n",
    "```\n",
    "\n",
    "* Predict - multi-ticker actions\n",
    "\n",
    "![predicted actions](Image/algo_trade_predicted_action.png)\n",
    "\n",
    "* Form instructions - one action per day\n",
    "\n",
    "![actionable](Image/algo_trade_actionable.png)\n",
    "\n",
    "* Action\n",
    "* Plot distribution\n"
   ]
  },
  {
   "cell_type": "code",
   "execution_count": 566,
   "id": "c316ca47-ac27-4dc6-af55-447b01f30af2",
   "metadata": {},
   "outputs": [],
   "source": [
    "import numpy as np\n",
    "import pandas as pd\n",
    "from dotenv import load_dotenv\n",
    "import os\n",
    "import alpaca_trade_api as tradeapi\n",
    "from trade import trade_action\n",
    "from datetime import datetime, timedelta\n",
    "from sklearn import svm"
   ]
  },
  {
   "cell_type": "code",
   "execution_count": 567,
   "id": "f6a2b42a-3130-4dc0-afe5-44644ccb76d7",
   "metadata": {},
   "outputs": [],
   "source": [
    "def market_data( start, end, tickers ):\n",
    "    load_dotenv()\n",
    "    alpaca_api_key = os.getenv('ALPACA_API_KEY')\n",
    "    alpaca_secret_key = os.getenv('ALPACA_SECRET_KEY')\n",
    "\n",
    "    # Create the Alpaca API object\n",
    "    alpaca_api = tradeapi.REST(\n",
    "       alpaca_api_key,\n",
    "       alpaca_secret_key,\n",
    "       api_version = 'v2'\n",
    "    )\n",
    "    \n",
    "    # Set timeframe to \"1Day\" for Alpaca API\n",
    "    timeframe = \"1Day\"\n",
    "    \n",
    "    start_date = pd.Timestamp(start,tz='America/New_York')\n",
    "    end_date = pd.Timestamp(end,tz='America/New_York')\n",
    "           \n",
    "    # Get number_of_years' worth of historical data for tickers\n",
    "    data_df = alpaca_api.get_bars(\n",
    "        tickers,\n",
    "        timeframe,\n",
    "        start = start_date.isoformat(),\n",
    "        end = end_date.isoformat()\n",
    "    ).df\n",
    "    if len(data_df) == 0:\n",
    "        return []\n",
    "    return data_df\n",
    "\n",
    "#df_market = market_data( '2023-08-01', '2023-08-21', tickers=['TSLA'] )"
   ]
  },
  {
   "cell_type": "code",
   "execution_count": 484,
   "id": "dd7d9470-d2f9-4533-aa8d-986d3d0327af",
   "metadata": {},
   "outputs": [],
   "source": [
    "def derive_instr( instrs ):\n",
    "    buffer = [0]*4\n",
    "    instr_df = pd.DataFrame()\n",
    "    for index, instr in instrs.iterrows():\n",
    "        #print(index, buffer, instr)\n",
    "        one_row = pd.DataFrame()\n",
    "        for idx in range(4):\n",
    "            if buffer[idx]==1 and instr[idx]==-1:\n",
    "                #print('In sell:', index, idx, -1)\n",
    "                one_row = pd.DataFrame([[index, instr.index[idx], -1]])\n",
    "                buffer[idx]=-1\n",
    "                break\n",
    "            elif buffer[idx]!=1 and instr[idx]==1:\n",
    "                #print('In buy:',index, idx, 1)\n",
    "                one_row = pd.DataFrame([[index, instr.index[idx], 1]])\n",
    "                buffer[idx]=1\n",
    "                break\n",
    "\n",
    "        if len(one_row) == 0:\n",
    "            one_row = pd.DataFrame([[index, instr.index[0], 0]])\n",
    "        instr_df = pd.concat([instr_df, one_row])\n",
    "    \n",
    "    return instr_df"
   ]
  },
  {
   "cell_type": "markdown",
   "id": "8726a119-7614-4a62-85c0-8e1176bc6bb8",
   "metadata": {},
   "source": [
    "# my main"
   ]
  },
  {
   "cell_type": "markdown",
   "id": "0020335a-d30a-4919-bd77-2c9cd615c60f",
   "metadata": {},
   "source": [
    "## 1. get market data"
   ]
  },
  {
   "cell_type": "code",
   "execution_count": 568,
   "id": "67ceb05a-2f21-4126-ac69-ff5c026e93c7",
   "metadata": {},
   "outputs": [],
   "source": [
    "today = datetime.today().date()\n",
    "tickers = ['AAPL', 'AMZN', 'MSFT', 'GOOG']\n",
    "date_from = today - timedelta(days=365*3)\n",
    "data_df = market_data(date_from, today, tickers)\n",
    "\n",
    "dfs = {}\n",
    "for ticker in tickers:\n",
    "    df = data_df[data_df['symbol']==ticker]\n",
    "    dfs[ticker] = df\n",
    "                "
   ]
  },
  {
   "cell_type": "markdown",
   "id": "28d50642-71a9-443c-b396-1a8dc71e2367",
   "metadata": {},
   "source": [
    "## 2. prep data for algo"
   ]
  },
  {
   "cell_type": "code",
   "execution_count": 569,
   "id": "a4c5fa8d-b1e4-4810-a509-d83186a36663",
   "metadata": {},
   "outputs": [
    {
     "data": {},
     "metadata": {},
     "output_type": "display_data"
    },
    {
     "data": {
      "application/vnd.holoviews_exec.v0+json": "",
      "text/html": [
       "<div id='43268'>\n",
       "  <div class=\"bk-root\" id=\"3f2c80a4-e56e-49c9-a6ef-dc55311ede01\" data-root-id=\"43268\"></div>\n",
       "</div>\n",
       "<script type=\"application/javascript\">(function(root) {\n",
       "  function embed_document(root) {\n",
       "    var docs_json = {\"43447943-13ea-479f-8a72-ae75d9885b92\":{\"defs\":[{\"extends\":null,\"module\":null,\"name\":\"ReactiveHTML1\",\"overrides\":[],\"properties\":[]},{\"extends\":null,\"module\":null,\"name\":\"FlexBox1\",\"overrides\":[],\"properties\":[{\"default\":\"flex-start\",\"kind\":null,\"name\":\"align_content\"},{\"default\":\"flex-start\",\"kind\":null,\"name\":\"align_items\"},{\"default\":\"row\",\"kind\":null,\"name\":\"flex_direction\"},{\"default\":\"wrap\",\"kind\":null,\"name\":\"flex_wrap\"},{\"default\":\"flex-start\",\"kind\":null,\"name\":\"justify_content\"}]},{\"extends\":null,\"module\":null,\"name\":\"GridStack1\",\"overrides\":[],\"properties\":[{\"default\":\"warn\",\"kind\":null,\"name\":\"mode\"},{\"default\":null,\"kind\":null,\"name\":\"ncols\"},{\"default\":null,\"kind\":null,\"name\":\"nrows\"},{\"default\":true,\"kind\":null,\"name\":\"allow_resize\"},{\"default\":true,\"kind\":null,\"name\":\"allow_drag\"},{\"default\":[],\"kind\":null,\"name\":\"state\"}]},{\"extends\":null,\"module\":null,\"name\":\"click1\",\"overrides\":[],\"properties\":[{\"default\":\"\",\"kind\":null,\"name\":\"terminal_output\"},{\"default\":\"\",\"kind\":null,\"name\":\"debug_name\"},{\"default\":0,\"kind\":null,\"name\":\"clears\"}]},{\"extends\":null,\"module\":null,\"name\":\"NotificationAreaBase1\",\"overrides\":[],\"properties\":[{\"default\":\"bottom-right\",\"kind\":null,\"name\":\"position\"},{\"default\":0,\"kind\":null,\"name\":\"_clear\"}]},{\"extends\":null,\"module\":null,\"name\":\"NotificationArea1\",\"overrides\":[],\"properties\":[{\"default\":[],\"kind\":null,\"name\":\"notifications\"},{\"default\":\"bottom-right\",\"kind\":null,\"name\":\"position\"},{\"default\":0,\"kind\":null,\"name\":\"_clear\"},{\"default\":[{\"background\":\"#ffc107\",\"icon\":{\"className\":\"fas fa-exclamation-triangle\",\"color\":\"white\",\"tagName\":\"i\"},\"type\":\"warning\"},{\"background\":\"#007bff\",\"icon\":{\"className\":\"fas fa-info-circle\",\"color\":\"white\",\"tagName\":\"i\"},\"type\":\"info\"}],\"kind\":null,\"name\":\"types\"}]},{\"extends\":null,\"module\":null,\"name\":\"Notification\",\"overrides\":[],\"properties\":[{\"default\":null,\"kind\":null,\"name\":\"background\"},{\"default\":3000,\"kind\":null,\"name\":\"duration\"},{\"default\":null,\"kind\":null,\"name\":\"icon\"},{\"default\":\"\",\"kind\":null,\"name\":\"message\"},{\"default\":null,\"kind\":null,\"name\":\"notification_type\"},{\"default\":false,\"kind\":null,\"name\":\"_destroyed\"}]},{\"extends\":null,\"module\":null,\"name\":\"TemplateActions1\",\"overrides\":[],\"properties\":[{\"default\":0,\"kind\":null,\"name\":\"open_modal\"},{\"default\":0,\"kind\":null,\"name\":\"close_modal\"}]},{\"extends\":null,\"module\":null,\"name\":\"MaterialTemplateActions1\",\"overrides\":[],\"properties\":[{\"default\":0,\"kind\":null,\"name\":\"open_modal\"},{\"default\":0,\"kind\":null,\"name\":\"close_modal\"}]}],\"roots\":{\"references\":[{\"attributes\":{\"callback\":null,\"formatters\":{\"@{timestamp}\":\"datetime\"},\"renderers\":[{\"id\":\"43316\"},{\"id\":\"43349\"},{\"id\":\"43383\"}],\"tags\":[\"hv_created\"],\"tooltips\":[[\"Variable\",\"@{Variable}\"],[\"timestamp\",\"@{timestamp}{%F %T}\"],[\"value\",\"@{value}\"]]},\"id\":\"43271\",\"type\":\"HoverTool\"},{\"attributes\":{},\"id\":\"43306\",\"type\":\"AllLabels\"},{\"attributes\":{\"label\":{\"value\":\"lagged_daily_return\"},\"renderers\":[{\"id\":\"43349\"}]},\"id\":\"43375\",\"type\":\"LegendItem\"},{\"attributes\":{\"coordinates\":null,\"data_source\":{\"id\":\"43310\"},\"glyph\":{\"id\":\"43313\"},\"group\":null,\"hover_glyph\":null,\"muted_glyph\":{\"id\":\"43315\"},\"nonselection_glyph\":{\"id\":\"43314\"},\"selection_glyph\":{\"id\":\"43342\"},\"view\":{\"id\":\"43317\"}},\"id\":\"43316\",\"type\":\"GlyphRenderer\"},{\"attributes\":{\"months\":[0,6]},\"id\":\"43338\",\"type\":\"MonthsTicker\"},{\"attributes\":{},\"id\":\"43339\",\"type\":\"YearsTicker\"},{\"attributes\":{\"data\":{\"Variable\":[\"lagged_daily_return\",\"lagged_daily_return\",\"lagged_daily_return\",\"lagged_daily_return\",\"lagged_daily_return\",\"lagged_daily_return\",\"lagged_daily_return\",\"lagged_daily_return\",\"lagged_daily_return\",\"lagged_daily_return\",\"lagged_daily_return\",\"lagged_daily_return\",\"lagged_daily_return\",\"lagged_daily_return\",\"lagged_daily_return\",\"lagged_daily_return\",\"lagged_daily_return\",\"lagged_daily_return\",\"lagged_daily_return\",\"lagged_daily_return\",\"lagged_daily_return\",\"lagged_daily_return\",\"lagged_daily_return\",\"lagged_daily_return\",\"lagged_daily_return\",\"lagged_daily_return\",\"lagged_daily_return\",\"lagged_daily_return\",\"lagged_daily_return\",\"lagged_daily_return\",\"lagged_daily_return\",\"lagged_daily_return\",\"lagged_daily_return\",\"lagged_daily_return\",\"lagged_daily_return\",\"lagged_daily_return\",\"lagged_daily_return\",\"lagged_daily_return\",\"lagged_daily_return\",\"lagged_daily_return\",\"lagged_daily_return\",\"lagged_daily_return\",\"lagged_daily_return\",\"lagged_daily_return\",\"lagged_daily_return\",\"lagged_daily_return\",\"lagged_daily_return\",\"lagged_daily_return\",\"lagged_daily_return\",\"lagged_daily_return\",\"lagged_daily_return\",\"lagged_daily_return\",\"lagged_daily_return\",\"lagged_daily_return\",\"lagged_daily_return\",\"lagged_daily_return\",\"lagged_daily_return\",\"lagged_daily_return\",\"lagged_daily_return\",\"lagged_daily_return\",\"lagged_daily_return\",\"lagged_daily_return\",\"lagged_daily_return\",\"lagged_daily_return\",\"lagged_daily_return\",\"lagged_daily_return\",\"lagged_daily_return\",\"lagged_daily_return\",\"lagged_daily_return\",\"lagged_daily_return\",\"lagged_daily_return\",\"lagged_daily_return\",\"lagged_daily_return\",\"lagged_daily_return\",\"lagged_daily_return\",\"lagged_daily_return\",\"lagged_daily_return\",\"lagged_daily_return\",\"lagged_daily_return\",\"lagged_daily_return\",\"lagged_daily_return\",\"lagged_daily_return\",\"lagged_daily_return\",\"lagged_daily_return\",\"lagged_daily_return\",\"lagged_daily_return\",\"lagged_daily_return\",\"lagged_daily_return\",\"lagged_daily_return\",\"lagged_daily_return\",\"lagged_daily_return\",\"lagged_daily_return\",\"lagged_daily_return\",\"lagged_daily_return\",\"lagged_daily_return\",\"lagged_daily_return\",\"lagged_daily_return\",\"lagged_daily_return\",\"lagged_daily_return\",\"lagged_daily_return\",\"lagged_daily_return\",\"lagged_daily_return\",\"lagged_daily_return\",\"lagged_daily_return\",\"lagged_daily_return\",\"lagged_daily_return\",\"lagged_daily_return\",\"lagged_daily_return\",\"lagged_daily_return\",\"lagged_daily_return\",\"lagged_daily_return\",\"lagged_daily_return\",\"lagged_daily_return\",\"lagged_daily_return\",\"lagged_daily_return\",\"lagged_daily_return\",\"lagged_daily_return\",\"lagged_daily_return\",\"lagged_daily_return\",\"lagged_daily_return\",\"lagged_daily_return\",\"lagged_daily_return\",\"lagged_daily_return\",\"lagged_daily_return\",\"lagged_daily_return\",\"lagged_daily_return\",\"lagged_daily_return\",\"lagged_daily_return\",\"lagged_daily_return\",\"lagged_daily_return\",\"lagged_daily_return\",\"lagged_daily_return\",\"lagged_daily_return\",\"lagged_daily_return\",\"lagged_daily_return\",\"lagged_daily_return\",\"lagged_daily_return\",\"lagged_daily_return\",\"lagged_daily_return\",\"lagged_daily_return\",\"lagged_daily_return\",\"lagged_daily_return\",\"lagged_daily_return\",\"lagged_daily_return\",\"lagged_daily_return\",\"lagged_daily_return\",\"lagged_daily_return\",\"lagged_daily_return\",\"lagged_daily_return\",\"lagged_daily_return\",\"lagged_daily_return\",\"lagged_daily_return\",\"lagged_daily_return\",\"lagged_daily_return\",\"lagged_daily_return\",\"lagged_daily_return\",\"lagged_daily_return\",\"lagged_daily_return\",\"lagged_daily_return\",\"lagged_daily_return\",\"lagged_daily_return\",\"lagged_daily_return\",\"lagged_daily_return\",\"lagged_daily_return\",\"lagged_daily_return\",\"lagged_daily_return\",\"lagged_daily_return\",\"lagged_daily_return\",\"lagged_daily_return\",\"lagged_daily_return\",\"lagged_daily_return\",\"lagged_daily_return\",\"lagged_daily_return\",\"lagged_daily_return\",\"lagged_daily_return\",\"lagged_daily_return\",\"lagged_daily_return\",\"lagged_daily_return\",\"lagged_daily_return\",\"lagged_daily_return\",\"lagged_daily_return\",\"lagged_daily_return\",\"lagged_daily_return\",\"lagged_daily_return\",\"lagged_daily_return\",\"lagged_daily_return\",\"lagged_daily_return\",\"lagged_daily_return\",\"lagged_daily_return\",\"lagged_daily_return\",\"lagged_daily_return\",\"lagged_daily_return\",\"lagged_daily_return\",\"lagged_daily_return\",\"lagged_daily_return\",\"lagged_daily_return\",\"lagged_daily_return\",\"lagged_daily_return\",\"lagged_daily_return\",\"lagged_daily_return\",\"lagged_daily_return\",\"lagged_daily_return\",\"lagged_daily_return\",\"lagged_daily_return\",\"lagged_daily_return\",\"lagged_daily_return\",\"lagged_daily_return\",\"lagged_daily_return\",\"lagged_daily_return\",\"lagged_daily_return\",\"lagged_daily_return\",\"lagged_daily_return\",\"lagged_daily_return\",\"lagged_daily_return\",\"lagged_daily_return\",\"lagged_daily_return\",\"lagged_daily_return\",\"lagged_daily_return\",\"lagged_daily_return\",\"lagged_daily_return\",\"lagged_daily_return\",\"lagged_daily_return\",\"lagged_daily_return\",\"lagged_daily_return\",\"lagged_daily_return\",\"lagged_daily_return\",\"lagged_daily_return\",\"lagged_daily_return\",\"lagged_daily_return\",\"lagged_daily_return\",\"lagged_daily_return\",\"lagged_daily_return\",\"lagged_daily_return\",\"lagged_daily_return\",\"lagged_daily_return\",\"lagged_daily_return\",\"lagged_daily_return\",\"lagged_daily_return\",\"lagged_daily_return\",\"lagged_daily_return\",\"lagged_daily_return\",\"lagged_daily_return\",\"lagged_daily_return\",\"lagged_daily_return\",\"lagged_daily_return\",\"lagged_daily_return\",\"lagged_daily_return\",\"lagged_daily_return\",\"lagged_daily_return\",\"lagged_daily_return\",\"lagged_daily_return\",\"lagged_daily_return\",\"lagged_daily_return\",\"lagged_daily_return\",\"lagged_daily_return\",\"lagged_daily_return\",\"lagged_daily_return\",\"lagged_daily_return\",\"lagged_daily_return\",\"lagged_daily_return\",\"lagged_daily_return\",\"lagged_daily_return\",\"lagged_daily_return\",\"lagged_daily_return\",\"lagged_daily_return\",\"lagged_daily_return\",\"lagged_daily_return\",\"lagged_daily_return\",\"lagged_daily_return\",\"lagged_daily_return\",\"lagged_daily_return\",\"lagged_daily_return\",\"lagged_daily_return\",\"lagged_daily_return\",\"lagged_daily_return\",\"lagged_daily_return\",\"lagged_daily_return\",\"lagged_daily_return\",\"lagged_daily_return\",\"lagged_daily_return\",\"lagged_daily_return\",\"lagged_daily_return\",\"lagged_daily_return\",\"lagged_daily_return\",\"lagged_daily_return\",\"lagged_daily_return\",\"lagged_daily_return\",\"lagged_daily_return\",\"lagged_daily_return\",\"lagged_daily_return\",\"lagged_daily_return\",\"lagged_daily_return\",\"lagged_daily_return\",\"lagged_daily_return\",\"lagged_daily_return\",\"lagged_daily_return\",\"lagged_daily_return\",\"lagged_daily_return\",\"lagged_daily_return\",\"lagged_daily_return\",\"lagged_daily_return\",\"lagged_daily_return\",\"lagged_daily_return\",\"lagged_daily_return\",\"lagged_daily_return\",\"lagged_daily_return\",\"lagged_daily_return\",\"lagged_daily_return\",\"lagged_daily_return\",\"lagged_daily_return\",\"lagged_daily_return\",\"lagged_daily_return\",\"lagged_daily_return\",\"lagged_daily_return\",\"lagged_daily_return\",\"lagged_daily_return\",\"lagged_daily_return\",\"lagged_daily_return\",\"lagged_daily_return\",\"lagged_daily_return\",\"lagged_daily_return\",\"lagged_daily_return\",\"lagged_daily_return\",\"lagged_daily_return\",\"lagged_daily_return\",\"lagged_daily_return\",\"lagged_daily_return\",\"lagged_daily_return\",\"lagged_daily_return\",\"lagged_daily_return\",\"lagged_daily_return\",\"lagged_daily_return\",\"lagged_daily_return\",\"lagged_daily_return\",\"lagged_daily_return\",\"lagged_daily_return\",\"lagged_daily_return\",\"lagged_daily_return\",\"lagged_daily_return\",\"lagged_daily_return\",\"lagged_daily_return\",\"lagged_daily_return\",\"lagged_daily_return\",\"lagged_daily_return\",\"lagged_daily_return\",\"lagged_daily_return\",\"lagged_daily_return\",\"lagged_daily_return\",\"lagged_daily_return\",\"lagged_daily_return\",\"lagged_daily_return\",\"lagged_daily_return\",\"lagged_daily_return\",\"lagged_daily_return\",\"lagged_daily_return\",\"lagged_daily_return\",\"lagged_daily_return\",\"lagged_daily_return\",\"lagged_daily_return\",\"lagged_daily_return\",\"lagged_daily_return\",\"lagged_daily_return\",\"lagged_daily_return\",\"lagged_daily_return\",\"lagged_daily_return\",\"lagged_daily_return\",\"lagged_daily_return\",\"lagged_daily_return\",\"lagged_daily_return\",\"lagged_daily_return\",\"lagged_daily_return\",\"lagged_daily_return\",\"lagged_daily_return\",\"lagged_daily_return\",\"lagged_daily_return\",\"lagged_daily_return\",\"lagged_daily_return\",\"lagged_daily_return\",\"lagged_daily_return\",\"lagged_daily_return\",\"lagged_daily_return\",\"lagged_daily_return\",\"lagged_daily_return\",\"lagged_daily_return\",\"lagged_daily_return\",\"lagged_daily_return\",\"lagged_daily_return\",\"lagged_daily_return\",\"lagged_daily_return\",\"lagged_daily_return\",\"lagged_daily_return\",\"lagged_daily_return\",\"lagged_daily_return\",\"lagged_daily_return\",\"lagged_daily_return\",\"lagged_daily_return\",\"lagged_daily_return\",\"lagged_daily_return\",\"lagged_daily_return\",\"lagged_daily_return\",\"lagged_daily_return\",\"lagged_daily_return\",\"lagged_daily_return\",\"lagged_daily_return\",\"lagged_daily_return\",\"lagged_daily_return\",\"lagged_daily_return\",\"lagged_daily_return\",\"lagged_daily_return\",\"lagged_daily_return\",\"lagged_daily_return\",\"lagged_daily_return\",\"lagged_daily_return\",\"lagged_daily_return\",\"lagged_daily_return\",\"lagged_daily_return\",\"lagged_daily_return\",\"lagged_daily_return\",\"lagged_daily_return\",\"lagged_daily_return\",\"lagged_daily_return\",\"lagged_daily_return\",\"lagged_daily_return\",\"lagged_daily_return\",\"lagged_daily_return\",\"lagged_daily_return\",\"lagged_daily_return\",\"lagged_daily_return\",\"lagged_daily_return\",\"lagged_daily_return\",\"lagged_daily_return\",\"lagged_daily_return\",\"lagged_daily_return\",\"lagged_daily_return\",\"lagged_daily_return\",\"lagged_daily_return\",\"lagged_daily_return\",\"lagged_daily_return\",\"lagged_daily_return\",\"lagged_daily_return\",\"lagged_daily_return\",\"lagged_daily_return\",\"lagged_daily_return\",\"lagged_daily_return\",\"lagged_daily_return\",\"lagged_daily_return\",\"lagged_daily_return\",\"lagged_daily_return\",\"lagged_daily_return\",\"lagged_daily_return\",\"lagged_daily_return\",\"lagged_daily_return\",\"lagged_daily_return\",\"lagged_daily_return\",\"lagged_daily_return\",\"lagged_daily_return\",\"lagged_daily_return\",\"lagged_daily_return\",\"lagged_daily_return\",\"lagged_daily_return\",\"lagged_daily_return\",\"lagged_daily_return\",\"lagged_daily_return\",\"lagged_daily_return\",\"lagged_daily_return\",\"lagged_daily_return\",\"lagged_daily_return\",\"lagged_daily_return\",\"lagged_daily_return\",\"lagged_daily_return\",\"lagged_daily_return\",\"lagged_daily_return\",\"lagged_daily_return\",\"lagged_daily_return\",\"lagged_daily_return\",\"lagged_daily_return\",\"lagged_daily_return\",\"lagged_daily_return\",\"lagged_daily_return\",\"lagged_daily_return\",\"lagged_daily_return\",\"lagged_daily_return\",\"lagged_daily_return\",\"lagged_daily_return\",\"lagged_daily_return\",\"lagged_daily_return\",\"lagged_daily_return\",\"lagged_daily_return\",\"lagged_daily_return\",\"lagged_daily_return\",\"lagged_daily_return\",\"lagged_daily_return\",\"lagged_daily_return\",\"lagged_daily_return\",\"lagged_daily_return\",\"lagged_daily_return\",\"lagged_daily_return\",\"lagged_daily_return\",\"lagged_daily_return\",\"lagged_daily_return\",\"lagged_daily_return\",\"lagged_daily_return\",\"lagged_daily_return\",\"lagged_daily_return\",\"lagged_daily_return\",\"lagged_daily_return\",\"lagged_daily_return\",\"lagged_daily_return\",\"lagged_daily_return\",\"lagged_daily_return\",\"lagged_daily_return\",\"lagged_daily_return\",\"lagged_daily_return\",\"lagged_daily_return\",\"lagged_daily_return\",\"lagged_daily_return\",\"lagged_daily_return\",\"lagged_daily_return\",\"lagged_daily_return\",\"lagged_daily_return\",\"lagged_daily_return\",\"lagged_daily_return\",\"lagged_daily_return\",\"lagged_daily_return\",\"lagged_daily_return\",\"lagged_daily_return\",\"lagged_daily_return\",\"lagged_daily_return\",\"lagged_daily_return\",\"lagged_daily_return\",\"lagged_daily_return\",\"lagged_daily_return\",\"lagged_daily_return\",\"lagged_daily_return\",\"lagged_daily_return\",\"lagged_daily_return\",\"lagged_daily_return\",\"lagged_daily_return\",\"lagged_daily_return\",\"lagged_daily_return\",\"lagged_daily_return\",\"lagged_daily_return\",\"lagged_daily_return\",\"lagged_daily_return\",\"lagged_daily_return\",\"lagged_daily_return\",\"lagged_daily_return\",\"lagged_daily_return\",\"lagged_daily_return\",\"lagged_daily_return\",\"lagged_daily_return\",\"lagged_daily_return\",\"lagged_daily_return\",\"lagged_daily_return\",\"lagged_daily_return\",\"lagged_daily_return\",\"lagged_daily_return\",\"lagged_daily_return\",\"lagged_daily_return\",\"lagged_daily_return\",\"lagged_daily_return\",\"lagged_daily_return\",\"lagged_daily_return\",\"lagged_daily_return\",\"lagged_daily_return\",\"lagged_daily_return\",\"lagged_daily_return\",\"lagged_daily_return\",\"lagged_daily_return\",\"lagged_daily_return\",\"lagged_daily_return\",\"lagged_daily_return\",\"lagged_daily_return\",\"lagged_daily_return\",\"lagged_daily_return\",\"lagged_daily_return\",\"lagged_daily_return\",\"lagged_daily_return\",\"lagged_daily_return\",\"lagged_daily_return\",\"lagged_daily_return\",\"lagged_daily_return\",\"lagged_daily_return\",\"lagged_daily_return\",\"lagged_daily_return\",\"lagged_daily_return\",\"lagged_daily_return\",\"lagged_daily_return\",\"lagged_daily_return\",\"lagged_daily_return\",\"lagged_daily_return\",\"lagged_daily_return\",\"lagged_daily_return\",\"lagged_daily_return\",\"lagged_daily_return\",\"lagged_daily_return\",\"lagged_daily_return\",\"lagged_daily_return\",\"lagged_daily_return\",\"lagged_daily_return\",\"lagged_daily_return\",\"lagged_daily_return\",\"lagged_daily_return\",\"lagged_daily_return\",\"lagged_daily_return\",\"lagged_daily_return\",\"lagged_daily_return\",\"lagged_daily_return\",\"lagged_daily_return\",\"lagged_daily_return\",\"lagged_daily_return\",\"lagged_daily_return\",\"lagged_daily_return\",\"lagged_daily_return\",\"lagged_daily_return\",\"lagged_daily_return\",\"lagged_daily_return\",\"lagged_daily_return\",\"lagged_daily_return\",\"lagged_daily_return\",\"lagged_daily_return\",\"lagged_daily_return\",\"lagged_daily_return\",\"lagged_daily_return\",\"lagged_daily_return\",\"lagged_daily_return\",\"lagged_daily_return\",\"lagged_daily_return\",\"lagged_daily_return\",\"lagged_daily_return\",\"lagged_daily_return\",\"lagged_daily_return\",\"lagged_daily_return\",\"lagged_daily_return\",\"lagged_daily_return\",\"lagged_daily_return\",\"lagged_daily_return\",\"lagged_daily_return\",\"lagged_daily_return\",\"lagged_daily_return\",\"lagged_daily_return\",\"lagged_daily_return\",\"lagged_daily_return\",\"lagged_daily_return\",\"lagged_daily_return\",\"lagged_daily_return\",\"lagged_daily_return\",\"lagged_daily_return\",\"lagged_daily_return\",\"lagged_daily_return\",\"lagged_daily_return\",\"lagged_daily_return\",\"lagged_daily_return\",\"lagged_daily_return\",\"lagged_daily_return\",\"lagged_daily_return\",\"lagged_daily_return\",\"lagged_daily_return\",\"lagged_daily_return\",\"lagged_daily_return\",\"lagged_daily_return\",\"lagged_daily_return\",\"lagged_daily_return\",\"lagged_daily_return\",\"lagged_daily_return\",\"lagged_daily_return\",\"lagged_daily_return\",\"lagged_daily_return\",\"lagged_daily_return\",\"lagged_daily_return\",\"lagged_daily_return\",\"lagged_daily_return\",\"lagged_daily_return\",\"lagged_daily_return\",\"lagged_daily_return\",\"lagged_daily_return\",\"lagged_daily_return\",\"lagged_daily_return\",\"lagged_daily_return\",\"lagged_daily_return\",\"lagged_daily_return\",\"lagged_daily_return\",\"lagged_daily_return\",\"lagged_daily_return\",\"lagged_daily_return\",\"lagged_daily_return\",\"lagged_daily_return\",\"lagged_daily_return\",\"lagged_daily_return\",\"lagged_daily_return\",\"lagged_daily_return\",\"lagged_daily_return\",\"lagged_daily_return\",\"lagged_daily_return\",\"lagged_daily_return\",\"lagged_daily_return\",\"lagged_daily_return\",\"lagged_daily_return\",\"lagged_daily_return\",\"lagged_daily_return\",\"lagged_daily_return\",\"lagged_daily_return\",\"lagged_daily_return\",\"lagged_daily_return\",\"lagged_daily_return\",\"lagged_daily_return\",\"lagged_daily_return\",\"lagged_daily_return\",\"lagged_daily_return\",\"lagged_daily_return\",\"lagged_daily_return\",\"lagged_daily_return\",\"lagged_daily_return\",\"lagged_daily_return\",\"lagged_daily_return\",\"lagged_daily_return\",\"lagged_daily_return\",\"lagged_daily_return\",\"lagged_daily_return\",\"lagged_daily_return\",\"lagged_daily_return\",\"lagged_daily_return\",\"lagged_daily_return\",\"lagged_daily_return\",\"lagged_daily_return\",\"lagged_daily_return\",\"lagged_daily_return\",\"lagged_daily_return\",\"lagged_daily_return\",\"lagged_daily_return\",\"lagged_daily_return\",\"lagged_daily_return\",\"lagged_daily_return\",\"lagged_daily_return\",\"lagged_daily_return\",\"lagged_daily_return\",\"lagged_daily_return\",\"lagged_daily_return\",\"lagged_daily_return\",\"lagged_daily_return\",\"lagged_daily_return\",\"lagged_daily_return\",\"lagged_daily_return\",\"lagged_daily_return\",\"lagged_daily_return\",\"lagged_daily_return\",\"lagged_daily_return\",\"lagged_daily_return\",\"lagged_daily_return\",\"lagged_daily_return\",\"lagged_daily_return\",\"lagged_daily_return\",\"lagged_daily_return\"],\"timestamp\":{\"__ndarray__\":\"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\",\"dtype\":\"float64\",\"order\":\"little\",\"shape\":[753]},\"value\":{\"__ndarray__\":\"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\",\"dtype\":\"float64\",\"order\":\"little\",\"shape\":[753]}},\"selected\":{\"id\":\"43344\"},\"selection_policy\":{\"id\":\"43360\"}},\"id\":\"43343\",\"type\":\"ColumnDataSource\"},{\"attributes\":{\"source\":{\"id\":\"43377\"}},\"id\":\"43384\",\"type\":\"CDSView\"},{\"attributes\":{\"below\":[{\"id\":\"43283\"}],\"center\":[{\"id\":\"43286\"},{\"id\":\"43290\"}],\"frame_width\":700,\"height\":300,\"left\":[{\"id\":\"43287\"}],\"margin\":[5,5,5,5],\"min_border_bottom\":10,\"min_border_left\":10,\"min_border_right\":10,\"min_border_top\":10,\"renderers\":[{\"id\":\"43316\"},{\"id\":\"43349\"},{\"id\":\"43383\"}],\"right\":[{\"id\":\"43340\"}],\"sizing_mode\":\"fixed\",\"title\":{\"id\":\"43275\"},\"toolbar\":{\"id\":\"43297\"},\"width\":null,\"x_range\":{\"id\":\"43269\"},\"x_scale\":{\"id\":\"43279\"},\"y_range\":{\"id\":\"43270\"},\"y_scale\":{\"id\":\"43281\"}},\"id\":\"43274\",\"subtype\":\"Figure\",\"type\":\"Plot\"},{\"attributes\":{\"axis\":{\"id\":\"43283\"},\"coordinates\":null,\"grid_line_color\":null,\"group\":null,\"ticker\":null},\"id\":\"43286\",\"type\":\"Grid\"},{\"attributes\":{},\"id\":\"43396\",\"type\":\"UnionRenderers\"},{\"attributes\":{},\"id\":\"43325\",\"type\":\"UnionRenderers\"},{\"attributes\":{\"data\":{\"Variable\":[\"daily_return\",\"daily_return\",\"daily_return\",\"daily_return\",\"daily_return\",\"daily_return\",\"daily_return\",\"daily_return\",\"daily_return\",\"daily_return\",\"daily_return\",\"daily_return\",\"daily_return\",\"daily_return\",\"daily_return\",\"daily_return\",\"daily_return\",\"daily_return\",\"daily_return\",\"daily_return\",\"daily_return\",\"daily_return\",\"daily_return\",\"daily_return\",\"daily_return\",\"daily_return\",\"daily_return\",\"daily_return\",\"daily_return\",\"daily_return\",\"daily_return\",\"daily_return\",\"daily_return\",\"daily_return\",\"daily_return\",\"daily_return\",\"daily_return\",\"daily_return\",\"daily_return\",\"daily_return\",\"daily_return\",\"daily_return\",\"daily_return\",\"daily_return\",\"daily_return\",\"daily_return\",\"daily_return\",\"daily_return\",\"daily_return\",\"daily_return\",\"daily_return\",\"daily_return\",\"daily_return\",\"daily_return\",\"daily_return\",\"daily_return\",\"daily_return\",\"daily_return\",\"daily_return\",\"daily_return\",\"daily_return\",\"daily_return\",\"daily_return\",\"daily_return\",\"daily_return\",\"daily_return\",\"daily_return\",\"daily_return\",\"daily_return\",\"daily_return\",\"daily_return\",\"daily_return\",\"daily_return\",\"daily_return\",\"daily_return\",\"daily_return\",\"daily_return\",\"daily_return\",\"daily_return\",\"daily_return\",\"daily_return\",\"daily_return\",\"daily_return\",\"daily_return\",\"daily_return\",\"daily_return\",\"daily_return\",\"daily_return\",\"daily_return\",\"daily_return\",\"daily_return\",\"daily_return\",\"daily_return\",\"daily_return\",\"daily_return\",\"daily_return\",\"daily_return\",\"daily_return\",\"daily_return\",\"daily_return\",\"daily_return\",\"daily_return\",\"daily_return\",\"daily_return\",\"daily_return\",\"daily_return\",\"daily_return\",\"daily_return\",\"daily_return\",\"daily_return\",\"daily_return\",\"daily_return\",\"daily_return\",\"daily_return\",\"daily_return\",\"daily_return\",\"daily_return\",\"daily_return\",\"daily_return\",\"daily_return\",\"daily_return\",\"daily_return\",\"daily_return\",\"daily_return\",\"daily_return\",\"daily_return\",\"daily_return\",\"daily_return\",\"daily_return\",\"daily_return\",\"daily_return\",\"daily_return\",\"daily_return\",\"daily_return\",\"daily_return\",\"daily_return\",\"daily_return\",\"daily_return\",\"daily_return\",\"daily_return\",\"daily_return\",\"daily_return\",\"daily_return\",\"daily_return\",\"daily_return\",\"daily_return\",\"daily_return\",\"daily_return\",\"daily_return\",\"daily_return\",\"daily_return\",\"daily_return\",\"daily_return\",\"daily_return\",\"daily_return\",\"daily_return\",\"daily_return\",\"daily_return\",\"daily_return\",\"daily_return\",\"daily_return\",\"daily_return\",\"daily_return\",\"daily_return\",\"daily_return\",\"daily_return\",\"daily_return\",\"daily_return\",\"daily_return\",\"daily_return\",\"daily_return\",\"daily_return\",\"daily_return\",\"daily_return\",\"daily_return\",\"daily_return\",\"daily_return\",\"daily_return\",\"daily_return\",\"daily_return\",\"daily_return\",\"daily_return\",\"daily_return\",\"daily_return\",\"daily_return\",\"daily_return\",\"daily_return\",\"daily_return\",\"daily_return\",\"daily_return\",\"daily_return\",\"daily_return\",\"daily_return\",\"daily_return\",\"daily_return\",\"daily_return\",\"daily_return\",\"daily_return\",\"daily_return\",\"daily_return\",\"daily_return\",\"daily_return\",\"daily_return\",\"daily_return\",\"daily_return\",\"daily_return\",\"daily_return\",\"daily_return\",\"daily_return\",\"daily_return\",\"daily_return\",\"daily_return\",\"daily_return\",\"daily_return\",\"daily_return\",\"daily_return\",\"daily_return\",\"daily_return\",\"daily_return\",\"daily_return\",\"daily_return\",\"daily_return\",\"daily_return\",\"daily_return\",\"daily_return\",\"daily_return\",\"daily_return\",\"daily_return\",\"daily_return\",\"daily_return\",\"daily_return\",\"daily_return\",\"daily_return\",\"daily_return\",\"daily_return\",\"daily_return\",\"daily_return\",\"daily_return\",\"daily_return\",\"daily_return\",\"daily_return\",\"daily_return\",\"daily_return\",\"daily_return\",\"daily_return\",\"daily_return\",\"daily_return\",\"daily_return\",\"daily_return\",\"daily_return\",\"daily_return\",\"daily_return\",\"daily_return\",\"daily_return\",\"daily_return\",\"daily_return\",\"daily_return\",\"daily_return\",\"daily_return\",\"daily_return\",\"daily_return\",\"daily_return\",\"daily_return\",\"daily_return\",\"daily_return\",\"daily_return\",\"daily_return\",\"daily_return\",\"daily_return\",\"daily_return\",\"daily_return\",\"daily_return\",\"daily_return\",\"daily_return\",\"daily_return\",\"daily_return\",\"daily_return\",\"daily_return\",\"daily_return\",\"daily_return\",\"daily_return\",\"daily_return\",\"daily_return\",\"daily_return\",\"daily_return\",\"daily_return\",\"daily_return\",\"daily_return\",\"daily_return\",\"daily_return\",\"daily_return\",\"daily_return\",\"daily_return\",\"daily_return\",\"daily_return\",\"daily_return\",\"daily_return\",\"daily_return\",\"daily_return\",\"daily_return\",\"daily_return\",\"daily_return\",\"daily_return\",\"daily_return\",\"daily_return\",\"daily_return\",\"daily_return\",\"daily_return\",\"daily_return\",\"daily_return\",\"daily_return\",\"daily_return\",\"daily_return\",\"daily_return\",\"daily_return\",\"daily_return\",\"daily_return\",\"daily_return\",\"daily_return\",\"daily_return\",\"daily_return\",\"daily_return\",\"daily_return\",\"daily_return\",\"daily_return\",\"daily_return\",\"daily_return\",\"daily_return\",\"daily_return\",\"daily_return\",\"daily_return\",\"daily_return\",\"daily_return\",\"daily_return\",\"daily_return\",\"daily_return\",\"daily_return\",\"daily_return\",\"daily_return\",\"daily_return\",\"daily_return\",\"daily_return\",\"daily_return\",\"daily_return\",\"daily_return\",\"daily_return\",\"daily_return\",\"daily_return\",\"daily_return\",\"daily_return\",\"daily_return\",\"daily_return\",\"daily_return\",\"daily_return\",\"daily_return\",\"daily_return\",\"daily_return\",\"daily_return\",\"daily_return\",\"daily_return\",\"daily_return\",\"daily_return\",\"daily_return\",\"daily_return\",\"daily_return\",\"daily_return\",\"daily_return\",\"daily_return\",\"daily_return\",\"daily_return\",\"daily_return\",\"daily_return\",\"daily_return\",\"daily_return\",\"daily_return\",\"daily_return\",\"daily_return\",\"daily_return\",\"daily_return\",\"daily_return\",\"daily_return\",\"daily_return\",\"daily_return\",\"daily_return\",\"daily_return\",\"daily_return\",\"daily_return\",\"daily_return\",\"daily_return\",\"daily_return\",\"daily_return\",\"daily_return\",\"daily_return\",\"daily_return\",\"daily_return\",\"daily_return\",\"daily_return\",\"daily_return\",\"daily_return\",\"daily_return\",\"daily_return\",\"daily_return\",\"daily_return\",\"daily_return\",\"daily_return\",\"daily_return\",\"daily_return\",\"daily_return\",\"daily_return\",\"daily_return\",\"daily_return\",\"daily_return\",\"daily_return\",\"daily_return\",\"daily_return\",\"daily_return\",\"daily_return\",\"daily_return\",\"daily_return\",\"daily_return\",\"daily_return\",\"daily_return\",\"daily_return\",\"daily_return\",\"daily_return\",\"daily_return\",\"daily_return\",\"daily_return\",\"daily_return\",\"daily_return\",\"daily_return\",\"daily_return\",\"daily_return\",\"daily_return\",\"daily_return\",\"daily_return\",\"daily_return\",\"daily_return\",\"daily_return\",\"daily_return\",\"daily_return\",\"daily_return\",\"daily_return\",\"daily_return\",\"daily_return\",\"daily_return\",\"daily_return\",\"daily_return\",\"daily_return\",\"daily_return\",\"daily_return\",\"daily_return\",\"daily_return\",\"daily_return\",\"daily_return\",\"daily_return\",\"daily_return\",\"daily_return\",\"daily_return\",\"daily_return\",\"daily_return\",\"daily_return\",\"daily_return\",\"daily_return\",\"daily_return\",\"daily_return\",\"daily_return\",\"daily_return\",\"daily_return\",\"daily_return\",\"daily_return\",\"daily_return\",\"daily_return\",\"daily_return\",\"daily_return\",\"daily_return\",\"daily_return\",\"daily_return\",\"daily_return\",\"daily_return\",\"daily_return\",\"daily_return\",\"daily_return\",\"daily_return\",\"daily_return\",\"daily_return\",\"daily_return\",\"daily_return\",\"daily_return\",\"daily_return\",\"daily_return\",\"daily_return\",\"daily_return\",\"daily_return\",\"daily_return\",\"daily_return\",\"daily_return\",\"daily_return\",\"daily_return\",\"daily_return\",\"daily_return\",\"daily_return\",\"daily_return\",\"daily_return\",\"daily_return\",\"daily_return\",\"daily_return\",\"daily_return\",\"daily_return\",\"daily_return\",\"daily_return\",\"daily_return\",\"daily_return\",\"daily_return\",\"daily_return\",\"daily_return\",\"daily_return\",\"daily_return\",\"daily_return\",\"daily_return\",\"daily_return\",\"daily_return\",\"daily_return\",\"daily_return\",\"daily_return\",\"daily_return\",\"daily_return\",\"daily_return\",\"daily_return\",\"daily_return\",\"daily_return\",\"daily_return\",\"daily_return\",\"daily_return\",\"daily_return\",\"daily_return\",\"daily_return\",\"daily_return\",\"daily_return\",\"daily_return\",\"daily_return\",\"daily_return\",\"daily_return\",\"daily_return\",\"daily_return\",\"daily_return\",\"daily_return\",\"daily_return\",\"daily_return\",\"daily_return\",\"daily_return\",\"daily_return\",\"daily_return\",\"daily_return\",\"daily_return\",\"daily_return\",\"daily_return\",\"daily_return\",\"daily_return\",\"daily_return\",\"daily_return\",\"daily_return\",\"daily_return\",\"daily_return\",\"daily_return\",\"daily_return\",\"daily_return\",\"daily_return\",\"daily_return\",\"daily_return\",\"daily_return\",\"daily_return\",\"daily_return\",\"daily_return\",\"daily_return\",\"daily_return\",\"daily_return\",\"daily_return\",\"daily_return\",\"daily_return\",\"daily_return\",\"daily_return\",\"daily_return\",\"daily_return\",\"daily_return\",\"daily_return\",\"daily_return\",\"daily_return\",\"daily_return\",\"daily_return\",\"daily_return\",\"daily_return\",\"daily_return\",\"daily_return\",\"daily_return\",\"daily_return\",\"daily_return\",\"daily_return\",\"daily_return\",\"daily_return\",\"daily_return\",\"daily_return\",\"daily_return\",\"daily_return\",\"daily_return\",\"daily_return\",\"daily_return\",\"daily_return\",\"daily_return\",\"daily_return\",\"daily_return\",\"daily_return\",\"daily_return\",\"daily_return\",\"daily_return\",\"daily_return\",\"daily_return\",\"daily_return\",\"daily_return\",\"daily_return\",\"daily_return\",\"daily_return\",\"daily_return\",\"daily_return\",\"daily_return\",\"daily_return\",\"daily_return\",\"daily_return\",\"daily_return\",\"daily_return\",\"daily_return\",\"daily_return\",\"daily_return\",\"daily_return\",\"daily_return\",\"daily_return\",\"daily_return\",\"daily_return\",\"daily_return\",\"daily_return\",\"daily_return\",\"daily_return\",\"daily_return\",\"daily_return\",\"daily_return\",\"daily_return\",\"daily_return\",\"daily_return\",\"daily_return\",\"daily_return\",\"daily_return\",\"daily_return\",\"daily_return\",\"daily_return\",\"daily_return\",\"daily_return\",\"daily_return\",\"daily_return\",\"daily_return\",\"daily_return\",\"daily_return\",\"daily_return\",\"daily_return\",\"daily_return\",\"daily_return\",\"daily_return\",\"daily_return\",\"daily_return\",\"daily_return\",\"daily_return\",\"daily_return\",\"daily_return\",\"daily_return\",\"daily_return\",\"daily_return\",\"daily_return\",\"daily_return\",\"daily_return\",\"daily_return\",\"daily_return\",\"daily_return\",\"daily_return\",\"daily_return\",\"daily_return\",\"daily_return\",\"daily_return\",\"daily_return\",\"daily_return\",\"daily_return\",\"daily_return\",\"daily_return\",\"daily_return\",\"daily_return\",\"daily_return\",\"daily_return\",\"daily_return\",\"daily_return\",\"daily_return\",\"daily_return\",\"daily_return\",\"daily_return\",\"daily_return\",\"daily_return\",\"daily_return\",\"daily_return\",\"daily_return\",\"daily_return\",\"daily_return\",\"daily_return\",\"daily_return\",\"daily_return\",\"daily_return\",\"daily_return\",\"daily_return\",\"daily_return\",\"daily_return\",\"daily_return\",\"daily_return\",\"daily_return\",\"daily_return\",\"daily_return\",\"daily_return\",\"daily_return\",\"daily_return\",\"daily_return\",\"daily_return\",\"daily_return\",\"daily_return\",\"daily_return\",\"daily_return\",\"daily_return\",\"daily_return\",\"daily_return\",\"daily_return\",\"daily_return\",\"daily_return\",\"daily_return\",\"daily_return\",\"daily_return\",\"daily_return\",\"daily_return\",\"daily_return\",\"daily_return\",\"daily_return\",\"daily_return\",\"daily_return\",\"daily_return\",\"daily_return\",\"daily_return\",\"daily_return\",\"daily_return\",\"daily_return\",\"daily_return\"],\"timestamp\":{\"__ndarray__\":\"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\",\"dtype\":\"float64\",\"order\":\"little\",\"shape\":[753]},\"value\":{\"__ndarray__\":\"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\",\"dtype\":\"float64\",\"order\":\"little\",\"shape\":[753]}},\"selected\":{\"id\":\"43311\"},\"selection_policy\":{\"id\":\"43325\"}},\"id\":\"43310\",\"type\":\"ColumnDataSource\"},{\"attributes\":{\"line_alpha\":0.2,\"line_color\":\"#30a2da\",\"line_width\":2,\"x\":{\"field\":\"timestamp\"},\"y\":{\"field\":\"value\"}},\"id\":\"43315\",\"type\":\"Line\"},{\"attributes\":{},\"id\":\"43281\",\"type\":\"LinearScale\"},{\"attributes\":{\"line_alpha\":0.1,\"line_color\":\"#e5ae38\",\"line_width\":2,\"x\":{\"field\":\"timestamp\"},\"y\":{\"field\":\"value\"}},\"id\":\"43381\",\"type\":\"Line\"},{\"attributes\":{\"line_color\":\"#30a2da\",\"line_width\":2,\"x\":{\"field\":\"timestamp\"},\"y\":{\"field\":\"value\"}},\"id\":\"43313\",\"type\":\"Line\"},{\"attributes\":{\"line_color\":\"#e5ae38\",\"line_width\":2,\"x\":{\"field\":\"timestamp\"},\"y\":{\"field\":\"value\"}},\"id\":\"43380\",\"type\":\"Line\"},{\"attributes\":{},\"id\":\"43279\",\"type\":\"LinearScale\"},{\"attributes\":{\"base\":60,\"mantissas\":[1,2,5,10,15,20,30],\"max_interval\":1800000.0,\"min_interval\":1000.0,\"num_minor_ticks\":0},\"id\":\"43329\",\"type\":\"AdaptiveTicker\"},{\"attributes\":{\"mantissas\":[1,2,5],\"max_interval\":500.0,\"num_minor_ticks\":0},\"id\":\"43328\",\"type\":\"AdaptiveTicker\"},{\"attributes\":{\"months\":[0,4,8]},\"id\":\"43337\",\"type\":\"MonthsTicker\"},{\"attributes\":{},\"id\":\"43293\",\"type\":\"WheelZoomTool\"},{\"attributes\":{\"active_drag\":{\"id\":\"43292\"},\"active_scroll\":{\"id\":\"43293\"},\"tools\":[{\"id\":\"43271\"},{\"id\":\"43291\"},{\"id\":\"43292\"},{\"id\":\"43293\"},{\"id\":\"43294\"},{\"id\":\"43295\"}]},\"id\":\"43297\",\"type\":\"Toolbar\"},{\"attributes\":{\"line_alpha\":0.1,\"line_color\":\"#fc4f30\",\"line_width\":2,\"x\":{\"field\":\"timestamp\"},\"y\":{\"field\":\"value\"}},\"id\":\"43347\",\"type\":\"Line\"},{\"attributes\":{\"axis_label\":\"timestamp\",\"coordinates\":null,\"formatter\":{\"id\":\"43305\"},\"group\":null,\"major_label_policy\":{\"id\":\"43306\"},\"ticker\":{\"id\":\"43284\"}},\"id\":\"43283\",\"type\":\"DatetimeAxis\"},{\"attributes\":{\"line_alpha\":0.1,\"line_color\":\"#30a2da\",\"line_width\":2,\"x\":{\"field\":\"timestamp\"},\"y\":{\"field\":\"value\"}},\"id\":\"43314\",\"type\":\"Line\"},{\"attributes\":{},\"id\":\"43378\",\"type\":\"Selection\"},{\"attributes\":{\"axis\":{\"id\":\"43287\"},\"coordinates\":null,\"dimension\":1,\"grid_line_color\":null,\"group\":null,\"ticker\":null},\"id\":\"43290\",\"type\":\"Grid\"},{\"attributes\":{\"label\":{\"value\":\"daily_return\"},\"renderers\":[{\"id\":\"43316\"}]},\"id\":\"43341\",\"type\":\"LegendItem\"},{\"attributes\":{\"coordinates\":null,\"group\":null,\"text\":\"AAPL\",\"text_color\":\"black\",\"text_font_size\":\"12pt\"},\"id\":\"43275\",\"type\":\"Title\"},{\"attributes\":{\"children\":[{\"id\":\"43274\"}],\"height\":300,\"margin\":[0,0,0,0],\"name\":\"Row35983\",\"sizing_mode\":\"fixed\",\"tags\":[\"embedded\"]},\"id\":\"43268\",\"type\":\"Row\"},{\"attributes\":{\"line_color\":\"#e5ae38\",\"line_width\":2,\"x\":{\"field\":\"timestamp\"},\"y\":{\"field\":\"value\"}},\"id\":\"43412\",\"type\":\"Line\"},{\"attributes\":{},\"id\":\"43295\",\"type\":\"ResetTool\"},{\"attributes\":{\"label\":{\"value\":\"twice_lagged\"},\"renderers\":[{\"id\":\"43383\"}]},\"id\":\"43411\",\"type\":\"LegendItem\"},{\"attributes\":{},\"id\":\"43291\",\"type\":\"SaveTool\"},{\"attributes\":{\"days\":[1,2,3,4,5,6,7,8,9,10,11,12,13,14,15,16,17,18,19,20,21,22,23,24,25,26,27,28,29,30,31]},\"id\":\"43331\",\"type\":\"DaysTicker\"},{\"attributes\":{\"coordinates\":null,\"data_source\":{\"id\":\"43343\"},\"glyph\":{\"id\":\"43346\"},\"group\":null,\"hover_glyph\":null,\"muted_glyph\":{\"id\":\"43348\"},\"nonselection_glyph\":{\"id\":\"43347\"},\"selection_glyph\":{\"id\":\"43376\"},\"view\":{\"id\":\"43350\"}},\"id\":\"43349\",\"type\":\"GlyphRenderer\"},{\"attributes\":{\"overlay\":{\"id\":\"43296\"}},\"id\":\"43294\",\"type\":\"BoxZoomTool\"},{\"attributes\":{\"data\":{\"Variable\":[\"twice_lagged\",\"twice_lagged\",\"twice_lagged\",\"twice_lagged\",\"twice_lagged\",\"twice_lagged\",\"twice_lagged\",\"twice_lagged\",\"twice_lagged\",\"twice_lagged\",\"twice_lagged\",\"twice_lagged\",\"twice_lagged\",\"twice_lagged\",\"twice_lagged\",\"twice_lagged\",\"twice_lagged\",\"twice_lagged\",\"twice_lagged\",\"twice_lagged\",\"twice_lagged\",\"twice_lagged\",\"twice_lagged\",\"twice_lagged\",\"twice_lagged\",\"twice_lagged\",\"twice_lagged\",\"twice_lagged\",\"twice_lagged\",\"twice_lagged\",\"twice_lagged\",\"twice_lagged\",\"twice_lagged\",\"twice_lagged\",\"twice_lagged\",\"twice_lagged\",\"twice_lagged\",\"twice_lagged\",\"twice_lagged\",\"twice_lagged\",\"twice_lagged\",\"twice_lagged\",\"twice_lagged\",\"twice_lagged\",\"twice_lagged\",\"twice_lagged\",\"twice_lagged\",\"twice_lagged\",\"twice_lagged\",\"twice_lagged\",\"twice_lagged\",\"twice_lagged\",\"twice_lagged\",\"twice_lagged\",\"twice_lagged\",\"twice_lagged\",\"twice_lagged\",\"twice_lagged\",\"twice_lagged\",\"twice_lagged\",\"twice_lagged\",\"twice_lagged\",\"twice_lagged\",\"twice_lagged\",\"twice_lagged\",\"twice_lagged\",\"twice_lagged\",\"twice_lagged\",\"twice_lagged\",\"twice_lagged\",\"twice_lagged\",\"twice_lagged\",\"twice_lagged\",\"twice_lagged\",\"twice_lagged\",\"twice_lagged\",\"twice_lagged\",\"twice_lagged\",\"twice_lagged\",\"twice_lagged\",\"twice_lagged\",\"twice_lagged\",\"twice_lagged\",\"twice_lagged\",\"twice_lagged\",\"twice_lagged\",\"twice_lagged\",\"twice_lagged\",\"twice_lagged\",\"twice_lagged\",\"twice_lagged\",\"twice_lagged\",\"twice_lagged\",\"twice_lagged\",\"twice_lagged\",\"twice_lagged\",\"twice_lagged\",\"twice_lagged\",\"twice_lagged\",\"twice_lagged\",\"twice_lagged\",\"twice_lagged\",\"twice_lagged\",\"twice_lagged\",\"twice_lagged\",\"twice_lagged\",\"twice_lagged\",\"twice_lagged\",\"twice_lagged\",\"twice_lagged\",\"twice_lagged\",\"twice_lagged\",\"twice_lagged\",\"twice_lagged\",\"twice_lagged\",\"twice_lagged\",\"twice_lagged\",\"twice_lagged\",\"twice_lagged\",\"twice_lagged\",\"twice_lagged\",\"twice_lagged\",\"twice_lagged\",\"twice_lagged\",\"twice_lagged\",\"twice_lagged\",\"twice_lagged\",\"twice_lagged\",\"twice_lagged\",\"twice_lagged\",\"twice_lagged\",\"twice_lagged\",\"twice_lagged\",\"twice_lagged\",\"twice_lagged\",\"twice_lagged\",\"twice_lagged\",\"twice_lagged\",\"twice_lagged\",\"twice_lagged\",\"twice_lagged\",\"twice_lagged\",\"twice_lagged\",\"twice_lagged\",\"twice_lagged\",\"twice_lagged\",\"twice_lagged\",\"twice_lagged\",\"twice_lagged\",\"twice_lagged\",\"twice_lagged\",\"twice_lagged\",\"twice_lagged\",\"twice_lagged\",\"twice_lagged\",\"twice_lagged\",\"twice_lagged\",\"twice_lagged\",\"twice_lagged\",\"twice_lagged\",\"twice_lagged\",\"twice_lagged\",\"twice_lagged\",\"twice_lagged\",\"twice_lagged\",\"twice_lagged\",\"twice_lagged\",\"twice_lagged\",\"twice_lagged\",\"twice_lagged\",\"twice_lagged\",\"twice_lagged\",\"twice_lagged\",\"twice_lagged\",\"twice_lagged\",\"twice_lagged\",\"twice_lagged\",\"twice_lagged\",\"twice_lagged\",\"twice_lagged\",\"twice_lagged\",\"twice_lagged\",\"twice_lagged\",\"twice_lagged\",\"twice_lagged\",\"twice_lagged\",\"twice_lagged\",\"twice_lagged\",\"twice_lagged\",\"twice_lagged\",\"twice_lagged\",\"twice_lagged\",\"twice_lagged\",\"twice_lagged\",\"twice_lagged\",\"twice_lagged\",\"twice_lagged\",\"twice_lagged\",\"twice_lagged\",\"twice_lagged\",\"twice_lagged\",\"twice_lagged\",\"twice_lagged\",\"twice_lagged\",\"twice_lagged\",\"twice_lagged\",\"twice_lagged\",\"twice_lagged\",\"twice_lagged\",\"twice_lagged\",\"twice_lagged\",\"twice_lagged\",\"twice_lagged\",\"twice_lagged\",\"twice_lagged\",\"twice_lagged\",\"twice_lagged\",\"twice_lagged\",\"twice_lagged\",\"twice_lagged\",\"twice_lagged\",\"twice_lagged\",\"twice_lagged\",\"twice_lagged\",\"twice_lagged\",\"twice_lagged\",\"twice_lagged\",\"twice_lagged\",\"twice_lagged\",\"twice_lagged\",\"twice_lagged\",\"twice_lagged\",\"twice_lagged\",\"twice_lagged\",\"twice_lagged\",\"twice_lagged\",\"twice_lagged\",\"twice_lagged\",\"twice_lagged\",\"twice_lagged\",\"twice_lagged\",\"twice_lagged\",\"twice_lagged\",\"twice_lagged\",\"twice_lagged\",\"twice_lagged\",\"twice_lagged\",\"twice_lagged\",\"twice_lagged\",\"twice_lagged\",\"twice_lagged\",\"twice_lagged\",\"twice_lagged\",\"twice_lagged\",\"twice_lagged\",\"twice_lagged\",\"twice_lagged\",\"twice_lagged\",\"twice_lagged\",\"twice_lagged\",\"twice_lagged\",\"twice_lagged\",\"twice_lagged\",\"twice_lagged\",\"twice_lagged\",\"twice_lagged\",\"twice_lagged\",\"twice_lagged\",\"twice_lagged\",\"twice_lagged\",\"twice_lagged\",\"twice_lagged\",\"twice_lagged\",\"twice_lagged\",\"twice_lagged\",\"twice_lagged\",\"twice_lagged\",\"twice_lagged\",\"twice_lagged\",\"twice_lagged\",\"twice_lagged\",\"twice_lagged\",\"twice_lagged\",\"twice_lagged\",\"twice_lagged\",\"twice_lagged\",\"twice_lagged\",\"twice_lagged\",\"twice_lagged\",\"twice_lagged\",\"twice_lagged\",\"twice_lagged\",\"twice_lagged\",\"twice_lagged\",\"twice_lagged\",\"twice_lagged\",\"twice_lagged\",\"twice_lagged\",\"twice_lagged\",\"twice_lagged\",\"twice_lagged\",\"twice_lagged\",\"twice_lagged\",\"twice_lagged\",\"twice_lagged\",\"twice_lagged\",\"twice_lagged\",\"twice_lagged\",\"twice_lagged\",\"twice_lagged\",\"twice_lagged\",\"twice_lagged\",\"twice_lagged\",\"twice_lagged\",\"twice_lagged\",\"twice_lagged\",\"twice_lagged\",\"twice_lagged\",\"twice_lagged\",\"twice_lagged\",\"twice_lagged\",\"twice_lagged\",\"twice_lagged\",\"twice_lagged\",\"twice_lagged\",\"twice_lagged\",\"twice_lagged\",\"twice_lagged\",\"twice_lagged\",\"twice_lagged\",\"twice_lagged\",\"twice_lagged\",\"twice_lagged\",\"twice_lagged\",\"twice_lagged\",\"twice_lagged\",\"twice_lagged\",\"twice_lagged\",\"twice_lagged\",\"twice_lagged\",\"twice_lagged\",\"twice_lagged\",\"twice_lagged\",\"twice_lagged\",\"twice_lagged\",\"twice_lagged\",\"twice_lagged\",\"twice_lagged\",\"twice_lagged\",\"twice_lagged\",\"twice_lagged\",\"twice_lagged\",\"twice_lagged\",\"twice_lagged\",\"twice_lagged\",\"twice_lagged\",\"twice_lagged\",\"twice_lagged\",\"twice_lagged\",\"twice_lagged\",\"twice_lagged\",\"twice_lagged\",\"twice_lagged\",\"twice_lagged\",\"twice_lagged\",\"twice_lagged\",\"twice_lagged\",\"twice_lagged\",\"twice_lagged\",\"twice_lagged\",\"twice_lagged\",\"twice_lagged\",\"twice_lagged\",\"twice_lagged\",\"twice_lagged\",\"twice_lagged\",\"twice_lagged\",\"twice_lagged\",\"twice_lagged\",\"twice_lagged\",\"twice_lagged\",\"twice_lagged\",\"twice_lagged\",\"twice_lagged\",\"twice_lagged\",\"twice_lagged\",\"twice_lagged\",\"twice_lagged\",\"twice_lagged\",\"twice_lagged\",\"twice_lagged\",\"twice_lagged\",\"twice_lagged\",\"twice_lagged\",\"twice_lagged\",\"twice_lagged\",\"twice_lagged\",\"twice_lagged\",\"twice_lagged\",\"twice_lagged\",\"twice_lagged\",\"twice_lagged\",\"twice_lagged\",\"twice_lagged\",\"twice_lagged\",\"twice_lagged\",\"twice_lagged\",\"twice_lagged\",\"twice_lagged\",\"twice_lagged\",\"twice_lagged\",\"twice_lagged\",\"twice_lagged\",\"twice_lagged\",\"twice_lagged\",\"twice_lagged\",\"twice_lagged\",\"twice_lagged\",\"twice_lagged\",\"twice_lagged\",\"twice_lagged\",\"twice_lagged\",\"twice_lagged\",\"twice_lagged\",\"twice_lagged\",\"twice_lagged\",\"twice_lagged\",\"twice_lagged\",\"twice_lagged\",\"twice_lagged\",\"twice_lagged\",\"twice_lagged\",\"twice_lagged\",\"twice_lagged\",\"twice_lagged\",\"twice_lagged\",\"twice_lagged\",\"twice_lagged\",\"twice_lagged\",\"twice_lagged\",\"twice_lagged\",\"twice_lagged\",\"twice_lagged\",\"twice_lagged\",\"twice_lagged\",\"twice_lagged\",\"twice_lagged\",\"twice_lagged\",\"twice_lagged\",\"twice_lagged\",\"twice_lagged\",\"twice_lagged\",\"twice_lagged\",\"twice_lagged\",\"twice_lagged\",\"twice_lagged\",\"twice_lagged\",\"twice_lagged\",\"twice_lagged\",\"twice_lagged\",\"twice_lagged\",\"twice_lagged\",\"twice_lagged\",\"twice_lagged\",\"twice_lagged\",\"twice_lagged\",\"twice_lagged\",\"twice_lagged\",\"twice_lagged\",\"twice_lagged\",\"twice_lagged\",\"twice_lagged\",\"twice_lagged\",\"twice_lagged\",\"twice_lagged\",\"twice_lagged\",\"twice_lagged\",\"twice_lagged\",\"twice_lagged\",\"twice_lagged\",\"twice_lagged\",\"twice_lagged\",\"twice_lagged\",\"twice_lagged\",\"twice_lagged\",\"twice_lagged\",\"twice_lagged\",\"twice_lagged\",\"twice_lagged\",\"twice_lagged\",\"twice_lagged\",\"twice_lagged\",\"twice_lagged\",\"twice_lagged\",\"twice_lagged\",\"twice_lagged\",\"twice_lagged\",\"twice_lagged\",\"twice_lagged\",\"twice_lagged\",\"twice_lagged\",\"twice_lagged\",\"twice_lagged\",\"twice_lagged\",\"twice_lagged\",\"twice_lagged\",\"twice_lagged\",\"twice_lagged\",\"twice_lagged\",\"twice_lagged\",\"twice_lagged\",\"twice_lagged\",\"twice_lagged\",\"twice_lagged\",\"twice_lagged\",\"twice_lagged\",\"twice_lagged\",\"twice_lagged\",\"twice_lagged\",\"twice_lagged\",\"twice_lagged\",\"twice_lagged\",\"twice_lagged\",\"twice_lagged\",\"twice_lagged\",\"twice_lagged\",\"twice_lagged\",\"twice_lagged\",\"twice_lagged\",\"twice_lagged\",\"twice_lagged\",\"twice_lagged\",\"twice_lagged\",\"twice_lagged\",\"twice_lagged\",\"twice_lagged\",\"twice_lagged\",\"twice_lagged\",\"twice_lagged\",\"twice_lagged\",\"twice_lagged\",\"twice_lagged\",\"twice_lagged\",\"twice_lagged\",\"twice_lagged\",\"twice_lagged\",\"twice_lagged\",\"twice_lagged\",\"twice_lagged\",\"twice_lagged\",\"twice_lagged\",\"twice_lagged\",\"twice_lagged\",\"twice_lagged\",\"twice_lagged\",\"twice_lagged\",\"twice_lagged\",\"twice_lagged\",\"twice_lagged\",\"twice_lagged\",\"twice_lagged\",\"twice_lagged\",\"twice_lagged\",\"twice_lagged\",\"twice_lagged\",\"twice_lagged\",\"twice_lagged\",\"twice_lagged\",\"twice_lagged\",\"twice_lagged\",\"twice_lagged\",\"twice_lagged\",\"twice_lagged\",\"twice_lagged\",\"twice_lagged\",\"twice_lagged\",\"twice_lagged\",\"twice_lagged\",\"twice_lagged\",\"twice_lagged\",\"twice_lagged\",\"twice_lagged\",\"twice_lagged\",\"twice_lagged\",\"twice_lagged\",\"twice_lagged\",\"twice_lagged\",\"twice_lagged\",\"twice_lagged\",\"twice_lagged\",\"twice_lagged\",\"twice_lagged\",\"twice_lagged\",\"twice_lagged\",\"twice_lagged\",\"twice_lagged\",\"twice_lagged\",\"twice_lagged\",\"twice_lagged\",\"twice_lagged\",\"twice_lagged\",\"twice_lagged\",\"twice_lagged\",\"twice_lagged\",\"twice_lagged\",\"twice_lagged\",\"twice_lagged\",\"twice_lagged\",\"twice_lagged\",\"twice_lagged\",\"twice_lagged\",\"twice_lagged\",\"twice_lagged\",\"twice_lagged\",\"twice_lagged\",\"twice_lagged\",\"twice_lagged\",\"twice_lagged\",\"twice_lagged\",\"twice_lagged\",\"twice_lagged\",\"twice_lagged\",\"twice_lagged\",\"twice_lagged\",\"twice_lagged\",\"twice_lagged\",\"twice_lagged\",\"twice_lagged\",\"twice_lagged\",\"twice_lagged\",\"twice_lagged\",\"twice_lagged\",\"twice_lagged\",\"twice_lagged\",\"twice_lagged\",\"twice_lagged\",\"twice_lagged\",\"twice_lagged\",\"twice_lagged\",\"twice_lagged\",\"twice_lagged\",\"twice_lagged\",\"twice_lagged\",\"twice_lagged\",\"twice_lagged\",\"twice_lagged\",\"twice_lagged\",\"twice_lagged\",\"twice_lagged\",\"twice_lagged\",\"twice_lagged\",\"twice_lagged\",\"twice_lagged\",\"twice_lagged\",\"twice_lagged\",\"twice_lagged\",\"twice_lagged\",\"twice_lagged\",\"twice_lagged\",\"twice_lagged\",\"twice_lagged\",\"twice_lagged\",\"twice_lagged\",\"twice_lagged\",\"twice_lagged\",\"twice_lagged\",\"twice_lagged\",\"twice_lagged\",\"twice_lagged\",\"twice_lagged\",\"twice_lagged\",\"twice_lagged\",\"twice_lagged\",\"twice_lagged\",\"twice_lagged\",\"twice_lagged\",\"twice_lagged\",\"twice_lagged\",\"twice_lagged\",\"twice_lagged\",\"twice_lagged\",\"twice_lagged\",\"twice_lagged\",\"twice_lagged\",\"twice_lagged\",\"twice_lagged\",\"twice_lagged\",\"twice_lagged\",\"twice_lagged\",\"twice_lagged\",\"twice_lagged\",\"twice_lagged\",\"twice_lagged\",\"twice_lagged\",\"twice_lagged\",\"twice_lagged\",\"twice_lagged\",\"twice_lagged\",\"twice_lagged\",\"twice_lagged\",\"twice_lagged\",\"twice_lagged\",\"twice_lagged\",\"twice_lagged\",\"twice_lagged\",\"twice_lagged\",\"twice_lagged\",\"twice_lagged\",\"twice_lagged\",\"twice_lagged\",\"twice_lagged\",\"twice_lagged\",\"twice_lagged\",\"twice_lagged\",\"twice_lagged\",\"twice_lagged\",\"twice_lagged\",\"twice_lagged\",\"twice_lagged\",\"twice_lagged\",\"twice_lagged\",\"twice_lagged\",\"twice_lagged\",\"twice_lagged\",\"twice_lagged\",\"twice_lagged\",\"twice_lagged\",\"twice_lagged\",\"twice_lagged\",\"twice_lagged\",\"twice_lagged\",\"twice_lagged\",\"twice_lagged\",\"twice_lagged\",\"twice_lagged\",\"twice_lagged\",\"twice_lagged\",\"twice_lagged\",\"twice_lagged\",\"twice_lagged\",\"twice_lagged\",\"twice_lagged\",\"twice_lagged\",\"twice_lagged\",\"twice_lagged\",\"twice_lagged\",\"twice_lagged\",\"twice_lagged\",\"twice_lagged\",\"twice_lagged\",\"twice_lagged\",\"twice_lagged\",\"twice_lagged\"],\"timestamp\":{\"__ndarray__\":\"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\",\"dtype\":\"float64\",\"order\":\"little\",\"shape\":[753]},\"value\":{\"__ndarray__\":\"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\",\"dtype\":\"float64\",\"order\":\"little\",\"shape\":[753]}},\"selected\":{\"id\":\"43378\"},\"selection_policy\":{\"id\":\"43396\"}},\"id\":\"43377\",\"type\":\"ColumnDataSource\"},{\"attributes\":{\"source\":{\"id\":\"43310\"}},\"id\":\"43317\",\"type\":\"CDSView\"},{\"attributes\":{},\"id\":\"43344\",\"type\":\"Selection\"},{\"attributes\":{\"bottom_units\":\"screen\",\"coordinates\":null,\"fill_alpha\":0.5,\"fill_color\":\"lightgrey\",\"group\":null,\"left_units\":\"screen\",\"level\":\"overlay\",\"line_alpha\":1.0,\"line_color\":\"black\",\"line_dash\":[4,4],\"line_width\":2,\"right_units\":\"screen\",\"syncable\":false,\"top_units\":\"screen\"},\"id\":\"43296\",\"type\":\"BoxAnnotation\"},{\"attributes\":{\"base\":24,\"mantissas\":[1,2,4,6,8,12],\"max_interval\":43200000.0,\"min_interval\":3600000.0,\"num_minor_ticks\":0},\"id\":\"43330\",\"type\":\"AdaptiveTicker\"},{\"attributes\":{\"days\":[1,15]},\"id\":\"43334\",\"type\":\"DaysTicker\"},{\"attributes\":{\"coordinates\":null,\"data_source\":{\"id\":\"43377\"},\"glyph\":{\"id\":\"43380\"},\"group\":null,\"hover_glyph\":null,\"muted_glyph\":{\"id\":\"43382\"},\"nonselection_glyph\":{\"id\":\"43381\"},\"selection_glyph\":{\"id\":\"43412\"},\"view\":{\"id\":\"43384\"}},\"id\":\"43383\",\"type\":\"GlyphRenderer\"},{\"attributes\":{},\"id\":\"43309\",\"type\":\"AllLabels\"},{\"attributes\":{\"months\":[0,1,2,3,4,5,6,7,8,9,10,11]},\"id\":\"43335\",\"type\":\"MonthsTicker\"},{\"attributes\":{},\"id\":\"43308\",\"type\":\"BasicTickFormatter\"},{\"attributes\":{\"months\":[0,2,4,6,8,10]},\"id\":\"43336\",\"type\":\"MonthsTicker\"},{\"attributes\":{},\"id\":\"43360\",\"type\":\"UnionRenderers\"},{\"attributes\":{\"line_color\":\"#fc4f30\",\"line_width\":2,\"x\":{\"field\":\"timestamp\"},\"y\":{\"field\":\"value\"}},\"id\":\"43346\",\"type\":\"Line\"},{\"attributes\":{\"days\":[1,4,7,10,13,16,19,22,25,28]},\"id\":\"43332\",\"type\":\"DaysTicker\"},{\"attributes\":{\"line_alpha\":0.2,\"line_color\":\"#fc4f30\",\"line_width\":2,\"x\":{\"field\":\"timestamp\"},\"y\":{\"field\":\"value\"}},\"id\":\"43348\",\"type\":\"Line\"},{\"attributes\":{},\"id\":\"43305\",\"type\":\"DatetimeTickFormatter\"},{\"attributes\":{},\"id\":\"43311\",\"type\":\"Selection\"},{\"attributes\":{},\"id\":\"43292\",\"type\":\"PanTool\"},{\"attributes\":{\"days\":[1,8,15,22]},\"id\":\"43333\",\"type\":\"DaysTicker\"},{\"attributes\":{\"line_color\":\"#30a2da\",\"line_width\":2,\"x\":{\"field\":\"timestamp\"},\"y\":{\"field\":\"value\"}},\"id\":\"43342\",\"type\":\"Line\"},{\"attributes\":{\"line_color\":\"#fc4f30\",\"line_width\":2,\"x\":{\"field\":\"timestamp\"},\"y\":{\"field\":\"value\"}},\"id\":\"43376\",\"type\":\"Line\"},{\"attributes\":{},\"id\":\"43288\",\"type\":\"BasicTicker\"},{\"attributes\":{\"axis_label\":\"\",\"coordinates\":null,\"formatter\":{\"id\":\"43308\"},\"group\":null,\"major_label_policy\":{\"id\":\"43309\"},\"ticker\":{\"id\":\"43288\"}},\"id\":\"43287\",\"type\":\"LinearAxis\"},{\"attributes\":{\"click_policy\":\"mute\",\"coordinates\":null,\"group\":null,\"items\":[{\"id\":\"43341\"},{\"id\":\"43375\"},{\"id\":\"43411\"}],\"location\":[0,0],\"title\":\"Variable\"},\"id\":\"43340\",\"type\":\"Legend\"},{\"attributes\":{\"source\":{\"id\":\"43343\"}},\"id\":\"43350\",\"type\":\"CDSView\"},{\"attributes\":{\"line_alpha\":0.2,\"line_color\":\"#e5ae38\",\"line_width\":2,\"x\":{\"field\":\"timestamp\"},\"y\":{\"field\":\"value\"}},\"id\":\"43382\",\"type\":\"Line\"},{\"attributes\":{\"num_minor_ticks\":5,\"tickers\":[{\"id\":\"43328\"},{\"id\":\"43329\"},{\"id\":\"43330\"},{\"id\":\"43331\"},{\"id\":\"43332\"},{\"id\":\"43333\"},{\"id\":\"43334\"},{\"id\":\"43335\"},{\"id\":\"43336\"},{\"id\":\"43337\"},{\"id\":\"43338\"},{\"id\":\"43339\"}]},\"id\":\"43284\",\"type\":\"DatetimeTicker\"},{\"attributes\":{\"end\":0.07636129719150356,\"reset_end\":0.07636129719150356,\"reset_start\":-0.07400127421610539,\"start\":-0.07400127421610539,\"tags\":[[[\"value\",\"value\",null]]]},\"id\":\"43270\",\"type\":\"Range1d\"},{\"attributes\":{\"end\":1693540800000.0,\"reset_end\":1693540800000.0,\"reset_start\":1599192000000.0,\"start\":1599192000000.0,\"tags\":[[[\"timestamp\",\"timestamp\",null]]]},\"id\":\"43269\",\"type\":\"Range1d\"}],\"root_ids\":[\"43268\"]},\"title\":\"Bokeh Application\",\"version\":\"2.4.3\"}};\n",
       "    var render_items = [{\"docid\":\"43447943-13ea-479f-8a72-ae75d9885b92\",\"root_ids\":[\"43268\"],\"roots\":{\"43268\":\"3f2c80a4-e56e-49c9-a6ef-dc55311ede01\"}}];\n",
       "    root.Bokeh.embed.embed_items_notebook(docs_json, render_items);\n",
       "    for (const render_item of render_items) {\n",
       "      for (const root_id of render_item.root_ids) {\n",
       "\tconst id_el = document.getElementById(root_id)\n",
       "\tif (id_el.children.length && (id_el.children[0].className === 'bk-root')) {\n",
       "\t  const root_el = id_el.children[0]\n",
       "\t  root_el.id = root_el.id + '-rendered'\n",
       "\t}\n",
       "      }\n",
       "    }\n",
       "  }\n",
       "  if (root.Bokeh !== undefined && root.Bokeh.Panel !== undefined) {\n",
       "    embed_document(root);\n",
       "  } else {\n",
       "    var attempts = 0;\n",
       "    var timer = setInterval(function(root) {\n",
       "      if (root.Bokeh !== undefined && root.Bokeh.Panel !== undefined) {\n",
       "        clearInterval(timer);\n",
       "        embed_document(root);\n",
       "      } else if (document.readyState == \"complete\") {\n",
       "        attempts++;\n",
       "        if (attempts > 200) {\n",
       "          clearInterval(timer);\n",
       "          console.log(\"Bokeh: ERROR: Unable to run BokehJS code because BokehJS library is missing\");\n",
       "        }\n",
       "      }\n",
       "    }, 25, root)\n",
       "  }\n",
       "})(window);</script>"
      ],
      "text/plain": [
       ":NdOverlay   [Variable]\n",
       "   :Curve   [timestamp]   (value)"
      ]
     },
     "execution_count": 569,
     "metadata": {
      "application/vnd.holoviews_exec.v0+json": {
       "id": "43268"
      }
     },
     "output_type": "execute_result"
    }
   ],
   "source": [
    "# signals is a df globally\n",
    "# construct singals data:\n",
    "\n",
    "signals_dfs = {}\n",
    "\n",
    "for key in dfs:\n",
    "    signals = dfs[key].loc[:,['vwap']]\n",
    "    signals['daily_return'] = signals.pct_change()\n",
    "    signals['lagged_daily_return'] = signals['daily_return'].shift(1)\n",
    "    signals['twice_lagged'] = signals['daily_return'].shift(2)\n",
    "    signals.dropna(inplace=True)\n",
    "    signals_dfs[key]=signals\n",
    "        \n",
    "# visualize data prep for anz later\n",
    "def visualize( ticker ):\n",
    "    return signals_dfs[ticker][['daily_return','lagged_daily_return','twice_lagged']].hvplot(\n",
    "                      title=ticker,\n",
    "                      frame_width=700)\n",
    "    \n",
    "visualize('AAPL')"
   ]
  },
  {
   "cell_type": "markdown",
   "id": "7db184c9-6733-472b-9f5b-b49a451ab2fa",
   "metadata": {},
   "source": [
    "## 3. derive signal based on the observation of data"
   ]
  },
  {
   "cell_type": "code",
   "execution_count": 570,
   "id": "032e0e3e-07db-4e19-ae58-c7250b7471bc",
   "metadata": {},
   "outputs": [],
   "source": [
    "# derive signal - the singals df is global\n",
    "for key in signals_dfs:\n",
    "    # signals_dfs[key]['signal'] = np.where(\n",
    "    #     (signals_dfs[key]['lagged_daily_return']>0) &\n",
    "    #     (signals_dfs[key]['twice_lagged']>0), \n",
    "    #         -1, \n",
    "    #         np.where(\n",
    "    #             (signals['lagged_daily_return']<0) &\n",
    "    #             (signals['twice_lagged']<0), 1, 0 \n",
    "    #                 )\n",
    "    # )\n",
    "    signals_dfs[key]['signal'] = np.where(\n",
    "        signals_dfs[key]['lagged_daily_return']<0, 1, -1)\n"
   ]
  },
  {
   "cell_type": "markdown",
   "id": "cdc63d7f-ec39-4072-bb15-4a815a02e117",
   "metadata": {},
   "source": [
    "## 4. SVR on pct_change of vwap"
   ]
  },
  {
   "cell_type": "markdown",
   "id": "576096ff-250e-40bd-8df6-282f061c2178",
   "metadata": {},
   "source": [
    "### 4.1 the SVR ML"
   ]
  },
  {
   "cell_type": "code",
   "execution_count": 571,
   "id": "e631c521-7a51-4571-8020-a2513e355ebf",
   "metadata": {},
   "outputs": [],
   "source": [
    "def ML_pred_a( cycle ):\n",
    "    \"\"\" one cycle of n_dates_for_training + 15 days, using SVR directly on vwap pct_change \"\"\"\n",
    "   \n",
    "    # use lagged returns to train SVM\n",
    "    data = cycle.loc[:, ['lagged_daily_return', 'twice_lagged']]\n",
    "    label = cycle['signal']\n",
    "    instrs = pd.DataFrame()\n",
    "    model = svm.SVR()\n",
    "    \n",
    "    # rolling train for 30 days then predict 1 day, 15 cycles for 15 instructions\n",
    "    for instri in range(0,15):\n",
    "        iloc_to = instri + 90\n",
    "        X = data.iloc[:iloc_to,:]\n",
    "        y = label.iloc[:iloc_to]\n",
    "        model.fit(X, y)\n",
    "        signal = model.predict(data.iloc[iloc_to:iloc_to+1,:])\n",
    "        \n",
    "        if signal > 0:\n",
    "            instr = 1\n",
    "        else:\n",
    "            instr = -1\n",
    "        one_row = pd.DataFrame([[cycle.index[iloc_to].date(), instr]])\n",
    "        instrs = pd.concat([instrs,one_row], join='outer')\n",
    "        \n",
    "    return instrs"
   ]
  },
  {
   "cell_type": "markdown",
   "id": "7d15562c-b89b-42e0-b9ee-96d04c56273f",
   "metadata": {},
   "source": [
    "### 4.2 One cycle of 105 days (90+15)"
   ]
  },
  {
   "cell_type": "code",
   "execution_count": 572,
   "id": "819b9775-89e4-427b-afee-2d89bf5ef624",
   "metadata": {},
   "outputs": [
    {
     "data": {
      "text/html": [
       "<div>\n",
       "<style scoped>\n",
       "    .dataframe tbody tr th:only-of-type {\n",
       "        vertical-align: middle;\n",
       "    }\n",
       "\n",
       "    .dataframe tbody tr th {\n",
       "        vertical-align: top;\n",
       "    }\n",
       "\n",
       "    .dataframe thead th {\n",
       "        text-align: right;\n",
       "    }\n",
       "</style>\n",
       "<table border=\"1\" class=\"dataframe\">\n",
       "  <thead>\n",
       "    <tr style=\"text-align: right;\">\n",
       "      <th></th>\n",
       "      <th>AAPL</th>\n",
       "      <th>AMZN</th>\n",
       "      <th>MSFT</th>\n",
       "      <th>GOOG</th>\n",
       "    </tr>\n",
       "    <tr>\n",
       "      <th>0</th>\n",
       "      <th></th>\n",
       "      <th></th>\n",
       "      <th></th>\n",
       "      <th></th>\n",
       "    </tr>\n",
       "  </thead>\n",
       "  <tbody>\n",
       "    <tr>\n",
       "      <th>2023-08-14</th>\n",
       "      <td>1</td>\n",
       "      <td>1</td>\n",
       "      <td>1</td>\n",
       "      <td>1</td>\n",
       "    </tr>\n",
       "    <tr>\n",
       "      <th>2023-08-15</th>\n",
       "      <td>-1</td>\n",
       "      <td>-1</td>\n",
       "      <td>-1</td>\n",
       "      <td>-1</td>\n",
       "    </tr>\n",
       "    <tr>\n",
       "      <th>2023-08-16</th>\n",
       "      <td>1</td>\n",
       "      <td>1</td>\n",
       "      <td>-1</td>\n",
       "      <td>1</td>\n",
       "    </tr>\n",
       "    <tr>\n",
       "      <th>2023-08-17</th>\n",
       "      <td>1</td>\n",
       "      <td>1</td>\n",
       "      <td>1</td>\n",
       "      <td>1</td>\n",
       "    </tr>\n",
       "    <tr>\n",
       "      <th>2023-08-18</th>\n",
       "      <td>1</td>\n",
       "      <td>1</td>\n",
       "      <td>1</td>\n",
       "      <td>-1</td>\n",
       "    </tr>\n",
       "    <tr>\n",
       "      <th>2023-08-21</th>\n",
       "      <td>1</td>\n",
       "      <td>1</td>\n",
       "      <td>1</td>\n",
       "      <td>1</td>\n",
       "    </tr>\n",
       "    <tr>\n",
       "      <th>2023-08-22</th>\n",
       "      <td>-1</td>\n",
       "      <td>-1</td>\n",
       "      <td>-1</td>\n",
       "      <td>-1</td>\n",
       "    </tr>\n",
       "    <tr>\n",
       "      <th>2023-08-23</th>\n",
       "      <td>-1</td>\n",
       "      <td>-1</td>\n",
       "      <td>-1</td>\n",
       "      <td>-1</td>\n",
       "    </tr>\n",
       "    <tr>\n",
       "      <th>2023-08-24</th>\n",
       "      <td>-1</td>\n",
       "      <td>-1</td>\n",
       "      <td>-1</td>\n",
       "      <td>-1</td>\n",
       "    </tr>\n",
       "    <tr>\n",
       "      <th>2023-08-25</th>\n",
       "      <td>1</td>\n",
       "      <td>1</td>\n",
       "      <td>1</td>\n",
       "      <td>1</td>\n",
       "    </tr>\n",
       "    <tr>\n",
       "      <th>2023-08-28</th>\n",
       "      <td>1</td>\n",
       "      <td>1</td>\n",
       "      <td>1</td>\n",
       "      <td>1</td>\n",
       "    </tr>\n",
       "    <tr>\n",
       "      <th>2023-08-29</th>\n",
       "      <td>-1</td>\n",
       "      <td>-1</td>\n",
       "      <td>-1</td>\n",
       "      <td>-1</td>\n",
       "    </tr>\n",
       "    <tr>\n",
       "      <th>2023-08-30</th>\n",
       "      <td>-1</td>\n",
       "      <td>-1</td>\n",
       "      <td>-1</td>\n",
       "      <td>-1</td>\n",
       "    </tr>\n",
       "    <tr>\n",
       "      <th>2023-08-31</th>\n",
       "      <td>-1</td>\n",
       "      <td>-1</td>\n",
       "      <td>-1</td>\n",
       "      <td>-1</td>\n",
       "    </tr>\n",
       "    <tr>\n",
       "      <th>2023-09-01</th>\n",
       "      <td>-1</td>\n",
       "      <td>-1</td>\n",
       "      <td>1</td>\n",
       "      <td>-1</td>\n",
       "    </tr>\n",
       "  </tbody>\n",
       "</table>\n",
       "</div>"
      ],
      "text/plain": [
       "            AAPL  AMZN  MSFT  GOOG\n",
       "0                                 \n",
       "2023-08-14     1     1     1     1\n",
       "2023-08-15    -1    -1    -1    -1\n",
       "2023-08-16     1     1    -1     1\n",
       "2023-08-17     1     1     1     1\n",
       "2023-08-18     1     1     1    -1\n",
       "2023-08-21     1     1     1     1\n",
       "2023-08-22    -1    -1    -1    -1\n",
       "2023-08-23    -1    -1    -1    -1\n",
       "2023-08-24    -1    -1    -1    -1\n",
       "2023-08-25     1     1     1     1\n",
       "2023-08-28     1     1     1     1\n",
       "2023-08-29    -1    -1    -1    -1\n",
       "2023-08-30    -1    -1    -1    -1\n",
       "2023-08-31    -1    -1    -1    -1\n",
       "2023-09-01    -1    -1     1    -1"
      ]
     },
     "execution_count": 572,
     "metadata": {},
     "output_type": "execute_result"
    }
   ],
   "source": [
    "instrs = pd.DataFrame()\n",
    "for key in signals_dfs:\n",
    "    cycle = signals_dfs[key].iloc[-105:,:]\n",
    "    cycle_signals = ML_pred_a(cycle).set_index(0)\n",
    "    cycle_signals.columns = [key]\n",
    "    #instrs = pd.concat([instrs, one_cycle(cycle)])\n",
    "    instrs = pd.concat([instrs, cycle_signals],axis=1)\n",
    "\n",
    "instrs"
   ]
  },
  {
   "cell_type": "markdown",
   "id": "8e43aace-4ef5-4493-9d71-6a8991167cda",
   "metadata": {},
   "source": [
    "#### 4.2.1 15-day trade actions"
   ]
  },
  {
   "cell_type": "code",
   "execution_count": 573,
   "id": "864095bb-f25a-48e6-8b0e-fe4cf4e98f99",
   "metadata": {
    "tags": []
   },
   "outputs": [
    {
     "data": {
      "text/html": [
       "<div>\n",
       "<style scoped>\n",
       "    .dataframe tbody tr th:only-of-type {\n",
       "        vertical-align: middle;\n",
       "    }\n",
       "\n",
       "    .dataframe tbody tr th {\n",
       "        vertical-align: top;\n",
       "    }\n",
       "\n",
       "    .dataframe thead th {\n",
       "        text-align: right;\n",
       "    }\n",
       "</style>\n",
       "<table border=\"1\" class=\"dataframe\">\n",
       "  <thead>\n",
       "    <tr style=\"text-align: right;\">\n",
       "      <th></th>\n",
       "      <th>0</th>\n",
       "      <th>1</th>\n",
       "      <th>2</th>\n",
       "    </tr>\n",
       "  </thead>\n",
       "  <tbody>\n",
       "    <tr>\n",
       "      <th>0</th>\n",
       "      <td>2023-08-14</td>\n",
       "      <td>AAPL</td>\n",
       "      <td>1</td>\n",
       "    </tr>\n",
       "    <tr>\n",
       "      <th>0</th>\n",
       "      <td>2023-08-15</td>\n",
       "      <td>AAPL</td>\n",
       "      <td>-1</td>\n",
       "    </tr>\n",
       "    <tr>\n",
       "      <th>0</th>\n",
       "      <td>2023-08-16</td>\n",
       "      <td>AAPL</td>\n",
       "      <td>1</td>\n",
       "    </tr>\n",
       "    <tr>\n",
       "      <th>0</th>\n",
       "      <td>2023-08-17</td>\n",
       "      <td>AMZN</td>\n",
       "      <td>1</td>\n",
       "    </tr>\n",
       "    <tr>\n",
       "      <th>0</th>\n",
       "      <td>2023-08-18</td>\n",
       "      <td>MSFT</td>\n",
       "      <td>1</td>\n",
       "    </tr>\n",
       "    <tr>\n",
       "      <th>0</th>\n",
       "      <td>2023-08-21</td>\n",
       "      <td>GOOG</td>\n",
       "      <td>1</td>\n",
       "    </tr>\n",
       "    <tr>\n",
       "      <th>0</th>\n",
       "      <td>2023-08-22</td>\n",
       "      <td>AAPL</td>\n",
       "      <td>-1</td>\n",
       "    </tr>\n",
       "    <tr>\n",
       "      <th>0</th>\n",
       "      <td>2023-08-23</td>\n",
       "      <td>AMZN</td>\n",
       "      <td>-1</td>\n",
       "    </tr>\n",
       "    <tr>\n",
       "      <th>0</th>\n",
       "      <td>2023-08-24</td>\n",
       "      <td>MSFT</td>\n",
       "      <td>-1</td>\n",
       "    </tr>\n",
       "    <tr>\n",
       "      <th>0</th>\n",
       "      <td>2023-08-25</td>\n",
       "      <td>AAPL</td>\n",
       "      <td>1</td>\n",
       "    </tr>\n",
       "    <tr>\n",
       "      <th>0</th>\n",
       "      <td>2023-08-28</td>\n",
       "      <td>AMZN</td>\n",
       "      <td>1</td>\n",
       "    </tr>\n",
       "    <tr>\n",
       "      <th>0</th>\n",
       "      <td>2023-08-29</td>\n",
       "      <td>AAPL</td>\n",
       "      <td>-1</td>\n",
       "    </tr>\n",
       "    <tr>\n",
       "      <th>0</th>\n",
       "      <td>2023-08-30</td>\n",
       "      <td>AMZN</td>\n",
       "      <td>-1</td>\n",
       "    </tr>\n",
       "    <tr>\n",
       "      <th>0</th>\n",
       "      <td>2023-08-31</td>\n",
       "      <td>GOOG</td>\n",
       "      <td>-1</td>\n",
       "    </tr>\n",
       "    <tr>\n",
       "      <th>0</th>\n",
       "      <td>2023-09-01</td>\n",
       "      <td>MSFT</td>\n",
       "      <td>1</td>\n",
       "    </tr>\n",
       "  </tbody>\n",
       "</table>\n",
       "</div>"
      ],
      "text/plain": [
       "            0     1  2\n",
       "0  2023-08-14  AAPL  1\n",
       "0  2023-08-15  AAPL -1\n",
       "0  2023-08-16  AAPL  1\n",
       "0  2023-08-17  AMZN  1\n",
       "0  2023-08-18  MSFT  1\n",
       "0  2023-08-21  GOOG  1\n",
       "0  2023-08-22  AAPL -1\n",
       "0  2023-08-23  AMZN -1\n",
       "0  2023-08-24  MSFT -1\n",
       "0  2023-08-25  AAPL  1\n",
       "0  2023-08-28  AMZN  1\n",
       "0  2023-08-29  AAPL -1\n",
       "0  2023-08-30  AMZN -1\n",
       "0  2023-08-31  GOOG -1\n",
       "0  2023-09-01  MSFT  1"
      ]
     },
     "execution_count": 573,
     "metadata": {},
     "output_type": "execute_result"
    }
   ],
   "source": [
    "instr_df = derive_instr(instrs)\n",
    "instr_df"
   ]
  },
  {
   "cell_type": "markdown",
   "id": "0847f9e2-ab2e-4292-8957-451063073944",
   "metadata": {},
   "source": [
    "#### 4.2.2 show result"
   ]
  },
  {
   "cell_type": "code",
   "execution_count": 574,
   "id": "f30c5f97-4630-4ab9-8775-ed38ecb1b75c",
   "metadata": {},
   "outputs": [
    {
     "name": "stdout",
     "output_type": "stream",
     "text": [
      "On 2023-08-14 trade AAPL\n",
      "{'action': 'buy', 'price': 178.61, 'bal': 7678.07, 'share': 13, 'status': 0, 'msg': 'success'}\n",
      "On 2023-08-15 trade AAPL\n",
      "{'action': 'sell', 'price': 178.21, 'bal': 9994.8, 'share': 13, 'status': 0, 'msg': 'success'}\n",
      "On 2023-08-16 trade AAPL\n",
      "{'action': 'buy', 'price': 177.18, 'bal': 7514.28, 'share': 14, 'status': 0, 'msg': 'success'}\n",
      "On 2023-08-17 trade AMZN\n",
      "{'action': 'buy', 'price': 134.76, 'bal': 5088.6, 'share': 18, 'status': 0, 'msg': 'success'}\n",
      "On 2023-08-18 trade MSFT\n",
      "{'action': 'buy', 'price': 315.23, 'bal': 2881.99, 'share': 7, 'status': 0, 'msg': 'success'}\n",
      "On 2023-08-21 trade GOOG\n",
      "{'action': 'buy', 'price': 128.3, 'bal': 444.29, 'share': 19, 'status': 0, 'msg': 'success'}\n",
      "On 2023-08-22 trade AAPL\n",
      "{'action': 'sell', 'price': 177.06, 'bal': 2923.13, 'share': 14, 'status': 0, 'msg': 'success'}\n",
      "On 2023-08-23 trade AMZN\n",
      "{'action': 'sell', 'price': 134.8, 'bal': 5349.53, 'share': 18, 'status': 0, 'msg': 'success'}\n",
      "On 2023-08-24 trade MSFT\n",
      "{'action': 'sell', 'price': 326.44, 'bal': 7634.61, 'share': 7, 'status': 0, 'msg': 'success'}\n",
      "On 2023-08-25 trade AAPL\n",
      "{'action': 'buy', 'price': 177.74, 'bal': 5146.25, 'share': 14, 'status': 0, 'msg': 'success'}\n",
      "On 2023-08-28 trade AMZN\n",
      "{'action': 'buy', 'price': 133.18, 'bal': 2749.01, 'share': 18, 'status': 0, 'msg': 'success'}\n",
      "On 2023-08-29 trade AAPL\n",
      "{'action': 'sell', 'price': 182.05, 'bal': 5297.71, 'share': 14, 'status': 0, 'msg': 'success'}\n",
      "On 2023-08-30 trade AMZN\n",
      "{'action': 'sell', 'price': 134.84, 'bal': 7724.83, 'share': 18, 'status': 0, 'msg': 'success'}\n",
      "On 2023-08-31 trade GOOG\n",
      "{'action': 'sell', 'price': 137.4, 'bal': 10335.43, 'share': 19, 'status': 0, 'msg': 'success'}\n",
      "On 2023-09-01 trade MSFT\n",
      "{'action': 'buy', 'price': 330.38, 'bal': 8022.77, 'share': 7, 'status': 0, 'msg': 'success'}\n",
      "networth: Cash: 8022.77, \n",
      "                  shares: {'AAPL': 0, 'AMZN': 0, 'MSFT': 7, 'GOOG': 0}, \n",
      "                  total: 10335.43\n"
     ]
    },
    {
     "data": {},
     "metadata": {},
     "output_type": "display_data"
    },
    {
     "data": {
      "application/vnd.holoviews_exec.v0+json": "",
      "text/html": [
       "<div id='43574'>\n",
       "  <div class=\"bk-root\" id=\"8b15248b-4c84-498c-8b8d-e8013fe7abb8\" data-root-id=\"43574\"></div>\n",
       "</div>\n",
       "<script type=\"application/javascript\">(function(root) {\n",
       "  function embed_document(root) {\n",
       "    var docs_json = {\"5f1bcdaf-2a36-4fb0-aa0f-edfb443e6939\":{\"defs\":[{\"extends\":null,\"module\":null,\"name\":\"ReactiveHTML1\",\"overrides\":[],\"properties\":[]},{\"extends\":null,\"module\":null,\"name\":\"FlexBox1\",\"overrides\":[],\"properties\":[{\"default\":\"flex-start\",\"kind\":null,\"name\":\"align_content\"},{\"default\":\"flex-start\",\"kind\":null,\"name\":\"align_items\"},{\"default\":\"row\",\"kind\":null,\"name\":\"flex_direction\"},{\"default\":\"wrap\",\"kind\":null,\"name\":\"flex_wrap\"},{\"default\":\"flex-start\",\"kind\":null,\"name\":\"justify_content\"}]},{\"extends\":null,\"module\":null,\"name\":\"GridStack1\",\"overrides\":[],\"properties\":[{\"default\":\"warn\",\"kind\":null,\"name\":\"mode\"},{\"default\":null,\"kind\":null,\"name\":\"ncols\"},{\"default\":null,\"kind\":null,\"name\":\"nrows\"},{\"default\":true,\"kind\":null,\"name\":\"allow_resize\"},{\"default\":true,\"kind\":null,\"name\":\"allow_drag\"},{\"default\":[],\"kind\":null,\"name\":\"state\"}]},{\"extends\":null,\"module\":null,\"name\":\"click1\",\"overrides\":[],\"properties\":[{\"default\":\"\",\"kind\":null,\"name\":\"terminal_output\"},{\"default\":\"\",\"kind\":null,\"name\":\"debug_name\"},{\"default\":0,\"kind\":null,\"name\":\"clears\"}]},{\"extends\":null,\"module\":null,\"name\":\"NotificationAreaBase1\",\"overrides\":[],\"properties\":[{\"default\":\"bottom-right\",\"kind\":null,\"name\":\"position\"},{\"default\":0,\"kind\":null,\"name\":\"_clear\"}]},{\"extends\":null,\"module\":null,\"name\":\"NotificationArea1\",\"overrides\":[],\"properties\":[{\"default\":[],\"kind\":null,\"name\":\"notifications\"},{\"default\":\"bottom-right\",\"kind\":null,\"name\":\"position\"},{\"default\":0,\"kind\":null,\"name\":\"_clear\"},{\"default\":[{\"background\":\"#ffc107\",\"icon\":{\"className\":\"fas fa-exclamation-triangle\",\"color\":\"white\",\"tagName\":\"i\"},\"type\":\"warning\"},{\"background\":\"#007bff\",\"icon\":{\"className\":\"fas fa-info-circle\",\"color\":\"white\",\"tagName\":\"i\"},\"type\":\"info\"}],\"kind\":null,\"name\":\"types\"}]},{\"extends\":null,\"module\":null,\"name\":\"Notification\",\"overrides\":[],\"properties\":[{\"default\":null,\"kind\":null,\"name\":\"background\"},{\"default\":3000,\"kind\":null,\"name\":\"duration\"},{\"default\":null,\"kind\":null,\"name\":\"icon\"},{\"default\":\"\",\"kind\":null,\"name\":\"message\"},{\"default\":null,\"kind\":null,\"name\":\"notification_type\"},{\"default\":false,\"kind\":null,\"name\":\"_destroyed\"}]},{\"extends\":null,\"module\":null,\"name\":\"TemplateActions1\",\"overrides\":[],\"properties\":[{\"default\":0,\"kind\":null,\"name\":\"open_modal\"},{\"default\":0,\"kind\":null,\"name\":\"close_modal\"}]},{\"extends\":null,\"module\":null,\"name\":\"MaterialTemplateActions1\",\"overrides\":[],\"properties\":[{\"default\":0,\"kind\":null,\"name\":\"open_modal\"},{\"default\":0,\"kind\":null,\"name\":\"close_modal\"}]}],\"roots\":{\"references\":[{\"attributes\":{},\"id\":\"43616\",\"type\":\"AllLabels\"},{\"attributes\":{\"days\":[1,8,15,22]},\"id\":\"43825\",\"type\":\"DaysTicker\"},{\"attributes\":{\"line_color\":\"#30a2da\",\"line_width\":2,\"x\":{\"field\":\"date\"},\"y\":{\"field\":\"value\"}},\"id\":\"43620\",\"type\":\"Line\"},{\"attributes\":{\"below\":[{\"id\":\"43590\"}],\"center\":[{\"id\":\"43593\"},{\"id\":\"43597\"}],\"frame_width\":325,\"height\":300,\"left\":[{\"id\":\"43594\"}],\"margin\":null,\"min_border_bottom\":10,\"min_border_left\":10,\"min_border_right\":10,\"min_border_top\":10,\"renderers\":[{\"id\":\"43623\"},{\"id\":\"43656\"},{\"id\":\"43690\"},{\"id\":\"43726\"}],\"right\":[{\"id\":\"43647\"}],\"sizing_mode\":\"fixed\",\"title\":{\"id\":\"43582\"},\"toolbar\":{\"id\":\"43604\"},\"toolbar_location\":null,\"width\":null,\"x_range\":{\"id\":\"43575\"},\"x_scale\":{\"id\":\"43586\"},\"y_range\":{\"id\":\"43576\"},\"y_scale\":{\"id\":\"43588\"}},\"id\":\"43581\",\"subtype\":\"Figure\",\"type\":\"Plot\"},{\"attributes\":{\"axis\":{\"id\":\"43775\"},\"coordinates\":null,\"grid_line_color\":null,\"group\":null,\"ticker\":null},\"id\":\"43778\",\"type\":\"Grid\"},{\"attributes\":{\"bottom_units\":\"screen\",\"coordinates\":null,\"fill_alpha\":0.5,\"fill_color\":\"lightgrey\",\"group\":null,\"left_units\":\"screen\",\"level\":\"overlay\",\"line_alpha\":1.0,\"line_color\":\"black\",\"line_dash\":[4,4],\"line_width\":2,\"right_units\":\"screen\",\"syncable\":false,\"top_units\":\"screen\"},\"id\":\"43788\",\"type\":\"BoxAnnotation\"},{\"attributes\":{},\"id\":\"43615\",\"type\":\"BasicTickFormatter\"},{\"attributes\":{\"num_minor_ticks\":5,\"tickers\":[{\"id\":\"43820\"},{\"id\":\"43821\"},{\"id\":\"43822\"},{\"id\":\"43823\"},{\"id\":\"43824\"},{\"id\":\"43825\"},{\"id\":\"43826\"},{\"id\":\"43827\"},{\"id\":\"43828\"},{\"id\":\"43829\"},{\"id\":\"43830\"},{\"id\":\"43831\"}]},\"id\":\"43776\",\"type\":\"DatetimeTicker\"},{\"attributes\":{\"days\":[1,15]},\"id\":\"43641\",\"type\":\"DaysTicker\"},{\"attributes\":{},\"id\":\"43613\",\"type\":\"AllLabels\"},{\"attributes\":{},\"id\":\"43798\",\"type\":\"AllLabels\"},{\"attributes\":{\"toolbar\":{\"id\":\"43928\"},\"toolbar_location\":\"above\"},\"id\":\"43929\",\"type\":\"ToolbarBox\"},{\"attributes\":{\"end\":20.9,\"reset_end\":20.9,\"reset_start\":-1.9000000000000001,\"start\":-1.9000000000000001,\"tags\":[[[\"value\",\"value\",null]]]},\"id\":\"43576\",\"type\":\"Range1d\"},{\"attributes\":{\"axis\":{\"id\":\"43779\"},\"coordinates\":null,\"dimension\":1,\"grid_line_color\":null,\"group\":null,\"ticker\":null},\"id\":\"43782\",\"type\":\"Grid\"},{\"attributes\":{\"coordinates\":null,\"group\":null,\"text\":\"networth and cash\",\"text_color\":\"black\",\"text_font_size\":\"12pt\"},\"id\":\"43767\",\"type\":\"Title\"},{\"attributes\":{\"base\":60,\"mantissas\":[1,2,5,10,15,20,30],\"max_interval\":1800000.0,\"min_interval\":1000.0,\"num_minor_ticks\":0},\"id\":\"43821\",\"type\":\"AdaptiveTicker\"},{\"attributes\":{},\"id\":\"43773\",\"type\":\"LinearScale\"},{\"attributes\":{},\"id\":\"43703\",\"type\":\"UnionRenderers\"},{\"attributes\":{\"callback\":null,\"formatters\":{\"@{date}\":\"datetime\"},\"renderers\":[{\"id\":\"43623\"},{\"id\":\"43656\"},{\"id\":\"43690\"},{\"id\":\"43726\"}],\"tags\":[\"hv_created\"],\"tooltips\":[[\"Variable\",\"@{Variable}\"],[\"date\",\"@{date}{%F %T}\"],[\"value\",\"@{value}\"]]},\"id\":\"43577\",\"type\":\"HoverTool\"},{\"attributes\":{\"months\":[0,4,8]},\"id\":\"43829\",\"type\":\"MonthsTicker\"},{\"attributes\":{\"line_color\":\"#fc4f30\",\"line_width\":2,\"x\":{\"field\":\"date\"},\"y\":{\"field\":\"value\"}},\"id\":\"43868\",\"type\":\"Line\"},{\"attributes\":{},\"id\":\"43784\",\"type\":\"PanTool\"},{\"attributes\":{},\"id\":\"43618\",\"type\":\"Selection\"},{\"attributes\":{\"days\":[1,4,7,10,13,16,19,22,25,28]},\"id\":\"43639\",\"type\":\"DaysTicker\"},{\"attributes\":{\"base\":24,\"mantissas\":[1,2,4,6,8,12],\"max_interval\":43200000.0,\"min_interval\":3600000.0,\"num_minor_ticks\":0},\"id\":\"43637\",\"type\":\"AdaptiveTicker\"},{\"attributes\":{\"data\":{\"Variable\":[\"GOOG\",\"GOOG\",\"GOOG\",\"GOOG\",\"GOOG\",\"GOOG\",\"GOOG\",\"GOOG\",\"GOOG\",\"GOOG\",\"GOOG\",\"GOOG\",\"GOOG\",\"GOOG\",\"GOOG\"],\"date\":{\"__ndarray__\":\"AABAehWfeEIAAADgZ594QgAAwEW6n3hCAACAqwygeEIAAEARX6B4QgAAgEJWoXhCAABAqKiheEIAAAAO+6F4QgAAwHNNonhCAACA2Z+ieEIAAMAKl6N4QgAAgHDpo3hCAABA1jukeEIAAAA8jqR4QgAAwKHgpHhC\",\"dtype\":\"float64\",\"order\":\"little\",\"shape\":[15]},\"value\":{\"__ndarray__\":\"AAAAAAAA+H8AAAAAAAD4fwAAAAAAAPh/AAAAAAAA+H8AAAAAAAD4fwAAAAAAADNAAAAAAAAAM0AAAAAAAAAzQAAAAAAAADNAAAAAAAAAM0AAAAAAAAAzQAAAAAAAADNAAAAAAAAAM0AAAAAAAAAAAAAAAAAAAAAA\",\"dtype\":\"float64\",\"order\":\"little\",\"shape\":[15]}},\"selected\":{\"id\":\"43721\"},\"selection_policy\":{\"id\":\"43741\"}},\"id\":\"43720\",\"type\":\"ColumnDataSource\"},{\"attributes\":{\"line_alpha\":0.1,\"line_color\":\"#30a2da\",\"line_width\":2,\"x\":{\"field\":\"date\"},\"y\":{\"field\":\"value\"}},\"id\":\"43621\",\"type\":\"Line\"},{\"attributes\":{\"line_alpha\":0.1,\"line_color\":\"#fc4f30\",\"line_width\":2,\"x\":{\"field\":\"date\"},\"y\":{\"field\":\"value\"}},\"id\":\"43839\",\"type\":\"Line\"},{\"attributes\":{},\"id\":\"43817\",\"type\":\"UnionRenderers\"},{\"attributes\":{\"callback\":null,\"formatters\":{\"@{date}\":\"datetime\"},\"renderers\":[{\"id\":\"43808\"},{\"id\":\"43841\"}],\"tags\":[\"hv_created\"],\"tooltips\":[[\"Variable\",\"@{Variable}\"],[\"date\",\"@{date}{%F %T}\"],[\"value\",\"@{value}\"]]},\"id\":\"43764\",\"type\":\"HoverTool\"},{\"attributes\":{\"click_policy\":\"mute\",\"coordinates\":null,\"group\":null,\"items\":[{\"id\":\"43833\"},{\"id\":\"43867\"}],\"location\":[0,0],\"title\":\"Variable\"},\"id\":\"43832\",\"type\":\"Legend\"},{\"attributes\":{\"months\":[0,1,2,3,4,5,6,7,8,9,10,11]},\"id\":\"43827\",\"type\":\"MonthsTicker\"},{\"attributes\":{\"days\":[1,4,7,10,13,16,19,22,25,28]},\"id\":\"43824\",\"type\":\"DaysTicker\"},{\"attributes\":{\"months\":[0,6]},\"id\":\"43830\",\"type\":\"MonthsTicker\"},{\"attributes\":{},\"id\":\"43612\",\"type\":\"DatetimeTickFormatter\"},{\"attributes\":{\"line_color\":\"#6d904f\",\"line_width\":2,\"x\":{\"field\":\"date\"},\"y\":{\"field\":\"value\"}},\"id\":\"43723\",\"type\":\"Line\"},{\"attributes\":{\"line_color\":\"#6d904f\",\"line_width\":2,\"x\":{\"field\":\"date\"},\"y\":{\"field\":\"value\"}},\"id\":\"43757\",\"type\":\"Line\"},{\"attributes\":{\"base\":24,\"mantissas\":[1,2,4,6,8,12],\"max_interval\":43200000.0,\"min_interval\":3600000.0,\"num_minor_ticks\":0},\"id\":\"43822\",\"type\":\"AdaptiveTicker\"},{\"attributes\":{\"axis_label\":\"dollars\",\"coordinates\":null,\"formatter\":{\"id\":\"43800\"},\"group\":null,\"major_label_policy\":{\"id\":\"43801\"},\"ticker\":{\"id\":\"43780\"}},\"id\":\"43779\",\"type\":\"LinearAxis\"},{\"attributes\":{\"end\":1693526400000.0,\"reset_end\":1693526400000.0,\"reset_start\":1691971200000.0,\"start\":1691971200000.0,\"tags\":[[[\"date\",\"date\",null]]]},\"id\":\"43762\",\"type\":\"Range1d\"},{\"attributes\":{\"line_color\":\"#fc4f30\",\"line_width\":2,\"x\":{\"field\":\"date\"},\"y\":{\"field\":\"value\"}},\"id\":\"43838\",\"type\":\"Line\"},{\"attributes\":{\"axis_label\":\"date\",\"coordinates\":null,\"formatter\":{\"id\":\"43797\"},\"group\":null,\"major_label_policy\":{\"id\":\"43798\"},\"ticker\":{\"id\":\"43776\"}},\"id\":\"43775\",\"type\":\"DatetimeAxis\"},{\"attributes\":{\"coordinates\":null,\"data_source\":{\"id\":\"43835\"},\"glyph\":{\"id\":\"43838\"},\"group\":null,\"hover_glyph\":null,\"muted_glyph\":{\"id\":\"43840\"},\"nonselection_glyph\":{\"id\":\"43839\"},\"selection_glyph\":{\"id\":\"43868\"},\"view\":{\"id\":\"43842\"}},\"id\":\"43841\",\"type\":\"GlyphRenderer\"},{\"attributes\":{\"source\":{\"id\":\"43617\"}},\"id\":\"43624\",\"type\":\"CDSView\"},{\"attributes\":{\"source\":{\"id\":\"43802\"}},\"id\":\"43809\",\"type\":\"CDSView\"},{\"attributes\":{\"label\":{\"value\":\"networth\"},\"renderers\":[{\"id\":\"43841\"}]},\"id\":\"43867\",\"type\":\"LegendItem\"},{\"attributes\":{\"line_alpha\":0.2,\"line_color\":\"#30a2da\",\"line_width\":2,\"x\":{\"field\":\"date\"},\"y\":{\"field\":\"value\"}},\"id\":\"43622\",\"type\":\"Line\"},{\"attributes\":{\"active_drag\":{\"id\":\"43784\"},\"active_scroll\":{\"id\":\"43785\"},\"tools\":[{\"id\":\"43764\"},{\"id\":\"43783\"},{\"id\":\"43784\"},{\"id\":\"43785\"},{\"id\":\"43786\"},{\"id\":\"43787\"}]},\"id\":\"43789\",\"type\":\"Toolbar\"},{\"attributes\":{},\"id\":\"43787\",\"type\":\"ResetTool\"},{\"attributes\":{\"source\":{\"id\":\"43720\"}},\"id\":\"43727\",\"type\":\"CDSView\"},{\"attributes\":{},\"id\":\"43801\",\"type\":\"AllLabels\"},{\"attributes\":{},\"id\":\"43797\",\"type\":\"DatetimeTickFormatter\"},{\"attributes\":{},\"id\":\"43831\",\"type\":\"YearsTicker\"},{\"attributes\":{},\"id\":\"43771\",\"type\":\"LinearScale\"},{\"attributes\":{},\"id\":\"43721\",\"type\":\"Selection\"},{\"attributes\":{\"coordinates\":null,\"data_source\":{\"id\":\"43617\"},\"glyph\":{\"id\":\"43620\"},\"group\":null,\"hover_glyph\":null,\"muted_glyph\":{\"id\":\"43622\"},\"nonselection_glyph\":{\"id\":\"43621\"},\"selection_glyph\":{\"id\":\"43649\"},\"view\":{\"id\":\"43624\"}},\"id\":\"43623\",\"type\":\"GlyphRenderer\"},{\"attributes\":{\"days\":[1,2,3,4,5,6,7,8,9,10,11,12,13,14,15,16,17,18,19,20,21,22,23,24,25,26,27,28,29,30,31]},\"id\":\"43823\",\"type\":\"DaysTicker\"},{\"attributes\":{\"line_alpha\":0.2,\"line_color\":\"#30a2da\",\"line_width\":2,\"x\":{\"field\":\"date\"},\"y\":{\"field\":\"value\"}},\"id\":\"43807\",\"type\":\"Line\"},{\"attributes\":{\"days\":[1,15]},\"id\":\"43826\",\"type\":\"DaysTicker\"},{\"attributes\":{\"below\":[{\"id\":\"43775\"}],\"center\":[{\"id\":\"43778\"},{\"id\":\"43782\"}],\"frame_width\":325,\"height\":300,\"left\":[{\"id\":\"43779\"}],\"margin\":null,\"min_border_bottom\":10,\"min_border_left\":10,\"min_border_right\":10,\"min_border_top\":10,\"renderers\":[{\"id\":\"43808\"},{\"id\":\"43841\"}],\"right\":[{\"id\":\"43832\"}],\"sizing_mode\":\"fixed\",\"title\":{\"id\":\"43767\"},\"toolbar\":{\"id\":\"43789\"},\"toolbar_location\":null,\"width\":null,\"x_range\":{\"id\":\"43762\"},\"x_scale\":{\"id\":\"43771\"},\"y_range\":{\"id\":\"43763\"},\"y_scale\":{\"id\":\"43773\"}},\"id\":\"43766\",\"subtype\":\"Figure\",\"type\":\"Plot\"},{\"attributes\":{},\"id\":\"43800\",\"type\":\"BasicTickFormatter\"},{\"attributes\":{\"toolbars\":[{\"id\":\"43604\"},{\"id\":\"43789\"}],\"tools\":[{\"id\":\"43577\"},{\"id\":\"43598\"},{\"id\":\"43599\"},{\"id\":\"43600\"},{\"id\":\"43601\"},{\"id\":\"43602\"},{\"id\":\"43764\"},{\"id\":\"43783\"},{\"id\":\"43784\"},{\"id\":\"43785\"},{\"id\":\"43786\"},{\"id\":\"43787\"}]},\"id\":\"43928\",\"type\":\"ProxyToolbar\"},{\"attributes\":{\"line_color\":\"#30a2da\",\"line_width\":2,\"x\":{\"field\":\"date\"},\"y\":{\"field\":\"value\"}},\"id\":\"43805\",\"type\":\"Line\"},{\"attributes\":{\"overlay\":{\"id\":\"43788\"}},\"id\":\"43786\",\"type\":\"BoxZoomTool\"},{\"attributes\":{\"end\":16649.127,\"reset_end\":16649.127,\"reset_start\":-1028.8770000000002,\"start\":-1028.8770000000002,\"tags\":[[[\"value\",\"value\",null]]]},\"id\":\"43763\",\"type\":\"Range1d\"},{\"attributes\":{\"line_alpha\":0.1,\"line_color\":\"#30a2da\",\"line_width\":2,\"x\":{\"field\":\"date\"},\"y\":{\"field\":\"value\"}},\"id\":\"43806\",\"type\":\"Line\"},{\"attributes\":{\"line_alpha\":0.2,\"line_color\":\"#fc4f30\",\"line_width\":2,\"x\":{\"field\":\"date\"},\"y\":{\"field\":\"value\"}},\"id\":\"43840\",\"type\":\"Line\"},{\"attributes\":{\"label\":{\"value\":\"cash\"},\"renderers\":[{\"id\":\"43808\"}]},\"id\":\"43833\",\"type\":\"LegendItem\"},{\"attributes\":{},\"id\":\"43780\",\"type\":\"BasicTicker\"},{\"attributes\":{},\"id\":\"43836\",\"type\":\"Selection\"},{\"attributes\":{\"mantissas\":[1,2,5],\"max_interval\":500.0,\"num_minor_ticks\":0},\"id\":\"43820\",\"type\":\"AdaptiveTicker\"},{\"attributes\":{},\"id\":\"43785\",\"type\":\"WheelZoomTool\"},{\"attributes\":{\"months\":[0,1,2,3,4,5,6,7,8,9,10,11]},\"id\":\"43642\",\"type\":\"MonthsTicker\"},{\"attributes\":{\"source\":{\"id\":\"43835\"}},\"id\":\"43842\",\"type\":\"CDSView\"},{\"attributes\":{},\"id\":\"43803\",\"type\":\"Selection\"},{\"attributes\":{\"label\":{\"value\":\"AAPL\"},\"renderers\":[{\"id\":\"43623\"}]},\"id\":\"43648\",\"type\":\"LegendItem\"},{\"attributes\":{\"months\":[0,2,4,6,8,10]},\"id\":\"43828\",\"type\":\"MonthsTicker\"},{\"attributes\":{\"coordinates\":null,\"data_source\":{\"id\":\"43802\"},\"glyph\":{\"id\":\"43805\"},\"group\":null,\"hover_glyph\":null,\"muted_glyph\":{\"id\":\"43807\"},\"nonselection_glyph\":{\"id\":\"43806\"},\"selection_glyph\":{\"id\":\"43834\"},\"view\":{\"id\":\"43809\"}},\"id\":\"43808\",\"type\":\"GlyphRenderer\"},{\"attributes\":{},\"id\":\"43783\",\"type\":\"SaveTool\"},{\"attributes\":{\"data\":{\"Variable\":[\"networth\",\"networth\",\"networth\",\"networth\",\"networth\",\"networth\",\"networth\",\"networth\",\"networth\",\"networth\",\"networth\",\"networth\",\"networth\",\"networth\",\"networth\"],\"date\":{\"__ndarray__\":\"AABAehWfeEIAAADgZ594QgAAwEW6n3hCAACAqwygeEIAAEARX6B4QgAAgEJWoXhCAABAqKiheEIAAAAO+6F4QgAAwHNNonhCAACA2Z+ieEIAAMAKl6N4QgAAgHDpo3hCAABA1jukeEIAAAA8jqR4QgAAwKHgpHhC\",\"dtype\":\"float64\",\"order\":\"little\",\"shape\":[15]},\"value\":{\"__ndarray__\":\"AAAAAACIw0BmZmZmZoXDQGZmZmZmhcNAKVyPwnVcwkAVrkfh+qPNQD4K16Owzb5A9ihcj+LsxEDXo3A9KkvBQI/C9Sh8BstAKVyPwtWBxUAfhetRmKLCQOJ6FK7HgMdA7FG4HmUXxECkcD0Kty/EQKRwPQq3L8RA\",\"dtype\":\"float64\",\"order\":\"little\",\"shape\":[15]}},\"selected\":{\"id\":\"43836\"},\"selection_policy\":{\"id\":\"43852\"}},\"id\":\"43835\",\"type\":\"ColumnDataSource\"},{\"attributes\":{\"coordinates\":null,\"data_source\":{\"id\":\"43650\"},\"glyph\":{\"id\":\"43653\"},\"group\":null,\"hover_glyph\":null,\"muted_glyph\":{\"id\":\"43655\"},\"nonselection_glyph\":{\"id\":\"43654\"},\"selection_glyph\":{\"id\":\"43683\"},\"view\":{\"id\":\"43657\"}},\"id\":\"43656\",\"type\":\"GlyphRenderer\"},{\"attributes\":{\"axis_label\":\"shares\",\"coordinates\":null,\"formatter\":{\"id\":\"43615\"},\"group\":null,\"major_label_policy\":{\"id\":\"43616\"},\"ticker\":{\"id\":\"43595\"}},\"id\":\"43594\",\"type\":\"LinearAxis\"},{\"attributes\":{\"line_color\":\"#30a2da\",\"line_width\":2,\"x\":{\"field\":\"date\"},\"y\":{\"field\":\"value\"}},\"id\":\"43834\",\"type\":\"Line\"},{\"attributes\":{},\"id\":\"43598\",\"type\":\"SaveTool\"},{\"attributes\":{\"days\":[1,8,15,22]},\"id\":\"43640\",\"type\":\"DaysTicker\"},{\"attributes\":{},\"id\":\"43651\",\"type\":\"Selection\"},{\"attributes\":{\"label\":{\"value\":\"AMZN\"},\"renderers\":[{\"id\":\"43656\"}]},\"id\":\"43682\",\"type\":\"LegendItem\"},{\"attributes\":{\"line_alpha\":0.2,\"line_color\":\"#e5ae38\",\"line_width\":2,\"x\":{\"field\":\"date\"},\"y\":{\"field\":\"value\"}},\"id\":\"43689\",\"type\":\"Line\"},{\"attributes\":{\"overlay\":{\"id\":\"43603\"}},\"id\":\"43601\",\"type\":\"BoxZoomTool\"},{\"attributes\":{\"line_alpha\":0.2,\"line_color\":\"#6d904f\",\"line_width\":2,\"x\":{\"field\":\"date\"},\"y\":{\"field\":\"value\"}},\"id\":\"43725\",\"type\":\"Line\"},{\"attributes\":{\"mantissas\":[1,2,5],\"max_interval\":500.0,\"num_minor_ticks\":0},\"id\":\"43635\",\"type\":\"AdaptiveTicker\"},{\"attributes\":{\"coordinates\":null,\"group\":null,\"text\":\"shares in trading\",\"text_color\":\"black\",\"text_font_size\":\"12pt\"},\"id\":\"43582\",\"type\":\"Title\"},{\"attributes\":{\"axis\":{\"id\":\"43590\"},\"coordinates\":null,\"grid_line_color\":null,\"group\":null,\"ticker\":null},\"id\":\"43593\",\"type\":\"Grid\"},{\"attributes\":{\"base\":60,\"mantissas\":[1,2,5,10,15,20,30],\"max_interval\":1800000.0,\"min_interval\":1000.0,\"num_minor_ticks\":0},\"id\":\"43636\",\"type\":\"AdaptiveTicker\"},{\"attributes\":{},\"id\":\"43685\",\"type\":\"Selection\"},{\"attributes\":{},\"id\":\"43586\",\"type\":\"LinearScale\"},{\"attributes\":{\"line_color\":\"#fc4f30\",\"line_width\":2,\"x\":{\"field\":\"date\"},\"y\":{\"field\":\"value\"}},\"id\":\"43683\",\"type\":\"Line\"},{\"attributes\":{\"axis\":{\"id\":\"43594\"},\"coordinates\":null,\"dimension\":1,\"grid_line_color\":null,\"group\":null,\"ticker\":null},\"id\":\"43597\",\"type\":\"Grid\"},{\"attributes\":{\"line_alpha\":0.1,\"line_color\":\"#e5ae38\",\"line_width\":2,\"x\":{\"field\":\"date\"},\"y\":{\"field\":\"value\"}},\"id\":\"43688\",\"type\":\"Line\"},{\"attributes\":{\"active_drag\":{\"id\":\"43599\"},\"active_scroll\":{\"id\":\"43600\"},\"tools\":[{\"id\":\"43577\"},{\"id\":\"43598\"},{\"id\":\"43599\"},{\"id\":\"43600\"},{\"id\":\"43601\"},{\"id\":\"43602\"}]},\"id\":\"43604\",\"type\":\"Toolbar\"},{\"attributes\":{\"line_color\":\"#fc4f30\",\"line_width\":2,\"x\":{\"field\":\"date\"},\"y\":{\"field\":\"value\"}},\"id\":\"43653\",\"type\":\"Line\"},{\"attributes\":{},\"id\":\"43599\",\"type\":\"PanTool\"},{\"attributes\":{\"source\":{\"id\":\"43684\"}},\"id\":\"43691\",\"type\":\"CDSView\"},{\"attributes\":{\"label\":{\"value\":\"MSFT\"},\"renderers\":[{\"id\":\"43690\"}]},\"id\":\"43718\",\"type\":\"LegendItem\"},{\"attributes\":{\"line_alpha\":0.1,\"line_color\":\"#fc4f30\",\"line_width\":2,\"x\":{\"field\":\"date\"},\"y\":{\"field\":\"value\"}},\"id\":\"43654\",\"type\":\"Line\"},{\"attributes\":{\"children\":[{\"id\":\"43929\"},{\"id\":\"43927\"}]},\"id\":\"43930\",\"type\":\"Column\"},{\"attributes\":{},\"id\":\"43595\",\"type\":\"BasicTicker\"},{\"attributes\":{},\"id\":\"43602\",\"type\":\"ResetTool\"},{\"attributes\":{},\"id\":\"43741\",\"type\":\"UnionRenderers\"},{\"attributes\":{\"axis_label\":\"date\",\"coordinates\":null,\"formatter\":{\"id\":\"43612\"},\"group\":null,\"major_label_policy\":{\"id\":\"43613\"},\"ticker\":{\"id\":\"43591\"}},\"id\":\"43590\",\"type\":\"DatetimeAxis\"},{\"attributes\":{\"click_policy\":\"mute\",\"coordinates\":null,\"group\":null,\"items\":[{\"id\":\"43648\"},{\"id\":\"43682\"},{\"id\":\"43718\"},{\"id\":\"43756\"}],\"location\":[0,0],\"title\":\"Variable\"},\"id\":\"43647\",\"type\":\"Legend\"},{\"attributes\":{},\"id\":\"43632\",\"type\":\"UnionRenderers\"},{\"attributes\":{},\"id\":\"43600\",\"type\":\"WheelZoomTool\"},{\"attributes\":{},\"id\":\"43852\",\"type\":\"UnionRenderers\"},{\"attributes\":{\"days\":[1,2,3,4,5,6,7,8,9,10,11,12,13,14,15,16,17,18,19,20,21,22,23,24,25,26,27,28,29,30,31]},\"id\":\"43638\",\"type\":\"DaysTicker\"},{\"attributes\":{\"data\":{\"Variable\":[\"AAPL\",\"AAPL\",\"AAPL\",\"AAPL\",\"AAPL\",\"AAPL\",\"AAPL\",\"AAPL\",\"AAPL\",\"AAPL\",\"AAPL\",\"AAPL\",\"AAPL\",\"AAPL\",\"AAPL\"],\"date\":{\"__ndarray__\":\"AABAehWfeEIAAADgZ594QgAAwEW6n3hCAACAqwygeEIAAEARX6B4QgAAgEJWoXhCAABAqKiheEIAAAAO+6F4QgAAwHNNonhCAACA2Z+ieEIAAMAKl6N4QgAAgHDpo3hCAABA1jukeEIAAAA8jqR4QgAAwKHgpHhC\",\"dtype\":\"float64\",\"order\":\"little\",\"shape\":[15]},\"value\":[13,0,14,14,14,14,0,0,0,14,14,0,0,0,0]},\"selected\":{\"id\":\"43618\"},\"selection_policy\":{\"id\":\"43632\"}},\"id\":\"43617\",\"type\":\"ColumnDataSource\"},{\"attributes\":{},\"id\":\"43588\",\"type\":\"LinearScale\"},{\"attributes\":{\"line_color\":\"#e5ae38\",\"line_width\":2,\"x\":{\"field\":\"date\"},\"y\":{\"field\":\"value\"}},\"id\":\"43687\",\"type\":\"Line\"},{\"attributes\":{},\"id\":\"43646\",\"type\":\"YearsTicker\"},{\"attributes\":{\"data\":{\"Variable\":[\"AMZN\",\"AMZN\",\"AMZN\",\"AMZN\",\"AMZN\",\"AMZN\",\"AMZN\",\"AMZN\",\"AMZN\",\"AMZN\",\"AMZN\",\"AMZN\",\"AMZN\",\"AMZN\",\"AMZN\"],\"date\":{\"__ndarray__\":\"AABAehWfeEIAAADgZ594QgAAwEW6n3hCAACAqwygeEIAAEARX6B4QgAAgEJWoXhCAABAqKiheEIAAAAO+6F4QgAAwHNNonhCAACA2Z+ieEIAAMAKl6N4QgAAgHDpo3hCAABA1jukeEIAAAA8jqR4QgAAwKHgpHhC\",\"dtype\":\"float64\",\"order\":\"little\",\"shape\":[15]},\"value\":{\"__ndarray__\":\"AAAAAAAA+H8AAAAAAAD4fwAAAAAAAPh/AAAAAAAAMkAAAAAAAAAyQAAAAAAAADJAAAAAAAAAMkAAAAAAAAAAAAAAAAAAAAAAAAAAAAAAAAAAAAAAAAAyQAAAAAAAADJAAAAAAAAAAAAAAAAAAAAAAAAAAAAAAAAA\",\"dtype\":\"float64\",\"order\":\"little\",\"shape\":[15]}},\"selected\":{\"id\":\"43651\"},\"selection_policy\":{\"id\":\"43667\"}},\"id\":\"43650\",\"type\":\"ColumnDataSource\"},{\"attributes\":{\"line_alpha\":0.2,\"line_color\":\"#fc4f30\",\"line_width\":2,\"x\":{\"field\":\"date\"},\"y\":{\"field\":\"value\"}},\"id\":\"43655\",\"type\":\"Line\"},{\"attributes\":{\"bottom_units\":\"screen\",\"coordinates\":null,\"fill_alpha\":0.5,\"fill_color\":\"lightgrey\",\"group\":null,\"left_units\":\"screen\",\"level\":\"overlay\",\"line_alpha\":1.0,\"line_color\":\"black\",\"line_dash\":[4,4],\"line_width\":2,\"right_units\":\"screen\",\"syncable\":false,\"top_units\":\"screen\"},\"id\":\"43603\",\"type\":\"BoxAnnotation\"},{\"attributes\":{\"children\":[[{\"id\":\"43581\"},0,0],[{\"id\":\"43766\"},0,1]]},\"id\":\"43927\",\"type\":\"GridBox\"},{\"attributes\":{\"coordinates\":null,\"data_source\":{\"id\":\"43684\"},\"glyph\":{\"id\":\"43687\"},\"group\":null,\"hover_glyph\":null,\"muted_glyph\":{\"id\":\"43689\"},\"nonselection_glyph\":{\"id\":\"43688\"},\"selection_glyph\":{\"id\":\"43719\"},\"view\":{\"id\":\"43691\"}},\"id\":\"43690\",\"type\":\"GlyphRenderer\"},{\"attributes\":{\"line_alpha\":0.1,\"line_color\":\"#6d904f\",\"line_width\":2,\"x\":{\"field\":\"date\"},\"y\":{\"field\":\"value\"}},\"id\":\"43724\",\"type\":\"Line\"},{\"attributes\":{\"label\":{\"value\":\"GOOG\"},\"renderers\":[{\"id\":\"43726\"}]},\"id\":\"43756\",\"type\":\"LegendItem\"},{\"attributes\":{\"months\":[0,6]},\"id\":\"43645\",\"type\":\"MonthsTicker\"},{\"attributes\":{\"data\":{\"Variable\":[\"cash\",\"cash\",\"cash\",\"cash\",\"cash\",\"cash\",\"cash\",\"cash\",\"cash\",\"cash\",\"cash\",\"cash\",\"cash\",\"cash\",\"cash\"],\"date\":{\"__ndarray__\":\"AABAehWfeEIAAADgZ594QgAAwEW6n3hCAACAqwygeEIAAEARX6B4QgAAgEJWoXhCAABAqKiheEIAAAAO+6F4QgAAwHNNonhCAACA2Z+ieEIAAMAKl6N4QgAAgHDpo3hCAABA1jukeEIAAAA8jqR4QgAAwKHgpHhC\",\"dtype\":\"float64\",\"order\":\"little\",\"shape\":[15]},\"value\":{\"__ndarray__\":\"uB6F6xH+vUBmZmZmZoXDQOF6FK5HWr1AmpmZmZngs0AUrkfh+oOmQHE9CtejxHtA9ihcj0LWpkDhehSuh+W0QI/C9Sic0r1AAAAAAEAatEDsUbgeBXqlQClcj8K1sbRArkfhetQsvkCkcD0Kty/EQOxRuB7FVr9A\",\"dtype\":\"float64\",\"order\":\"little\",\"shape\":[15]}},\"selected\":{\"id\":\"43803\"},\"selection_policy\":{\"id\":\"43817\"}},\"id\":\"43802\",\"type\":\"ColumnDataSource\"},{\"attributes\":{\"months\":[0,2,4,6,8,10]},\"id\":\"43643\",\"type\":\"MonthsTicker\"},{\"attributes\":{},\"id\":\"43667\",\"type\":\"UnionRenderers\"},{\"attributes\":{\"data\":{\"Variable\":[\"MSFT\",\"MSFT\",\"MSFT\",\"MSFT\",\"MSFT\",\"MSFT\",\"MSFT\",\"MSFT\",\"MSFT\",\"MSFT\",\"MSFT\",\"MSFT\",\"MSFT\",\"MSFT\",\"MSFT\"],\"date\":{\"__ndarray__\":\"AABAehWfeEIAAADgZ594QgAAwEW6n3hCAACAqwygeEIAAEARX6B4QgAAgEJWoXhCAABAqKiheEIAAAAO+6F4QgAAwHNNonhCAACA2Z+ieEIAAMAKl6N4QgAAgHDpo3hCAABA1jukeEIAAAA8jqR4QgAAwKHgpHhC\",\"dtype\":\"float64\",\"order\":\"little\",\"shape\":[15]},\"value\":{\"__ndarray__\":\"AAAAAAAA+H8AAAAAAAD4fwAAAAAAAPh/AAAAAAAA+H8AAAAAAAAcQAAAAAAAABxAAAAAAAAAHEAAAAAAAAAcQAAAAAAAAAAAAAAAAAAAAAAAAAAAAAAAAAAAAAAAAAAAAAAAAAAAAAAAAAAAAAAAAAAAAAAAABxA\",\"dtype\":\"float64\",\"order\":\"little\",\"shape\":[15]}},\"selected\":{\"id\":\"43685\"},\"selection_policy\":{\"id\":\"43703\"}},\"id\":\"43684\",\"type\":\"ColumnDataSource\"},{\"attributes\":{\"months\":[0,4,8]},\"id\":\"43644\",\"type\":\"MonthsTicker\"},{\"attributes\":{\"num_minor_ticks\":5,\"tickers\":[{\"id\":\"43635\"},{\"id\":\"43636\"},{\"id\":\"43637\"},{\"id\":\"43638\"},{\"id\":\"43639\"},{\"id\":\"43640\"},{\"id\":\"43641\"},{\"id\":\"43642\"},{\"id\":\"43643\"},{\"id\":\"43644\"},{\"id\":\"43645\"},{\"id\":\"43646\"}]},\"id\":\"43591\",\"type\":\"DatetimeTicker\"},{\"attributes\":{\"end\":1693526400000.0,\"reset_end\":1693526400000.0,\"reset_start\":1691971200000.0,\"start\":1691971200000.0,\"tags\":[[[\"date\",\"date\",null]]]},\"id\":\"43575\",\"type\":\"Range1d\"},{\"attributes\":{\"children\":[{\"id\":\"43930\"}],\"margin\":[0,0,0,0],\"name\":\"Row36329\",\"tags\":[\"embedded\"]},\"id\":\"43574\",\"type\":\"Row\"},{\"attributes\":{\"line_color\":\"#e5ae38\",\"line_width\":2,\"x\":{\"field\":\"date\"},\"y\":{\"field\":\"value\"}},\"id\":\"43719\",\"type\":\"Line\"},{\"attributes\":{\"coordinates\":null,\"data_source\":{\"id\":\"43720\"},\"glyph\":{\"id\":\"43723\"},\"group\":null,\"hover_glyph\":null,\"muted_glyph\":{\"id\":\"43725\"},\"nonselection_glyph\":{\"id\":\"43724\"},\"selection_glyph\":{\"id\":\"43757\"},\"view\":{\"id\":\"43727\"}},\"id\":\"43726\",\"type\":\"GlyphRenderer\"},{\"attributes\":{\"line_color\":\"#30a2da\",\"line_width\":2,\"x\":{\"field\":\"date\"},\"y\":{\"field\":\"value\"}},\"id\":\"43649\",\"type\":\"Line\"},{\"attributes\":{\"source\":{\"id\":\"43650\"}},\"id\":\"43657\",\"type\":\"CDSView\"}],\"root_ids\":[\"43574\"]},\"title\":\"Bokeh Application\",\"version\":\"2.4.3\"}};\n",
       "    var render_items = [{\"docid\":\"5f1bcdaf-2a36-4fb0-aa0f-edfb443e6939\",\"root_ids\":[\"43574\"],\"roots\":{\"43574\":\"8b15248b-4c84-498c-8b8d-e8013fe7abb8\"}}];\n",
       "    root.Bokeh.embed.embed_items_notebook(docs_json, render_items);\n",
       "    for (const render_item of render_items) {\n",
       "      for (const root_id of render_item.root_ids) {\n",
       "\tconst id_el = document.getElementById(root_id)\n",
       "\tif (id_el.children.length && (id_el.children[0].className === 'bk-root')) {\n",
       "\t  const root_el = id_el.children[0]\n",
       "\t  root_el.id = root_el.id + '-rendered'\n",
       "\t}\n",
       "      }\n",
       "    }\n",
       "  }\n",
       "  if (root.Bokeh !== undefined && root.Bokeh.Panel !== undefined) {\n",
       "    embed_document(root);\n",
       "  } else {\n",
       "    var attempts = 0;\n",
       "    var timer = setInterval(function(root) {\n",
       "      if (root.Bokeh !== undefined && root.Bokeh.Panel !== undefined) {\n",
       "        clearInterval(timer);\n",
       "        embed_document(root);\n",
       "      } else if (document.readyState == \"complete\") {\n",
       "        attempts++;\n",
       "        if (attempts > 200) {\n",
       "          clearInterval(timer);\n",
       "          console.log(\"Bokeh: ERROR: Unable to run BokehJS code because BokehJS library is missing\");\n",
       "        }\n",
       "      }\n",
       "    }, 25, root)\n",
       "  }\n",
       "})(window);</script>"
      ],
      "text/plain": [
       ":Layout\n",
       "   .NdOverlay.I  :NdOverlay   [Variable]\n",
       "      :Curve   [date]   (value)\n",
       "   .NdOverlay.II :NdOverlay   [Variable]\n",
       "      :Curve   [date]   (value)"
      ]
     },
     "execution_count": 574,
     "metadata": {
      "application/vnd.holoviews_exec.v0+json": {
       "id": "43574"
      }
     },
     "output_type": "execute_result"
    }
   ],
   "source": [
    "trade_action(instr_df)"
   ]
  },
  {
   "cell_type": "markdown",
   "id": "aebd6c04-55f1-4a44-b743-16bcadc4d597",
   "metadata": {},
   "source": [
    "### 4.3 rolling run 500 times"
   ]
  },
  {
   "cell_type": "code",
   "execution_count": null,
   "id": "20e13cea-edd1-4fb3-8bd9-87602df9a10e",
   "metadata": {},
   "outputs": [],
   "source": [
    "def one_run_a(str_loc):\n",
    "    instrs = pd.DataFrame()\n",
    "    for key in signals_dfs:\n",
    "        cycle = signals_dfs[key].iloc[str_loc:,:]\n",
    "        signals_dfs[key].iloc[str_loc:, :]\n",
    "        cycle_signals = ML_pred_a(cycle).set_index(0)\n",
    "        cycle_signals.columns = [key]\n",
    "        instrs = pd.concat([instrs, cycle_signals],axis=1)\n",
    "        \n",
    "    instr_df = derive_instr(instrs)\n",
    "    return trade_action(instr_df, verbose=0)\n",
    "\n",
    "final_worths = []\n",
    "for n in range(500):\n",
    "    final_worths.append( one_run_a(-105-n) )\n"
   ]
  },
  {
   "cell_type": "code",
   "execution_count": 596,
   "id": "93426f03-732c-4851-83f0-00ca83cc1332",
   "metadata": {},
   "outputs": [
    {
     "data": {},
     "metadata": {},
     "output_type": "display_data"
    },
    {
     "data": {
      "application/vnd.holoviews_exec.v0+json": "",
      "text/html": [
       "<div id='45927'>\n",
       "  <div class=\"bk-root\" id=\"93aa4005-e6cc-4cec-a751-4e6b7d5269de\" data-root-id=\"45927\"></div>\n",
       "</div>\n",
       "<script type=\"application/javascript\">(function(root) {\n",
       "  function embed_document(root) {\n",
       "    var docs_json = {\"52e2ad84-e716-4590-b233-fde0a1419342\":{\"defs\":[{\"extends\":null,\"module\":null,\"name\":\"ReactiveHTML1\",\"overrides\":[],\"properties\":[]},{\"extends\":null,\"module\":null,\"name\":\"FlexBox1\",\"overrides\":[],\"properties\":[{\"default\":\"flex-start\",\"kind\":null,\"name\":\"align_content\"},{\"default\":\"flex-start\",\"kind\":null,\"name\":\"align_items\"},{\"default\":\"row\",\"kind\":null,\"name\":\"flex_direction\"},{\"default\":\"wrap\",\"kind\":null,\"name\":\"flex_wrap\"},{\"default\":\"flex-start\",\"kind\":null,\"name\":\"justify_content\"}]},{\"extends\":null,\"module\":null,\"name\":\"GridStack1\",\"overrides\":[],\"properties\":[{\"default\":\"warn\",\"kind\":null,\"name\":\"mode\"},{\"default\":null,\"kind\":null,\"name\":\"ncols\"},{\"default\":null,\"kind\":null,\"name\":\"nrows\"},{\"default\":true,\"kind\":null,\"name\":\"allow_resize\"},{\"default\":true,\"kind\":null,\"name\":\"allow_drag\"},{\"default\":[],\"kind\":null,\"name\":\"state\"}]},{\"extends\":null,\"module\":null,\"name\":\"click1\",\"overrides\":[],\"properties\":[{\"default\":\"\",\"kind\":null,\"name\":\"terminal_output\"},{\"default\":\"\",\"kind\":null,\"name\":\"debug_name\"},{\"default\":0,\"kind\":null,\"name\":\"clears\"}]},{\"extends\":null,\"module\":null,\"name\":\"NotificationAreaBase1\",\"overrides\":[],\"properties\":[{\"default\":\"bottom-right\",\"kind\":null,\"name\":\"position\"},{\"default\":0,\"kind\":null,\"name\":\"_clear\"}]},{\"extends\":null,\"module\":null,\"name\":\"NotificationArea1\",\"overrides\":[],\"properties\":[{\"default\":[],\"kind\":null,\"name\":\"notifications\"},{\"default\":\"bottom-right\",\"kind\":null,\"name\":\"position\"},{\"default\":0,\"kind\":null,\"name\":\"_clear\"},{\"default\":[{\"background\":\"#ffc107\",\"icon\":{\"className\":\"fas fa-exclamation-triangle\",\"color\":\"white\",\"tagName\":\"i\"},\"type\":\"warning\"},{\"background\":\"#007bff\",\"icon\":{\"className\":\"fas fa-info-circle\",\"color\":\"white\",\"tagName\":\"i\"},\"type\":\"info\"}],\"kind\":null,\"name\":\"types\"}]},{\"extends\":null,\"module\":null,\"name\":\"Notification\",\"overrides\":[],\"properties\":[{\"default\":null,\"kind\":null,\"name\":\"background\"},{\"default\":3000,\"kind\":null,\"name\":\"duration\"},{\"default\":null,\"kind\":null,\"name\":\"icon\"},{\"default\":\"\",\"kind\":null,\"name\":\"message\"},{\"default\":null,\"kind\":null,\"name\":\"notification_type\"},{\"default\":false,\"kind\":null,\"name\":\"_destroyed\"}]},{\"extends\":null,\"module\":null,\"name\":\"TemplateActions1\",\"overrides\":[],\"properties\":[{\"default\":0,\"kind\":null,\"name\":\"open_modal\"},{\"default\":0,\"kind\":null,\"name\":\"close_modal\"}]},{\"extends\":null,\"module\":null,\"name\":\"MaterialTemplateActions1\",\"overrides\":[],\"properties\":[{\"default\":0,\"kind\":null,\"name\":\"open_modal\"},{\"default\":0,\"kind\":null,\"name\":\"close_modal\"}]}],\"roots\":{\"references\":[{\"attributes\":{\"axis\":{\"id\":\"45940\"},\"coordinates\":null,\"grid_line_color\":null,\"group\":null,\"ticker\":null},\"id\":\"45943\",\"type\":\"Grid\"},{\"attributes\":{\"coordinates\":null,\"data_source\":{\"id\":\"45961\"},\"glyph\":{\"id\":\"45964\"},\"group\":null,\"hover_glyph\":null,\"muted_glyph\":{\"id\":\"45966\"},\"nonselection_glyph\":{\"id\":\"45965\"},\"selection_glyph\":{\"id\":\"45969\"},\"view\":{\"id\":\"45968\"}},\"id\":\"45967\",\"type\":\"GlyphRenderer\"},{\"attributes\":{\"children\":[{\"id\":\"45931\"}],\"height\":300,\"margin\":[0,0,0,0],\"name\":\"Row38101\",\"sizing_mode\":\"fixed\",\"tags\":[\"embedded\"],\"width\":700},\"id\":\"45927\",\"type\":\"Row\"},{\"attributes\":{\"axis_label\":\"final_worth\",\"coordinates\":null,\"formatter\":{\"id\":\"45970\"},\"group\":null,\"major_label_policy\":{\"id\":\"45973\"},\"ticker\":{\"id\":\"45941\"}},\"id\":\"45940\",\"type\":\"LinearAxis\"},{\"attributes\":{\"axis_label\":\"\",\"coordinates\":null,\"formatter\":{\"id\":\"45977\"},\"group\":null,\"major_label_policy\":{\"id\":\"45978\"},\"ticker\":{\"id\":\"45945\"}},\"id\":\"45944\",\"type\":\"LinearAxis\"},{\"attributes\":{\"data\":{\"final_worth\":{\"__ndarray__\":\"FK5H4cKWvED1KFyPLifJQHA9Ctd9AdJAZWZmZmRv10Bbj8L1St3cQChcj8KYJeFAonA9Cozc40AehetRf5PmQJiZmZlySulAFK5H4WUB7ECOwvUoWbjuQITrUTimt/BAwvUo3B8T8kAAAACAmW7zQD0K1yMTyvRAehSux4wl9kC4HoVrBoH3QPUoXA+A3PhAMjMzs/k3+kBwPQpXc5P7QA==\",\"dtype\":\"float64\",\"order\":\"little\",\"shape\":[20]},\"final_worth_count\":[225,233,12,0,5,3,0,1,4,0,5,2,7,0,0,1,0,0,1,1],\"left\":{\"__ndarray__\":\"KVyPwvW6sUAAAAAASLnDQOpRuB4Vlc5A6lG4HnG41EDgehSuVybaQNajcD0+lN9AZWZmZhKB4kDgehSuBTjlQFuPwvX47udA1qNwPeyl6kBRuB6F31ztQGZmZmbpCfBAo3A9CmNl8UDhehSu3MDyQB6F61FWHPRAXI/C9c939UCZmZmZSdP2QNajcD3DLvhAFK5H4TyK+UBRuB6FtuX6QA==\",\"dtype\":\"float64\",\"order\":\"little\",\"shape\":[20]},\"right\":{\"__ndarray__\":\"AAAAAEi5w0DqUbgeFZXOQOpRuB5xuNRA4HoUrlcm2kDWo3A9PpTfQGVmZmYSgeJA4HoUrgU45UBbj8L1+O7nQNajcD3spepAUbgehd9c7UBmZmZm6QnwQKNwPQpjZfFA4XoUrtzA8kAehetRVhz0QFyPwvXPd/VAmZmZmUnT9kDWo3A9wy74QBSuR+E8ivlAUbgehbbl+kCPwvUoMEH8QA==\",\"dtype\":\"float64\",\"order\":\"little\",\"shape\":[20]},\"top\":[225,233,12,0,5,3,0,1,4,0,5,2,7,0,0,1,0,0,1,1]},\"selected\":{\"id\":\"45962\"},\"selection_policy\":{\"id\":\"45989\"}},\"id\":\"45961\",\"type\":\"ColumnDataSource\"},{\"attributes\":{\"active_drag\":{\"id\":\"45949\"},\"active_scroll\":{\"id\":\"45950\"},\"tools\":[{\"id\":\"45930\"},{\"id\":\"45948\"},{\"id\":\"45949\"},{\"id\":\"45950\"},{\"id\":\"45951\"},{\"id\":\"45952\"}]},\"id\":\"45954\",\"type\":\"Toolbar\"},{\"attributes\":{},\"id\":\"45950\",\"type\":\"WheelZoomTool\"},{\"attributes\":{},\"id\":\"45973\",\"type\":\"AllLabels\"},{\"attributes\":{\"coordinates\":null,\"group\":null,\"text_color\":\"black\",\"text_font_size\":\"12pt\"},\"id\":\"45932\",\"type\":\"Title\"},{\"attributes\":{},\"id\":\"45941\",\"type\":\"BasicTicker\"},{\"attributes\":{\"end\":256.3,\"reset_end\":256.3,\"reset_start\":0.0,\"tags\":[[[\"final_worth_count\",\"Count\",null]]]},\"id\":\"45929\",\"type\":\"Range1d\"},{\"attributes\":{},\"id\":\"45952\",\"type\":\"ResetTool\"},{\"attributes\":{},\"id\":\"45938\",\"type\":\"LinearScale\"},{\"attributes\":{},\"id\":\"45948\",\"type\":\"SaveTool\"},{\"attributes\":{\"format\":\"%.0f\"},\"id\":\"45970\",\"type\":\"PrintfTickFormatter\"},{\"attributes\":{\"axis\":{\"id\":\"45944\"},\"coordinates\":null,\"dimension\":1,\"grid_line_color\":null,\"group\":null,\"ticker\":null},\"id\":\"45947\",\"type\":\"Grid\"},{\"attributes\":{},\"id\":\"45978\",\"type\":\"AllLabels\"},{\"attributes\":{\"bottom\":{\"value\":0},\"fill_color\":{\"value\":\"#30a2da\"},\"hatch_color\":{\"value\":\"#30a2da\"},\"left\":{\"field\":\"left\"},\"right\":{\"field\":\"right\"},\"top\":{\"field\":\"top\"}},\"id\":\"45964\",\"type\":\"Quad\"},{\"attributes\":{\"end\":120496.38357142857,\"reset_end\":120496.38357142857,\"reset_start\":-226.41357142857123,\"start\":-226.41357142857123,\"tags\":[[[\"final_worth\",\"final_worth\",null]]]},\"id\":\"45928\",\"type\":\"Range1d\"},{\"attributes\":{},\"id\":\"45977\",\"type\":\"BasicTickFormatter\"},{\"attributes\":{\"bottom_units\":\"screen\",\"coordinates\":null,\"fill_alpha\":0.5,\"fill_color\":\"lightgrey\",\"group\":null,\"left_units\":\"screen\",\"level\":\"overlay\",\"line_alpha\":1.0,\"line_color\":\"black\",\"line_dash\":[4,4],\"line_width\":2,\"right_units\":\"screen\",\"syncable\":false,\"top_units\":\"screen\"},\"id\":\"45953\",\"type\":\"BoxAnnotation\"},{\"attributes\":{},\"id\":\"45962\",\"type\":\"Selection\"},{\"attributes\":{\"bottom\":{\"value\":0},\"fill_alpha\":{\"value\":1.0},\"fill_color\":{\"value\":\"#30a2da\"},\"hatch_alpha\":{\"value\":1.0},\"hatch_color\":{\"value\":\"#30a2da\"},\"hatch_scale\":{\"value\":12.0},\"hatch_weight\":{\"value\":1.0},\"left\":{\"field\":\"left\"},\"line_alpha\":{\"value\":1.0},\"line_cap\":{\"value\":\"butt\"},\"line_color\":{\"value\":\"black\"},\"line_dash\":{\"value\":[]},\"line_dash_offset\":{\"value\":0},\"line_join\":{\"value\":\"bevel\"},\"line_width\":{\"value\":1},\"right\":{\"field\":\"right\"},\"top\":{\"field\":\"top\"}},\"id\":\"45969\",\"type\":\"Quad\"},{\"attributes\":{\"below\":[{\"id\":\"45940\"}],\"center\":[{\"id\":\"45943\"},{\"id\":\"45947\"}],\"height\":300,\"left\":[{\"id\":\"45944\"}],\"margin\":[5,5,5,5],\"min_border_bottom\":10,\"min_border_left\":10,\"min_border_right\":10,\"min_border_top\":10,\"renderers\":[{\"id\":\"45967\"}],\"sizing_mode\":\"fixed\",\"title\":{\"id\":\"45932\"},\"toolbar\":{\"id\":\"45954\"},\"width\":700,\"x_range\":{\"id\":\"45928\"},\"x_scale\":{\"id\":\"45936\"},\"y_range\":{\"id\":\"45929\"},\"y_scale\":{\"id\":\"45938\"}},\"id\":\"45931\",\"subtype\":\"Figure\",\"type\":\"Plot\"},{\"attributes\":{},\"id\":\"45989\",\"type\":\"UnionRenderers\"},{\"attributes\":{},\"id\":\"45949\",\"type\":\"PanTool\"},{\"attributes\":{},\"id\":\"45945\",\"type\":\"BasicTicker\"},{\"attributes\":{\"callback\":null,\"renderers\":[{\"id\":\"45967\"}],\"tooltips\":[[\"final_worth\",\"@final_worth{0.0f}\"]]},\"id\":\"45930\",\"type\":\"HoverTool\"},{\"attributes\":{\"overlay\":{\"id\":\"45953\"}},\"id\":\"45951\",\"type\":\"BoxZoomTool\"},{\"attributes\":{\"bottom\":{\"value\":0},\"fill_alpha\":{\"value\":0.1},\"fill_color\":{\"value\":\"#30a2da\"},\"hatch_alpha\":{\"value\":0.1},\"hatch_color\":{\"value\":\"#30a2da\"},\"left\":{\"field\":\"left\"},\"line_alpha\":{\"value\":0.1},\"right\":{\"field\":\"right\"},\"top\":{\"field\":\"top\"}},\"id\":\"45965\",\"type\":\"Quad\"},{\"attributes\":{\"source\":{\"id\":\"45961\"}},\"id\":\"45968\",\"type\":\"CDSView\"},{\"attributes\":{\"bottom\":{\"value\":0},\"fill_alpha\":{\"value\":0.2},\"fill_color\":{\"value\":\"#30a2da\"},\"hatch_alpha\":{\"value\":0.2},\"hatch_color\":{\"value\":\"#30a2da\"},\"left\":{\"field\":\"left\"},\"line_alpha\":{\"value\":0.2},\"right\":{\"field\":\"right\"},\"top\":{\"field\":\"top\"}},\"id\":\"45966\",\"type\":\"Quad\"},{\"attributes\":{},\"id\":\"45936\",\"type\":\"LinearScale\"}],\"root_ids\":[\"45927\"]},\"title\":\"Bokeh Application\",\"version\":\"2.4.3\"}};\n",
       "    var render_items = [{\"docid\":\"52e2ad84-e716-4590-b233-fde0a1419342\",\"root_ids\":[\"45927\"],\"roots\":{\"45927\":\"93aa4005-e6cc-4cec-a751-4e6b7d5269de\"}}];\n",
       "    root.Bokeh.embed.embed_items_notebook(docs_json, render_items);\n",
       "    for (const render_item of render_items) {\n",
       "      for (const root_id of render_item.root_ids) {\n",
       "\tconst id_el = document.getElementById(root_id)\n",
       "\tif (id_el.children.length && (id_el.children[0].className === 'bk-root')) {\n",
       "\t  const root_el = id_el.children[0]\n",
       "\t  root_el.id = root_el.id + '-rendered'\n",
       "\t}\n",
       "      }\n",
       "    }\n",
       "  }\n",
       "  if (root.Bokeh !== undefined && root.Bokeh.Panel !== undefined) {\n",
       "    embed_document(root);\n",
       "  } else {\n",
       "    var attempts = 0;\n",
       "    var timer = setInterval(function(root) {\n",
       "      if (root.Bokeh !== undefined && root.Bokeh.Panel !== undefined) {\n",
       "        clearInterval(timer);\n",
       "        embed_document(root);\n",
       "      } else if (document.readyState == \"complete\") {\n",
       "        attempts++;\n",
       "        if (attempts > 200) {\n",
       "          clearInterval(timer);\n",
       "          console.log(\"Bokeh: ERROR: Unable to run BokehJS code because BokehJS library is missing\");\n",
       "        }\n",
       "      }\n",
       "    }, 25, root)\n",
       "  }\n",
       "})(window);</script>"
      ],
      "text/plain": [
       ":Histogram   [final_worth]   (final_worth_count)"
      ]
     },
     "execution_count": 596,
     "metadata": {
      "application/vnd.holoviews_exec.v0+json": {
       "id": "45927"
      }
     },
     "output_type": "execute_result"
    }
   ],
   "source": [
    "# plot distribution\n",
    "from bokeh.models import HoverTool\n",
    "hover = HoverTool(tooltips=[('final_worth','@final_worth{0.0f}')])\n",
    "pd.DataFrame(final_worths, columns=['final_worth']).hvplot(kind='hist', xformatter=\"%.0f\", tools=[hover])"
   ]
  },
  {
   "cell_type": "markdown",
   "id": "312fc818-7bb8-4478-b2d2-5294603c5e1c",
   "metadata": {},
   "source": [
    "## 5. SVC on scaled all columns"
   ]
  },
  {
   "cell_type": "code",
   "execution_count": 597,
   "id": "aced0b29-7613-42d6-8e5f-713dce635800",
   "metadata": {},
   "outputs": [],
   "source": [
    "# shifted is a df globally. shift(3) is required to match signal (daily return, lagged, twice_lagged)\n",
    "# shifted data is for \n",
    "shifted_dfs = {}\n",
    "for key in ticker_data:\n",
    "    shifted_dfs[key] = dfs[key].drop('symbol',axis=1).shift(3).dropna()"
   ]
  },
  {
   "cell_type": "markdown",
   "id": "37499d28-72c8-4567-8d1f-889677d31465",
   "metadata": {},
   "source": [
    "### 5.1 the SVC ML"
   ]
  },
  {
   "cell_type": "code",
   "execution_count": 598,
   "id": "84e2ed18-7771-4525-8b2f-1c3f52010b8a",
   "metadata": {},
   "outputs": [],
   "source": [
    "from sklearn.preprocessing import StandardScaler\n",
    "\n",
    "def ML_pred_b( data, label ):\n",
    "    \"\"\" one cycle of n_dates_for_training + 15 days, using SVR on all cols \"\"\"\n",
    "   \n",
    "    # scale for X\n",
    "    scaler = StandardScaler()\n",
    "    scaler.fit(data)\n",
    "    all_data = pd.DataFrame(scaler.transform(data))\n",
    "    all_label = label\n",
    "    \n",
    "    instrs = pd.DataFrame()\n",
    "    model = svm.SVC(kernel='rbf')\n",
    "    \n",
    "    # rolling train for 30 days then predict 1 day, 15 cycles for 15 instructions\n",
    "    for instri in range(0,15):\n",
    "        iloc_to = instri + 90\n",
    "        X = all_data.iloc[:iloc_to,:]\n",
    "        y = all_label.iloc[:iloc_to]\n",
    "        model.fit(X, y)\n",
    "        signal = model.predict(all_data.iloc[iloc_to:iloc_to+1,:])\n",
    "        instr = signal[0]\n",
    "        one_row = pd.DataFrame([[data.index[iloc_to].date(), instr]])\n",
    "        instrs = pd.concat([instrs,one_row], join='outer')\n",
    "        \n",
    "    return instrs"
   ]
  },
  {
   "cell_type": "markdown",
   "id": "0bf95a7e-8720-41ea-a331-ac95e464fe1e",
   "metadata": {},
   "source": [
    "### 5.2 one cycle of 105 days"
   ]
  },
  {
   "cell_type": "code",
   "execution_count": 599,
   "id": "b4a99010-3e2a-4238-ada7-d65f6f57d235",
   "metadata": {},
   "outputs": [
    {
     "name": "stdout",
     "output_type": "stream",
     "text": [
      "On 2023-08-14 trade AAPL\n",
      "{'action': 'buy', 'price': 178.61, 'bal': 7678.07, 'share': 13, 'status': 0, 'msg': 'success'}\n",
      "On 2023-08-15 trade AMZN\n",
      "{'action': 'buy', 'price': 139.06, 'bal': 5314.05, 'share': 17, 'status': 0, 'msg': 'success'}\n",
      "On 2023-08-16 trade MSFT\n",
      "{'action': 'buy', 'price': 321.36, 'bal': 3064.53, 'share': 7, 'status': 0, 'msg': 'success'}\n",
      "On 2023-08-17 trade GOOG\n",
      "{'action': 'buy', 'price': 130.81, 'bal': 579.14, 'share': 19, 'status': 0, 'msg': 'success'}\n",
      "On 2023-08-18 trade AAPL\n",
      "{'action': 'none', 'price': 173.46, 'bal': 579.14, 'share': 13, 'status': -1, 'msg': 'invalid action (1/-1 only)'}\n",
      "On 2023-08-21 trade MSFT\n",
      "{'action': 'sell', 'price': 319.9, 'bal': 2818.44, 'share': 7, 'status': 0, 'msg': 'success'}\n",
      "On 2023-08-22 trade AAPL\n",
      "{'action': 'none', 'price': 177.06, 'bal': 2818.44, 'share': 13, 'status': -1, 'msg': 'invalid action (1/-1 only)'}\n",
      "On 2023-08-23 trade AAPL\n",
      "{'action': 'none', 'price': 179.88, 'bal': 2818.44, 'share': 13, 'status': -1, 'msg': 'invalid action (1/-1 only)'}\n",
      "On 2023-08-24 trade AAPL\n",
      "{'action': 'none', 'price': 178.54, 'bal': 2818.44, 'share': 13, 'status': -1, 'msg': 'invalid action (1/-1 only)'}\n",
      "On 2023-08-25 trade AAPL\n",
      "{'action': 'none', 'price': 177.74, 'bal': 2818.44, 'share': 13, 'status': -1, 'msg': 'invalid action (1/-1 only)'}\n",
      "On 2023-08-28 trade AAPL\n",
      "{'action': 'none', 'price': 179.85, 'bal': 2818.44, 'share': 13, 'status': -1, 'msg': 'invalid action (1/-1 only)'}\n",
      "On 2023-08-29 trade AAPL\n",
      "{'action': 'none', 'price': 182.05, 'bal': 2818.44, 'share': 13, 'status': -1, 'msg': 'invalid action (1/-1 only)'}\n",
      "On 2023-08-30 trade AAPL\n",
      "{'action': 'none', 'price': 186.3, 'bal': 2818.44, 'share': 13, 'status': -1, 'msg': 'invalid action (1/-1 only)'}\n",
      "On 2023-08-31 trade AAPL\n",
      "{'action': 'none', 'price': 188.08, 'bal': 2818.44, 'share': 13, 'status': -1, 'msg': 'invalid action (1/-1 only)'}\n",
      "On 2023-09-01 trade AAPL\n",
      "{'action': 'none', 'price': 189.19, 'bal': 2818.44, 'share': 13, 'status': -1, 'msg': 'invalid action (1/-1 only)'}\n",
      "networth: Cash: 2818.44, \n",
      "                  shares: {'AAPL': 13, 'AMZN': 17, 'MSFT': 0, 'GOOG': 19}, \n",
      "                  total: 12088.75\n"
     ]
    },
    {
     "data": {},
     "metadata": {},
     "output_type": "display_data"
    },
    {
     "data": {
      "application/vnd.holoviews_exec.v0+json": "",
      "text/html": [
       "<div id='46038'>\n",
       "  <div class=\"bk-root\" id=\"9de4b373-5092-4356-b34c-cfbb9d0d2013\" data-root-id=\"46038\"></div>\n",
       "</div>\n",
       "<script type=\"application/javascript\">(function(root) {\n",
       "  function embed_document(root) {\n",
       "    var docs_json = {\"4b72af7f-c277-499f-aaca-ccae56a492d8\":{\"defs\":[{\"extends\":null,\"module\":null,\"name\":\"ReactiveHTML1\",\"overrides\":[],\"properties\":[]},{\"extends\":null,\"module\":null,\"name\":\"FlexBox1\",\"overrides\":[],\"properties\":[{\"default\":\"flex-start\",\"kind\":null,\"name\":\"align_content\"},{\"default\":\"flex-start\",\"kind\":null,\"name\":\"align_items\"},{\"default\":\"row\",\"kind\":null,\"name\":\"flex_direction\"},{\"default\":\"wrap\",\"kind\":null,\"name\":\"flex_wrap\"},{\"default\":\"flex-start\",\"kind\":null,\"name\":\"justify_content\"}]},{\"extends\":null,\"module\":null,\"name\":\"GridStack1\",\"overrides\":[],\"properties\":[{\"default\":\"warn\",\"kind\":null,\"name\":\"mode\"},{\"default\":null,\"kind\":null,\"name\":\"ncols\"},{\"default\":null,\"kind\":null,\"name\":\"nrows\"},{\"default\":true,\"kind\":null,\"name\":\"allow_resize\"},{\"default\":true,\"kind\":null,\"name\":\"allow_drag\"},{\"default\":[],\"kind\":null,\"name\":\"state\"}]},{\"extends\":null,\"module\":null,\"name\":\"click1\",\"overrides\":[],\"properties\":[{\"default\":\"\",\"kind\":null,\"name\":\"terminal_output\"},{\"default\":\"\",\"kind\":null,\"name\":\"debug_name\"},{\"default\":0,\"kind\":null,\"name\":\"clears\"}]},{\"extends\":null,\"module\":null,\"name\":\"NotificationAreaBase1\",\"overrides\":[],\"properties\":[{\"default\":\"bottom-right\",\"kind\":null,\"name\":\"position\"},{\"default\":0,\"kind\":null,\"name\":\"_clear\"}]},{\"extends\":null,\"module\":null,\"name\":\"NotificationArea1\",\"overrides\":[],\"properties\":[{\"default\":[],\"kind\":null,\"name\":\"notifications\"},{\"default\":\"bottom-right\",\"kind\":null,\"name\":\"position\"},{\"default\":0,\"kind\":null,\"name\":\"_clear\"},{\"default\":[{\"background\":\"#ffc107\",\"icon\":{\"className\":\"fas fa-exclamation-triangle\",\"color\":\"white\",\"tagName\":\"i\"},\"type\":\"warning\"},{\"background\":\"#007bff\",\"icon\":{\"className\":\"fas fa-info-circle\",\"color\":\"white\",\"tagName\":\"i\"},\"type\":\"info\"}],\"kind\":null,\"name\":\"types\"}]},{\"extends\":null,\"module\":null,\"name\":\"Notification\",\"overrides\":[],\"properties\":[{\"default\":null,\"kind\":null,\"name\":\"background\"},{\"default\":3000,\"kind\":null,\"name\":\"duration\"},{\"default\":null,\"kind\":null,\"name\":\"icon\"},{\"default\":\"\",\"kind\":null,\"name\":\"message\"},{\"default\":null,\"kind\":null,\"name\":\"notification_type\"},{\"default\":false,\"kind\":null,\"name\":\"_destroyed\"}]},{\"extends\":null,\"module\":null,\"name\":\"TemplateActions1\",\"overrides\":[],\"properties\":[{\"default\":0,\"kind\":null,\"name\":\"open_modal\"},{\"default\":0,\"kind\":null,\"name\":\"close_modal\"}]},{\"extends\":null,\"module\":null,\"name\":\"MaterialTemplateActions1\",\"overrides\":[],\"properties\":[{\"default\":0,\"kind\":null,\"name\":\"open_modal\"},{\"default\":0,\"kind\":null,\"name\":\"close_modal\"}]}],\"roots\":{\"references\":[{\"attributes\":{\"source\":{\"id\":\"46266\"}},\"id\":\"46273\",\"type\":\"CDSView\"},{\"attributes\":{\"data\":{\"Variable\":[\"AMZN\",\"AMZN\",\"AMZN\",\"AMZN\",\"AMZN\",\"AMZN\",\"AMZN\",\"AMZN\",\"AMZN\",\"AMZN\",\"AMZN\",\"AMZN\",\"AMZN\",\"AMZN\",\"AMZN\"],\"date\":{\"__ndarray__\":\"AABAehWfeEIAAADgZ594QgAAwEW6n3hCAACAqwygeEIAAEARX6B4QgAAgEJWoXhCAABAqKiheEIAAAAO+6F4QgAAwHNNonhCAACA2Z+ieEIAAMAKl6N4QgAAgHDpo3hCAABA1jukeEIAAAA8jqR4QgAAwKHgpHhC\",\"dtype\":\"float64\",\"order\":\"little\",\"shape\":[15]},\"value\":{\"__ndarray__\":\"AAAAAAAA+H8AAAAAAAAxQAAAAAAAADFAAAAAAAAAMUAAAAAAAAAxQAAAAAAAADFAAAAAAAAAMUAAAAAAAAAxQAAAAAAAADFAAAAAAAAAMUAAAAAAAAAxQAAAAAAAADFAAAAAAAAAMUAAAAAAAAAxQAAAAAAAADFA\",\"dtype\":\"float64\",\"order\":\"little\",\"shape\":[15]}},\"selected\":{\"id\":\"46115\"},\"selection_policy\":{\"id\":\"46131\"}},\"id\":\"46114\",\"type\":\"ColumnDataSource\"},{\"attributes\":{},\"id\":\"46251\",\"type\":\"ResetTool\"},{\"attributes\":{\"children\":[{\"id\":\"46394\"}],\"margin\":[0,0,0,0],\"name\":\"Row38415\",\"tags\":[\"embedded\"]},\"id\":\"46038\",\"type\":\"Row\"},{\"attributes\":{\"click_policy\":\"mute\",\"coordinates\":null,\"group\":null,\"items\":[{\"id\":\"46297\"},{\"id\":\"46331\"}],\"location\":[0,0],\"title\":\"Variable\"},\"id\":\"46296\",\"type\":\"Legend\"},{\"attributes\":{},\"id\":\"46261\",\"type\":\"DatetimeTickFormatter\"},{\"attributes\":{},\"id\":\"46052\",\"type\":\"LinearScale\"},{\"attributes\":{\"axis\":{\"id\":\"46054\"},\"coordinates\":null,\"grid_line_color\":null,\"group\":null,\"ticker\":null},\"id\":\"46057\",\"type\":\"Grid\"},{\"attributes\":{},\"id\":\"46244\",\"type\":\"BasicTicker\"},{\"attributes\":{\"label\":{\"value\":\"cash\"},\"renderers\":[{\"id\":\"46272\"}]},\"id\":\"46297\",\"type\":\"LegendItem\"},{\"attributes\":{},\"id\":\"46248\",\"type\":\"PanTool\"},{\"attributes\":{\"axis\":{\"id\":\"46239\"},\"coordinates\":null,\"grid_line_color\":null,\"group\":null,\"ticker\":null},\"id\":\"46242\",\"type\":\"Grid\"},{\"attributes\":{\"axis\":{\"id\":\"46243\"},\"coordinates\":null,\"dimension\":1,\"grid_line_color\":null,\"group\":null,\"ticker\":null},\"id\":\"46246\",\"type\":\"Grid\"},{\"attributes\":{\"children\":[[{\"id\":\"46045\"},0,0],[{\"id\":\"46230\"},0,1]]},\"id\":\"46391\",\"type\":\"GridBox\"},{\"attributes\":{\"axis\":{\"id\":\"46058\"},\"coordinates\":null,\"dimension\":1,\"grid_line_color\":null,\"group\":null,\"ticker\":null},\"id\":\"46061\",\"type\":\"Grid\"},{\"attributes\":{},\"id\":\"46235\",\"type\":\"LinearScale\"},{\"attributes\":{\"coordinates\":null,\"group\":null,\"text\":\"shares in trading\",\"text_color\":\"black\",\"text_font_size\":\"12pt\"},\"id\":\"46046\",\"type\":\"Title\"},{\"attributes\":{},\"id\":\"46237\",\"type\":\"LinearScale\"},{\"attributes\":{\"axis_label\":\"dollars\",\"coordinates\":null,\"formatter\":{\"id\":\"46264\"},\"group\":null,\"major_label_policy\":{\"id\":\"46265\"},\"ticker\":{\"id\":\"46244\"}},\"id\":\"46243\",\"type\":\"LinearAxis\"},{\"attributes\":{\"label\":{\"value\":\"MSFT\"},\"renderers\":[{\"id\":\"46154\"}]},\"id\":\"46182\",\"type\":\"LegendItem\"},{\"attributes\":{\"end\":1693526400000.0,\"reset_end\":1693526400000.0,\"reset_start\":1691971200000.0,\"start\":1691971200000.0,\"tags\":[[[\"date\",\"date\",null]]]},\"id\":\"46039\",\"type\":\"Range1d\"},{\"attributes\":{\"overlay\":{\"id\":\"46252\"}},\"id\":\"46250\",\"type\":\"BoxZoomTool\"},{\"attributes\":{\"num_minor_ticks\":5,\"tickers\":[{\"id\":\"46284\"},{\"id\":\"46285\"},{\"id\":\"46286\"},{\"id\":\"46287\"},{\"id\":\"46288\"},{\"id\":\"46289\"},{\"id\":\"46290\"},{\"id\":\"46291\"},{\"id\":\"46292\"},{\"id\":\"46293\"},{\"id\":\"46294\"},{\"id\":\"46295\"}]},\"id\":\"46240\",\"type\":\"DatetimeTicker\"},{\"attributes\":{\"coordinates\":null,\"data_source\":{\"id\":\"46266\"},\"glyph\":{\"id\":\"46269\"},\"group\":null,\"hover_glyph\":null,\"muted_glyph\":{\"id\":\"46271\"},\"nonselection_glyph\":{\"id\":\"46270\"},\"selection_glyph\":{\"id\":\"46298\"},\"view\":{\"id\":\"46273\"}},\"id\":\"46272\",\"type\":\"GlyphRenderer\"},{\"attributes\":{\"line_alpha\":0.1,\"line_color\":\"#30a2da\",\"line_width\":2,\"x\":{\"field\":\"date\"},\"y\":{\"field\":\"value\"}},\"id\":\"46270\",\"type\":\"Line\"},{\"attributes\":{\"axis_label\":\"date\",\"coordinates\":null,\"formatter\":{\"id\":\"46076\"},\"group\":null,\"major_label_policy\":{\"id\":\"46077\"},\"ticker\":{\"id\":\"46055\"}},\"id\":\"46054\",\"type\":\"DatetimeAxis\"},{\"attributes\":{\"data\":{\"Variable\":[\"MSFT\",\"MSFT\",\"MSFT\",\"MSFT\",\"MSFT\",\"MSFT\",\"MSFT\",\"MSFT\",\"MSFT\",\"MSFT\",\"MSFT\",\"MSFT\",\"MSFT\",\"MSFT\",\"MSFT\"],\"date\":{\"__ndarray__\":\"AABAehWfeEIAAADgZ594QgAAwEW6n3hCAACAqwygeEIAAEARX6B4QgAAgEJWoXhCAABAqKiheEIAAAAO+6F4QgAAwHNNonhCAACA2Z+ieEIAAMAKl6N4QgAAgHDpo3hCAABA1jukeEIAAAA8jqR4QgAAwKHgpHhC\",\"dtype\":\"float64\",\"order\":\"little\",\"shape\":[15]},\"value\":{\"__ndarray__\":\"AAAAAAAA+H8AAAAAAAD4fwAAAAAAABxAAAAAAAAAHEAAAAAAAAAcQAAAAAAAAAAAAAAAAAAAAAAAAAAAAAAAAAAAAAAAAAAAAAAAAAAAAAAAAAAAAAAAAAAAAAAAAAAAAAAAAAAAAAAAAAAAAAAAAAAAAAAAAAAA\",\"dtype\":\"float64\",\"order\":\"little\",\"shape\":[15]}},\"selected\":{\"id\":\"46149\"},\"selection_policy\":{\"id\":\"46167\"}},\"id\":\"46148\",\"type\":\"ColumnDataSource\"},{\"attributes\":{},\"id\":\"46059\",\"type\":\"BasicTicker\"},{\"attributes\":{\"source\":{\"id\":\"46148\"}},\"id\":\"46155\",\"type\":\"CDSView\"},{\"attributes\":{},\"id\":\"46082\",\"type\":\"Selection\"},{\"attributes\":{\"end\":20.9,\"reset_end\":20.9,\"reset_start\":-1.9000000000000001,\"start\":-1.9000000000000001,\"tags\":[[[\"value\",\"value\",null]]]},\"id\":\"46040\",\"type\":\"Range1d\"},{\"attributes\":{\"axis_label\":\"date\",\"coordinates\":null,\"formatter\":{\"id\":\"46261\"},\"group\":null,\"major_label_policy\":{\"id\":\"46262\"},\"ticker\":{\"id\":\"46240\"}},\"id\":\"46239\",\"type\":\"DatetimeAxis\"},{\"attributes\":{\"line_color\":\"#fc4f30\",\"line_width\":2,\"x\":{\"field\":\"date\"},\"y\":{\"field\":\"value\"}},\"id\":\"46147\",\"type\":\"Line\"},{\"attributes\":{},\"id\":\"46300\",\"type\":\"Selection\"},{\"attributes\":{\"line_color\":\"#30a2da\",\"line_width\":2,\"x\":{\"field\":\"date\"},\"y\":{\"field\":\"value\"}},\"id\":\"46269\",\"type\":\"Line\"},{\"attributes\":{\"click_policy\":\"mute\",\"coordinates\":null,\"group\":null,\"items\":[{\"id\":\"46112\"},{\"id\":\"46146\"},{\"id\":\"46182\"},{\"id\":\"46220\"}],\"location\":[0,0],\"title\":\"Variable\"},\"id\":\"46111\",\"type\":\"Legend\"},{\"attributes\":{},\"id\":\"46249\",\"type\":\"WheelZoomTool\"},{\"attributes\":{},\"id\":\"46076\",\"type\":\"DatetimeTickFormatter\"},{\"attributes\":{\"line_color\":\"#e5ae38\",\"line_width\":2,\"x\":{\"field\":\"date\"},\"y\":{\"field\":\"value\"}},\"id\":\"46183\",\"type\":\"Line\"},{\"attributes\":{},\"id\":\"46080\",\"type\":\"AllLabels\"},{\"attributes\":{\"num_minor_ticks\":5,\"tickers\":[{\"id\":\"46099\"},{\"id\":\"46100\"},{\"id\":\"46101\"},{\"id\":\"46102\"},{\"id\":\"46103\"},{\"id\":\"46104\"},{\"id\":\"46105\"},{\"id\":\"46106\"},{\"id\":\"46107\"},{\"id\":\"46108\"},{\"id\":\"46109\"},{\"id\":\"46110\"}]},\"id\":\"46055\",\"type\":\"DatetimeTicker\"},{\"attributes\":{},\"id\":\"46149\",\"type\":\"Selection\"},{\"attributes\":{\"base\":60,\"mantissas\":[1,2,5,10,15,20,30],\"max_interval\":1800000.0,\"min_interval\":1000.0,\"num_minor_ticks\":0},\"id\":\"46100\",\"type\":\"AdaptiveTicker\"},{\"attributes\":{\"line_alpha\":0.1,\"line_color\":\"#30a2da\",\"line_width\":2,\"x\":{\"field\":\"date\"},\"y\":{\"field\":\"value\"}},\"id\":\"46085\",\"type\":\"Line\"},{\"attributes\":{\"line_alpha\":0.2,\"line_color\":\"#30a2da\",\"line_width\":2,\"x\":{\"field\":\"date\"},\"y\":{\"field\":\"value\"}},\"id\":\"46271\",\"type\":\"Line\"},{\"attributes\":{\"label\":{\"value\":\"AAPL\"},\"renderers\":[{\"id\":\"46087\"}]},\"id\":\"46112\",\"type\":\"LegendItem\"},{\"attributes\":{\"line_color\":\"#30a2da\",\"line_width\":2,\"x\":{\"field\":\"date\"},\"y\":{\"field\":\"value\"}},\"id\":\"46084\",\"type\":\"Line\"},{\"attributes\":{\"data\":{\"Variable\":[\"cash\",\"cash\",\"cash\",\"cash\",\"cash\",\"cash\",\"cash\",\"cash\",\"cash\",\"cash\",\"cash\",\"cash\",\"cash\",\"cash\",\"cash\"],\"date\":{\"__ndarray__\":\"AABAehWfeEIAAADgZ594QgAAwEW6n3hCAACAqwygeEIAAEARX6B4QgAAgEJWoXhCAABAqKiheEIAAAAO+6F4QgAAwHNNonhCAACA2Z+ieEIAAMAKl6N4QgAAgHDpo3hCAABA1jukeEIAAAA8jqR4QgAAwKHgpHhC\",\"dtype\":\"float64\",\"order\":\"little\",\"shape\":[15]},\"value\":{\"__ndarray__\":\"uB6F6xH+vUDNzMzMDMK0QMP1KFwP8adAhetRuB4ZgkCF61G4HhmCQHsUrkfhBKZAexSuR+EEpkB7FK5H4QSmQHsUrkfhBKZAexSuR+EEpkB7FK5H4QSmQHsUrkfhBKZAexSuR+EEpkB7FK5H4QSmQHsUrkfhBKZA\",\"dtype\":\"float64\",\"order\":\"little\",\"shape\":[15]}},\"selected\":{\"id\":\"46267\"},\"selection_policy\":{\"id\":\"46281\"}},\"id\":\"46266\",\"type\":\"ColumnDataSource\"},{\"attributes\":{\"axis_label\":\"shares\",\"coordinates\":null,\"formatter\":{\"id\":\"46079\"},\"group\":null,\"major_label_policy\":{\"id\":\"46080\"},\"ticker\":{\"id\":\"46059\"}},\"id\":\"46058\",\"type\":\"LinearAxis\"},{\"attributes\":{\"line_alpha\":0.1,\"line_color\":\"#e5ae38\",\"line_width\":2,\"x\":{\"field\":\"date\"},\"y\":{\"field\":\"value\"}},\"id\":\"46152\",\"type\":\"Line\"},{\"attributes\":{},\"id\":\"46077\",\"type\":\"AllLabels\"},{\"attributes\":{},\"id\":\"46267\",\"type\":\"Selection\"},{\"attributes\":{\"coordinates\":null,\"group\":null,\"text\":\"networth and cash\",\"text_color\":\"black\",\"text_font_size\":\"12pt\"},\"id\":\"46231\",\"type\":\"Title\"},{\"attributes\":{},\"id\":\"46079\",\"type\":\"BasicTickFormatter\"},{\"attributes\":{\"coordinates\":null,\"data_source\":{\"id\":\"46081\"},\"glyph\":{\"id\":\"46084\"},\"group\":null,\"hover_glyph\":null,\"muted_glyph\":{\"id\":\"46086\"},\"nonselection_glyph\":{\"id\":\"46085\"},\"selection_glyph\":{\"id\":\"46113\"},\"view\":{\"id\":\"46088\"}},\"id\":\"46087\",\"type\":\"GlyphRenderer\"},{\"attributes\":{\"line_color\":\"#e5ae38\",\"line_width\":2,\"x\":{\"field\":\"date\"},\"y\":{\"field\":\"value\"}},\"id\":\"46151\",\"type\":\"Line\"},{\"attributes\":{\"line_alpha\":0.2,\"line_color\":\"#30a2da\",\"line_width\":2,\"x\":{\"field\":\"date\"},\"y\":{\"field\":\"value\"}},\"id\":\"46086\",\"type\":\"Line\"},{\"attributes\":{},\"id\":\"46247\",\"type\":\"SaveTool\"},{\"attributes\":{},\"id\":\"46050\",\"type\":\"LinearScale\"},{\"attributes\":{\"line_alpha\":0.2,\"line_color\":\"#e5ae38\",\"line_width\":2,\"x\":{\"field\":\"date\"},\"y\":{\"field\":\"value\"}},\"id\":\"46153\",\"type\":\"Line\"},{\"attributes\":{\"source\":{\"id\":\"46081\"}},\"id\":\"46088\",\"type\":\"CDSView\"},{\"attributes\":{},\"id\":\"46262\",\"type\":\"AllLabels\"},{\"attributes\":{\"days\":[1,8,15,22]},\"id\":\"46104\",\"type\":\"DaysTicker\"},{\"attributes\":{},\"id\":\"46064\",\"type\":\"WheelZoomTool\"},{\"attributes\":{},\"id\":\"46281\",\"type\":\"UnionRenderers\"},{\"attributes\":{\"days\":[1,15]},\"id\":\"46105\",\"type\":\"DaysTicker\"},{\"attributes\":{\"base\":60,\"mantissas\":[1,2,5,10,15,20,30],\"max_interval\":1800000.0,\"min_interval\":1000.0,\"num_minor_ticks\":0},\"id\":\"46285\",\"type\":\"AdaptiveTicker\"},{\"attributes\":{\"active_drag\":{\"id\":\"46248\"},\"active_scroll\":{\"id\":\"46249\"},\"tools\":[{\"id\":\"46228\"},{\"id\":\"46247\"},{\"id\":\"46248\"},{\"id\":\"46249\"},{\"id\":\"46250\"},{\"id\":\"46251\"}]},\"id\":\"46253\",\"type\":\"Toolbar\"},{\"attributes\":{\"overlay\":{\"id\":\"46067\"}},\"id\":\"46065\",\"type\":\"BoxZoomTool\"},{\"attributes\":{\"data\":{\"Variable\":[\"networth\",\"networth\",\"networth\",\"networth\",\"networth\",\"networth\",\"networth\",\"networth\",\"networth\",\"networth\",\"networth\",\"networth\",\"networth\",\"networth\",\"networth\"],\"date\":{\"__ndarray__\":\"AABAehWfeEIAAADgZ594QgAAwEW6n3hCAACAqwygeEIAAEARX6B4QgAAgEJWoXhCAABAqKiheEIAAAAO+6F4QgAAwHNNonhCAACA2Z+ieEIAAMAKl6N4QgAAgHDpo3hCAABA1jukeEIAAAA8jqR4QgAAwKHgpHhC\",\"dtype\":\"float64\",\"order\":\"little\",\"shape\":[15]},\"value\":{\"__ndarray__\":\"AAAAAACIw0DNzMzM7IbCQM3MzMxsNc1AAQAAAIDgvkAzMzMzcxrEQPYoXI9iD9JAPgrXozBzxkDhehSuR7jGQDMzMzNzl8ZAmpmZmdmDxkBSuB6Fi7fGQLkehetx7cZAuR6F65FVx0BI4XoULoHHQAAAAABgnMdA\",\"dtype\":\"float64\",\"order\":\"little\",\"shape\":[15]}},\"selected\":{\"id\":\"46300\"},\"selection_policy\":{\"id\":\"46316\"}},\"id\":\"46299\",\"type\":\"ColumnDataSource\"},{\"attributes\":{\"base\":24,\"mantissas\":[1,2,4,6,8,12],\"max_interval\":43200000.0,\"min_interval\":3600000.0,\"num_minor_ticks\":0},\"id\":\"46286\",\"type\":\"AdaptiveTicker\"},{\"attributes\":{},\"id\":\"46062\",\"type\":\"SaveTool\"},{\"attributes\":{},\"id\":\"46066\",\"type\":\"ResetTool\"},{\"attributes\":{\"months\":[0,2,4,6,8,10]},\"id\":\"46292\",\"type\":\"MonthsTicker\"},{\"attributes\":{\"end\":1693526400000.0,\"reset_end\":1693526400000.0,\"reset_start\":1691971200000.0,\"start\":1691971200000.0,\"tags\":[[[\"date\",\"date\",null]]]},\"id\":\"46226\",\"type\":\"Range1d\"},{\"attributes\":{\"source\":{\"id\":\"46114\"}},\"id\":\"46121\",\"type\":\"CDSView\"},{\"attributes\":{\"below\":[{\"id\":\"46239\"}],\"center\":[{\"id\":\"46242\"},{\"id\":\"46246\"}],\"frame_width\":325,\"height\":300,\"left\":[{\"id\":\"46243\"}],\"margin\":null,\"min_border_bottom\":10,\"min_border_left\":10,\"min_border_right\":10,\"min_border_top\":10,\"renderers\":[{\"id\":\"46272\"},{\"id\":\"46305\"}],\"right\":[{\"id\":\"46296\"}],\"sizing_mode\":\"fixed\",\"title\":{\"id\":\"46231\"},\"toolbar\":{\"id\":\"46253\"},\"toolbar_location\":null,\"width\":null,\"x_range\":{\"id\":\"46226\"},\"x_scale\":{\"id\":\"46235\"},\"y_range\":{\"id\":\"46227\"},\"y_scale\":{\"id\":\"46237\"}},\"id\":\"46230\",\"subtype\":\"Figure\",\"type\":\"Plot\"},{\"attributes\":{\"end\":20284.98,\"reset_end\":20284.98,\"reset_start\":-1212.3000000000002,\"start\":-1212.3000000000002,\"tags\":[[[\"value\",\"value\",null]]]},\"id\":\"46227\",\"type\":\"Range1d\"},{\"attributes\":{\"coordinates\":null,\"data_source\":{\"id\":\"46299\"},\"glyph\":{\"id\":\"46302\"},\"group\":null,\"hover_glyph\":null,\"muted_glyph\":{\"id\":\"46304\"},\"nonselection_glyph\":{\"id\":\"46303\"},\"selection_glyph\":{\"id\":\"46332\"},\"view\":{\"id\":\"46306\"}},\"id\":\"46305\",\"type\":\"GlyphRenderer\"},{\"attributes\":{\"data\":{\"Variable\":[\"GOOG\",\"GOOG\",\"GOOG\",\"GOOG\",\"GOOG\",\"GOOG\",\"GOOG\",\"GOOG\",\"GOOG\",\"GOOG\",\"GOOG\",\"GOOG\",\"GOOG\",\"GOOG\",\"GOOG\"],\"date\":{\"__ndarray__\":\"AABAehWfeEIAAADgZ594QgAAwEW6n3hCAACAqwygeEIAAEARX6B4QgAAgEJWoXhCAABAqKiheEIAAAAO+6F4QgAAwHNNonhCAACA2Z+ieEIAAMAKl6N4QgAAgHDpo3hCAABA1jukeEIAAAA8jqR4QgAAwKHgpHhC\",\"dtype\":\"float64\",\"order\":\"little\",\"shape\":[15]},\"value\":{\"__ndarray__\":\"AAAAAAAA+H8AAAAAAAD4fwAAAAAAAPh/AAAAAAAAM0AAAAAAAAAzQAAAAAAAADNAAAAAAAAAM0AAAAAAAAAzQAAAAAAAADNAAAAAAAAAM0AAAAAAAAAzQAAAAAAAADNAAAAAAAAAM0AAAAAAAAAzQAAAAAAAADNA\",\"dtype\":\"float64\",\"order\":\"little\",\"shape\":[15]}},\"selected\":{\"id\":\"46185\"},\"selection_policy\":{\"id\":\"46205\"}},\"id\":\"46184\",\"type\":\"ColumnDataSource\"},{\"attributes\":{\"active_drag\":{\"id\":\"46063\"},\"active_scroll\":{\"id\":\"46064\"},\"tools\":[{\"id\":\"46041\"},{\"id\":\"46062\"},{\"id\":\"46063\"},{\"id\":\"46064\"},{\"id\":\"46065\"},{\"id\":\"46066\"}]},\"id\":\"46068\",\"type\":\"Toolbar\"},{\"attributes\":{},\"id\":\"46063\",\"type\":\"PanTool\"},{\"attributes\":{\"line_alpha\":0.1,\"line_color\":\"#fc4f30\",\"line_width\":2,\"x\":{\"field\":\"date\"},\"y\":{\"field\":\"value\"}},\"id\":\"46118\",\"type\":\"Line\"},{\"attributes\":{\"line_color\":\"#fc4f30\",\"line_width\":2,\"x\":{\"field\":\"date\"},\"y\":{\"field\":\"value\"}},\"id\":\"46117\",\"type\":\"Line\"},{\"attributes\":{\"line_alpha\":0.2,\"line_color\":\"#fc4f30\",\"line_width\":2,\"x\":{\"field\":\"date\"},\"y\":{\"field\":\"value\"}},\"id\":\"46119\",\"type\":\"Line\"},{\"attributes\":{\"line_color\":\"#fc4f30\",\"line_width\":2,\"x\":{\"field\":\"date\"},\"y\":{\"field\":\"value\"}},\"id\":\"46302\",\"type\":\"Line\"},{\"attributes\":{},\"id\":\"46205\",\"type\":\"UnionRenderers\"},{\"attributes\":{\"mantissas\":[1,2,5],\"max_interval\":500.0,\"num_minor_ticks\":0},\"id\":\"46099\",\"type\":\"AdaptiveTicker\"},{\"attributes\":{\"months\":[0,1,2,3,4,5,6,7,8,9,10,11]},\"id\":\"46106\",\"type\":\"MonthsTicker\"},{\"attributes\":{\"coordinates\":null,\"data_source\":{\"id\":\"46114\"},\"glyph\":{\"id\":\"46117\"},\"group\":null,\"hover_glyph\":null,\"muted_glyph\":{\"id\":\"46119\"},\"nonselection_glyph\":{\"id\":\"46118\"},\"selection_glyph\":{\"id\":\"46147\"},\"view\":{\"id\":\"46121\"}},\"id\":\"46120\",\"type\":\"GlyphRenderer\"},{\"attributes\":{\"base\":24,\"mantissas\":[1,2,4,6,8,12],\"max_interval\":43200000.0,\"min_interval\":3600000.0,\"num_minor_ticks\":0},\"id\":\"46101\",\"type\":\"AdaptiveTicker\"},{\"attributes\":{\"days\":[1,8,15,22]},\"id\":\"46289\",\"type\":\"DaysTicker\"},{\"attributes\":{},\"id\":\"46265\",\"type\":\"AllLabels\"},{\"attributes\":{\"days\":[1,2,3,4,5,6,7,8,9,10,11,12,13,14,15,16,17,18,19,20,21,22,23,24,25,26,27,28,29,30,31]},\"id\":\"46102\",\"type\":\"DaysTicker\"},{\"attributes\":{},\"id\":\"46316\",\"type\":\"UnionRenderers\"},{\"attributes\":{\"months\":[0,6]},\"id\":\"46109\",\"type\":\"MonthsTicker\"},{\"attributes\":{\"data\":{\"Variable\":[\"AAPL\",\"AAPL\",\"AAPL\",\"AAPL\",\"AAPL\",\"AAPL\",\"AAPL\",\"AAPL\",\"AAPL\",\"AAPL\",\"AAPL\",\"AAPL\",\"AAPL\",\"AAPL\",\"AAPL\"],\"date\":{\"__ndarray__\":\"AABAehWfeEIAAADgZ594QgAAwEW6n3hCAACAqwygeEIAAEARX6B4QgAAgEJWoXhCAABAqKiheEIAAAAO+6F4QgAAwHNNonhCAACA2Z+ieEIAAMAKl6N4QgAAgHDpo3hCAABA1jukeEIAAAA8jqR4QgAAwKHgpHhC\",\"dtype\":\"float64\",\"order\":\"little\",\"shape\":[15]},\"value\":[13,13,13,13,13,13,13,13,13,13,13,13,13,13,13]},\"selected\":{\"id\":\"46082\"},\"selection_policy\":{\"id\":\"46096\"}},\"id\":\"46081\",\"type\":\"ColumnDataSource\"},{\"attributes\":{},\"id\":\"46115\",\"type\":\"Selection\"},{\"attributes\":{\"line_alpha\":0.1,\"line_color\":\"#6d904f\",\"line_width\":2,\"x\":{\"field\":\"date\"},\"y\":{\"field\":\"value\"}},\"id\":\"46188\",\"type\":\"Line\"},{\"attributes\":{},\"id\":\"46096\",\"type\":\"UnionRenderers\"},{\"attributes\":{\"label\":{\"value\":\"AMZN\"},\"renderers\":[{\"id\":\"46120\"}]},\"id\":\"46146\",\"type\":\"LegendItem\"},{\"attributes\":{\"line_alpha\":0.1,\"line_color\":\"#fc4f30\",\"line_width\":2,\"x\":{\"field\":\"date\"},\"y\":{\"field\":\"value\"}},\"id\":\"46303\",\"type\":\"Line\"},{\"attributes\":{\"source\":{\"id\":\"46299\"}},\"id\":\"46306\",\"type\":\"CDSView\"},{\"attributes\":{\"toolbar\":{\"id\":\"46392\"},\"toolbar_location\":\"above\"},\"id\":\"46393\",\"type\":\"ToolbarBox\"},{\"attributes\":{\"below\":[{\"id\":\"46054\"}],\"center\":[{\"id\":\"46057\"},{\"id\":\"46061\"}],\"frame_width\":325,\"height\":300,\"left\":[{\"id\":\"46058\"}],\"margin\":null,\"min_border_bottom\":10,\"min_border_left\":10,\"min_border_right\":10,\"min_border_top\":10,\"renderers\":[{\"id\":\"46087\"},{\"id\":\"46120\"},{\"id\":\"46154\"},{\"id\":\"46190\"}],\"right\":[{\"id\":\"46111\"}],\"sizing_mode\":\"fixed\",\"title\":{\"id\":\"46046\"},\"toolbar\":{\"id\":\"46068\"},\"toolbar_location\":null,\"width\":null,\"x_range\":{\"id\":\"46039\"},\"x_scale\":{\"id\":\"46050\"},\"y_range\":{\"id\":\"46040\"},\"y_scale\":{\"id\":\"46052\"}},\"id\":\"46045\",\"subtype\":\"Figure\",\"type\":\"Plot\"},{\"attributes\":{\"line_color\":\"#6d904f\",\"line_width\":2,\"x\":{\"field\":\"date\"},\"y\":{\"field\":\"value\"}},\"id\":\"46187\",\"type\":\"Line\"},{\"attributes\":{\"mantissas\":[1,2,5],\"max_interval\":500.0,\"num_minor_ticks\":0},\"id\":\"46284\",\"type\":\"AdaptiveTicker\"},{\"attributes\":{\"months\":[0,1,2,3,4,5,6,7,8,9,10,11]},\"id\":\"46291\",\"type\":\"MonthsTicker\"},{\"attributes\":{\"callback\":null,\"formatters\":{\"@{date}\":\"datetime\"},\"renderers\":[{\"id\":\"46272\"},{\"id\":\"46305\"}],\"tags\":[\"hv_created\"],\"tooltips\":[[\"Variable\",\"@{Variable}\"],[\"date\",\"@{date}{%F %T}\"],[\"value\",\"@{value}\"]]},\"id\":\"46228\",\"type\":\"HoverTool\"},{\"attributes\":{\"days\":[1,2,3,4,5,6,7,8,9,10,11,12,13,14,15,16,17,18,19,20,21,22,23,24,25,26,27,28,29,30,31]},\"id\":\"46287\",\"type\":\"DaysTicker\"},{\"attributes\":{\"children\":[{\"id\":\"46393\"},{\"id\":\"46391\"}]},\"id\":\"46394\",\"type\":\"Column\"},{\"attributes\":{\"days\":[1,15]},\"id\":\"46290\",\"type\":\"DaysTicker\"},{\"attributes\":{\"line_color\":\"#30a2da\",\"line_width\":2,\"x\":{\"field\":\"date\"},\"y\":{\"field\":\"value\"}},\"id\":\"46298\",\"type\":\"Line\"},{\"attributes\":{\"months\":[0,6]},\"id\":\"46294\",\"type\":\"MonthsTicker\"},{\"attributes\":{\"source\":{\"id\":\"46184\"}},\"id\":\"46191\",\"type\":\"CDSView\"},{\"attributes\":{\"bottom_units\":\"screen\",\"coordinates\":null,\"fill_alpha\":0.5,\"fill_color\":\"lightgrey\",\"group\":null,\"left_units\":\"screen\",\"level\":\"overlay\",\"line_alpha\":1.0,\"line_color\":\"black\",\"line_dash\":[4,4],\"line_width\":2,\"right_units\":\"screen\",\"syncable\":false,\"top_units\":\"screen\"},\"id\":\"46067\",\"type\":\"BoxAnnotation\"},{\"attributes\":{\"bottom_units\":\"screen\",\"coordinates\":null,\"fill_alpha\":0.5,\"fill_color\":\"lightgrey\",\"group\":null,\"left_units\":\"screen\",\"level\":\"overlay\",\"line_alpha\":1.0,\"line_color\":\"black\",\"line_dash\":[4,4],\"line_width\":2,\"right_units\":\"screen\",\"syncable\":false,\"top_units\":\"screen\"},\"id\":\"46252\",\"type\":\"BoxAnnotation\"},{\"attributes\":{\"label\":{\"value\":\"networth\"},\"renderers\":[{\"id\":\"46305\"}]},\"id\":\"46331\",\"type\":\"LegendItem\"},{\"attributes\":{},\"id\":\"46295\",\"type\":\"YearsTicker\"},{\"attributes\":{\"months\":[0,2,4,6,8,10]},\"id\":\"46107\",\"type\":\"MonthsTicker\"},{\"attributes\":{\"days\":[1,4,7,10,13,16,19,22,25,28]},\"id\":\"46103\",\"type\":\"DaysTicker\"},{\"attributes\":{},\"id\":\"46167\",\"type\":\"UnionRenderers\"},{\"attributes\":{\"label\":{\"value\":\"GOOG\"},\"renderers\":[{\"id\":\"46190\"}]},\"id\":\"46220\",\"type\":\"LegendItem\"},{\"attributes\":{\"line_alpha\":0.2,\"line_color\":\"#fc4f30\",\"line_width\":2,\"x\":{\"field\":\"date\"},\"y\":{\"field\":\"value\"}},\"id\":\"46304\",\"type\":\"Line\"},{\"attributes\":{\"line_color\":\"#6d904f\",\"line_width\":2,\"x\":{\"field\":\"date\"},\"y\":{\"field\":\"value\"}},\"id\":\"46221\",\"type\":\"Line\"},{\"attributes\":{\"days\":[1,4,7,10,13,16,19,22,25,28]},\"id\":\"46288\",\"type\":\"DaysTicker\"},{\"attributes\":{\"callback\":null,\"formatters\":{\"@{date}\":\"datetime\"},\"renderers\":[{\"id\":\"46087\"},{\"id\":\"46120\"},{\"id\":\"46154\"},{\"id\":\"46190\"}],\"tags\":[\"hv_created\"],\"tooltips\":[[\"Variable\",\"@{Variable}\"],[\"date\",\"@{date}{%F %T}\"],[\"value\",\"@{value}\"]]},\"id\":\"46041\",\"type\":\"HoverTool\"},{\"attributes\":{},\"id\":\"46185\",\"type\":\"Selection\"},{\"attributes\":{\"line_color\":\"#30a2da\",\"line_width\":2,\"x\":{\"field\":\"date\"},\"y\":{\"field\":\"value\"}},\"id\":\"46113\",\"type\":\"Line\"},{\"attributes\":{\"coordinates\":null,\"data_source\":{\"id\":\"46148\"},\"glyph\":{\"id\":\"46151\"},\"group\":null,\"hover_glyph\":null,\"muted_glyph\":{\"id\":\"46153\"},\"nonselection_glyph\":{\"id\":\"46152\"},\"selection_glyph\":{\"id\":\"46183\"},\"view\":{\"id\":\"46155\"}},\"id\":\"46154\",\"type\":\"GlyphRenderer\"},{\"attributes\":{\"toolbars\":[{\"id\":\"46068\"},{\"id\":\"46253\"}],\"tools\":[{\"id\":\"46041\"},{\"id\":\"46062\"},{\"id\":\"46063\"},{\"id\":\"46064\"},{\"id\":\"46065\"},{\"id\":\"46066\"},{\"id\":\"46228\"},{\"id\":\"46247\"},{\"id\":\"46248\"},{\"id\":\"46249\"},{\"id\":\"46250\"},{\"id\":\"46251\"}]},\"id\":\"46392\",\"type\":\"ProxyToolbar\"},{\"attributes\":{\"months\":[0,4,8]},\"id\":\"46293\",\"type\":\"MonthsTicker\"},{\"attributes\":{},\"id\":\"46110\",\"type\":\"YearsTicker\"},{\"attributes\":{},\"id\":\"46131\",\"type\":\"UnionRenderers\"},{\"attributes\":{\"coordinates\":null,\"data_source\":{\"id\":\"46184\"},\"glyph\":{\"id\":\"46187\"},\"group\":null,\"hover_glyph\":null,\"muted_glyph\":{\"id\":\"46189\"},\"nonselection_glyph\":{\"id\":\"46188\"},\"selection_glyph\":{\"id\":\"46221\"},\"view\":{\"id\":\"46191\"}},\"id\":\"46190\",\"type\":\"GlyphRenderer\"},{\"attributes\":{},\"id\":\"46264\",\"type\":\"BasicTickFormatter\"},{\"attributes\":{\"line_alpha\":0.2,\"line_color\":\"#6d904f\",\"line_width\":2,\"x\":{\"field\":\"date\"},\"y\":{\"field\":\"value\"}},\"id\":\"46189\",\"type\":\"Line\"},{\"attributes\":{\"months\":[0,4,8]},\"id\":\"46108\",\"type\":\"MonthsTicker\"},{\"attributes\":{\"line_color\":\"#fc4f30\",\"line_width\":2,\"x\":{\"field\":\"date\"},\"y\":{\"field\":\"value\"}},\"id\":\"46332\",\"type\":\"Line\"}],\"root_ids\":[\"46038\"]},\"title\":\"Bokeh Application\",\"version\":\"2.4.3\"}};\n",
       "    var render_items = [{\"docid\":\"4b72af7f-c277-499f-aaca-ccae56a492d8\",\"root_ids\":[\"46038\"],\"roots\":{\"46038\":\"9de4b373-5092-4356-b34c-cfbb9d0d2013\"}}];\n",
       "    root.Bokeh.embed.embed_items_notebook(docs_json, render_items);\n",
       "    for (const render_item of render_items) {\n",
       "      for (const root_id of render_item.root_ids) {\n",
       "\tconst id_el = document.getElementById(root_id)\n",
       "\tif (id_el.children.length && (id_el.children[0].className === 'bk-root')) {\n",
       "\t  const root_el = id_el.children[0]\n",
       "\t  root_el.id = root_el.id + '-rendered'\n",
       "\t}\n",
       "      }\n",
       "    }\n",
       "  }\n",
       "  if (root.Bokeh !== undefined && root.Bokeh.Panel !== undefined) {\n",
       "    embed_document(root);\n",
       "  } else {\n",
       "    var attempts = 0;\n",
       "    var timer = setInterval(function(root) {\n",
       "      if (root.Bokeh !== undefined && root.Bokeh.Panel !== undefined) {\n",
       "        clearInterval(timer);\n",
       "        embed_document(root);\n",
       "      } else if (document.readyState == \"complete\") {\n",
       "        attempts++;\n",
       "        if (attempts > 200) {\n",
       "          clearInterval(timer);\n",
       "          console.log(\"Bokeh: ERROR: Unable to run BokehJS code because BokehJS library is missing\");\n",
       "        }\n",
       "      }\n",
       "    }, 25, root)\n",
       "  }\n",
       "})(window);</script>"
      ],
      "text/plain": [
       ":Layout\n",
       "   .NdOverlay.I  :NdOverlay   [Variable]\n",
       "      :Curve   [date]   (value)\n",
       "   .NdOverlay.II :NdOverlay   [Variable]\n",
       "      :Curve   [date]   (value)"
      ]
     },
     "execution_count": 599,
     "metadata": {
      "application/vnd.holoviews_exec.v0+json": {
       "id": "46038"
      }
     },
     "output_type": "execute_result"
    }
   ],
   "source": [
    "instrs = pd.DataFrame()\n",
    "for key in shifted_dfs:\n",
    "    cycle = shifted_dfs[key].iloc[-105:,:]\n",
    "    data = cycle\n",
    "    label = signals_dfs[key]['signal']\n",
    "    cycle_signals = ML_pred_b(data, label).set_index(0)\n",
    "    cycle_signals.columns = [key]\n",
    "    instrs = pd.concat([instrs, cycle_signals],axis=1)\n",
    "\n",
    "instr_df = derive_instr(instrs)\n",
    "trade_action(instr_df)"
   ]
  },
  {
   "cell_type": "markdown",
   "id": "b9190d38-ad6c-4f7d-acab-9c07898dc766",
   "metadata": {},
   "source": [
    "### 5.3 rolling run 500 times"
   ]
  },
  {
   "cell_type": "code",
   "execution_count": 600,
   "id": "702e6818-4153-4109-9663-f959df2753d5",
   "metadata": {},
   "outputs": [],
   "source": [
    "def one_run_b(str_loc):\n",
    "    instrs = pd.DataFrame()\n",
    "    for key in shifted_dfs:\n",
    "        cycle = shifted_dfs[key].iloc[str_loc:,:]\n",
    "        cycle_signals = ML_pred_b(cycle, signals_dfs[key]['signal']).set_index(0)\n",
    "        cycle_signals.columns = [key]\n",
    "        instrs = pd.concat([instrs, cycle_signals],axis=1)\n",
    "        \n",
    "    instr_df = derive_instr(instrs)\n",
    "    return trade_action(instr_df, verbose=0)\n",
    "\n",
    "final_worths = []\n",
    "for n in range(500):\n",
    "    final_worths.append( one_run_b(-105-n) )\n"
   ]
  },
  {
   "cell_type": "code",
   "execution_count": 601,
   "id": "f1c44772-b09d-4251-bbf4-68008a971f9e",
   "metadata": {},
   "outputs": [
    {
     "data": {},
     "metadata": {},
     "output_type": "display_data"
    },
    {
     "data": {
      "application/vnd.holoviews_exec.v0+json": "",
      "text/html": [
       "<div id='46709'>\n",
       "  <div class=\"bk-root\" id=\"a7c0ab5a-6d1a-41ff-865c-3fe78ad9a819\" data-root-id=\"46709\"></div>\n",
       "</div>\n",
       "<script type=\"application/javascript\">(function(root) {\n",
       "  function embed_document(root) {\n",
       "    var docs_json = {\"b34f5da2-a964-4b6a-a311-4890ef6f4edc\":{\"defs\":[{\"extends\":null,\"module\":null,\"name\":\"ReactiveHTML1\",\"overrides\":[],\"properties\":[]},{\"extends\":null,\"module\":null,\"name\":\"FlexBox1\",\"overrides\":[],\"properties\":[{\"default\":\"flex-start\",\"kind\":null,\"name\":\"align_content\"},{\"default\":\"flex-start\",\"kind\":null,\"name\":\"align_items\"},{\"default\":\"row\",\"kind\":null,\"name\":\"flex_direction\"},{\"default\":\"wrap\",\"kind\":null,\"name\":\"flex_wrap\"},{\"default\":\"flex-start\",\"kind\":null,\"name\":\"justify_content\"}]},{\"extends\":null,\"module\":null,\"name\":\"GridStack1\",\"overrides\":[],\"properties\":[{\"default\":\"warn\",\"kind\":null,\"name\":\"mode\"},{\"default\":null,\"kind\":null,\"name\":\"ncols\"},{\"default\":null,\"kind\":null,\"name\":\"nrows\"},{\"default\":true,\"kind\":null,\"name\":\"allow_resize\"},{\"default\":true,\"kind\":null,\"name\":\"allow_drag\"},{\"default\":[],\"kind\":null,\"name\":\"state\"}]},{\"extends\":null,\"module\":null,\"name\":\"click1\",\"overrides\":[],\"properties\":[{\"default\":\"\",\"kind\":null,\"name\":\"terminal_output\"},{\"default\":\"\",\"kind\":null,\"name\":\"debug_name\"},{\"default\":0,\"kind\":null,\"name\":\"clears\"}]},{\"extends\":null,\"module\":null,\"name\":\"NotificationAreaBase1\",\"overrides\":[],\"properties\":[{\"default\":\"bottom-right\",\"kind\":null,\"name\":\"position\"},{\"default\":0,\"kind\":null,\"name\":\"_clear\"}]},{\"extends\":null,\"module\":null,\"name\":\"NotificationArea1\",\"overrides\":[],\"properties\":[{\"default\":[],\"kind\":null,\"name\":\"notifications\"},{\"default\":\"bottom-right\",\"kind\":null,\"name\":\"position\"},{\"default\":0,\"kind\":null,\"name\":\"_clear\"},{\"default\":[{\"background\":\"#ffc107\",\"icon\":{\"className\":\"fas fa-exclamation-triangle\",\"color\":\"white\",\"tagName\":\"i\"},\"type\":\"warning\"},{\"background\":\"#007bff\",\"icon\":{\"className\":\"fas fa-info-circle\",\"color\":\"white\",\"tagName\":\"i\"},\"type\":\"info\"}],\"kind\":null,\"name\":\"types\"}]},{\"extends\":null,\"module\":null,\"name\":\"Notification\",\"overrides\":[],\"properties\":[{\"default\":null,\"kind\":null,\"name\":\"background\"},{\"default\":3000,\"kind\":null,\"name\":\"duration\"},{\"default\":null,\"kind\":null,\"name\":\"icon\"},{\"default\":\"\",\"kind\":null,\"name\":\"message\"},{\"default\":null,\"kind\":null,\"name\":\"notification_type\"},{\"default\":false,\"kind\":null,\"name\":\"_destroyed\"}]},{\"extends\":null,\"module\":null,\"name\":\"TemplateActions1\",\"overrides\":[],\"properties\":[{\"default\":0,\"kind\":null,\"name\":\"open_modal\"},{\"default\":0,\"kind\":null,\"name\":\"close_modal\"}]},{\"extends\":null,\"module\":null,\"name\":\"MaterialTemplateActions1\",\"overrides\":[],\"properties\":[{\"default\":0,\"kind\":null,\"name\":\"open_modal\"},{\"default\":0,\"kind\":null,\"name\":\"close_modal\"}]}],\"roots\":{\"references\":[{\"attributes\":{\"coordinates\":null,\"data_source\":{\"id\":\"46743\"},\"glyph\":{\"id\":\"46746\"},\"group\":null,\"hover_glyph\":null,\"muted_glyph\":{\"id\":\"46748\"},\"nonselection_glyph\":{\"id\":\"46747\"},\"selection_glyph\":{\"id\":\"46751\"},\"view\":{\"id\":\"46750\"}},\"id\":\"46749\",\"type\":\"GlyphRenderer\"},{\"attributes\":{},\"id\":\"46720\",\"type\":\"LinearScale\"},{\"attributes\":{},\"id\":\"46718\",\"type\":\"LinearScale\"},{\"attributes\":{\"data\":{\"final_worth\":{\"__ndarray__\":\"7nw/NfbEsUAkBoGViy+8QK5H4XoQTcNASgwCK1uCyEDm0CLbpbfNQMDKoUV4dtFADi2ynR0R1EBbj8L1wqvWQKnx0k1oRtlA91PjpQ3h20BFtvP9snveQEoMAissi+BAcD0K137Y4UCWbhKD0SXjQL6fGi8kc+RA5NAi23bA5UAMAiuHyQ3nQDIzMzMcW+hAWmQ7326o6UCAlUOLwfXqQA==\",\"dtype\":\"float64\",\"order\":\"little\",\"shape\":[20]},\"final_worth_count\":[22,24,289,134,10,12,6,0,0,0,0,0,0,0,0,0,2,0,0,1],\"left\":{\"__ndarray__\":\"pHA9ClcfqUCJQWDlQPq2QGDl0CJrssBA/Knx0rXnxUCXbhKDAB3LQJqZmZklKdBA5/up8crD0kA0XrpJcF7VQILAyqEV+ddA0CLb+bqT2kAehetRYC7dQGzn+6kFyd9A3SQGgdUx4UADVg4tKH/iQCqHFtl6zONAUbgehc0Z5UB46SYxIGfmQJ8aL91ytOdAxks3icUB6UDtfD81GE/qQA==\",\"dtype\":\"float64\",\"order\":\"little\",\"shape\":[20]},\"right\":{\"__ndarray__\":\"iUFg5UD6tkBg5dAia7LAQPyp8dK158VAl24SgwAdy0CamZmZJSnQQOf7qfHKw9JANF66SXBe1UCCwMqhFfnXQNAi2/m6k9pAHoXrUWAu3UBs5/upBcnfQN0kBoHVMeFAA1YOLSh/4kAqhxbZeszjQFG4HoXNGeVAeOkmMSBn5kCfGi/dcrTnQMZLN4nFAelA7Xw/NRhP6kAUrkfhapzrQA==\",\"dtype\":\"float64\",\"order\":\"little\",\"shape\":[20]},\"top\":[22,24,289,134,10,12,6,0,0,0,0,0,0,0,0,0,2,0,0,1]},\"selected\":{\"id\":\"46744\"},\"selection_policy\":{\"id\":\"46771\"}},\"id\":\"46743\",\"type\":\"ColumnDataSource\"},{\"attributes\":{\"active_drag\":{\"id\":\"46731\"},\"active_scroll\":{\"id\":\"46732\"},\"tools\":[{\"id\":\"46712\"},{\"id\":\"46730\"},{\"id\":\"46731\"},{\"id\":\"46732\"},{\"id\":\"46733\"},{\"id\":\"46734\"}]},\"id\":\"46736\",\"type\":\"Toolbar\"},{\"attributes\":{\"axis\":{\"id\":\"46726\"},\"coordinates\":null,\"dimension\":1,\"grid_line_color\":null,\"group\":null,\"ticker\":null},\"id\":\"46729\",\"type\":\"Grid\"},{\"attributes\":{},\"id\":\"46727\",\"type\":\"BasicTicker\"},{\"attributes\":{\"bottom_units\":\"screen\",\"coordinates\":null,\"fill_alpha\":0.5,\"fill_color\":\"lightgrey\",\"group\":null,\"left_units\":\"screen\",\"level\":\"overlay\",\"line_alpha\":1.0,\"line_color\":\"black\",\"line_dash\":[4,4],\"line_width\":2,\"right_units\":\"screen\",\"syncable\":false,\"top_units\":\"screen\"},\"id\":\"46735\",\"type\":\"BoxAnnotation\"},{\"attributes\":{},\"id\":\"46730\",\"type\":\"SaveTool\"},{\"attributes\":{\"format\":\"%.0f\"},\"id\":\"46752\",\"type\":\"PrintfTickFormatter\"},{\"attributes\":{},\"id\":\"46771\",\"type\":\"UnionRenderers\"},{\"attributes\":{\"callback\":null,\"renderers\":[{\"id\":\"46749\"}],\"tooltips\":[[\"final_worth\",\"@final_worth{0.0f}\"]]},\"id\":\"46712\",\"type\":\"HoverTool\"},{\"attributes\":{\"coordinates\":null,\"group\":null,\"text_color\":\"black\",\"text_font_size\":\"12pt\"},\"id\":\"46714\",\"type\":\"Title\"},{\"attributes\":{\"axis_label\":\"final_worth\",\"coordinates\":null,\"formatter\":{\"id\":\"46752\"},\"group\":null,\"major_label_policy\":{\"id\":\"46755\"},\"ticker\":{\"id\":\"46723\"}},\"id\":\"46722\",\"type\":\"LinearAxis\"},{\"attributes\":{\"end\":317.9,\"reset_end\":317.9,\"reset_start\":0.0,\"tags\":[[[\"final_worth_count\",\"Count\",null]]]},\"id\":\"46711\",\"type\":\"Range1d\"},{\"attributes\":{\"overlay\":{\"id\":\"46735\"}},\"id\":\"46733\",\"type\":\"BoxZoomTool\"},{\"attributes\":{\"axis_label\":\"\",\"coordinates\":null,\"formatter\":{\"id\":\"46759\"},\"group\":null,\"major_label_policy\":{\"id\":\"46760\"},\"ticker\":{\"id\":\"46727\"}},\"id\":\"46726\",\"type\":\"LinearAxis\"},{\"attributes\":{\"bottom\":{\"value\":0},\"fill_alpha\":{\"value\":0.1},\"fill_color\":{\"value\":\"#30a2da\"},\"hatch_alpha\":{\"value\":0.1},\"hatch_color\":{\"value\":\"#30a2da\"},\"left\":{\"field\":\"left\"},\"line_alpha\":{\"value\":0.1},\"right\":{\"field\":\"right\"},\"top\":{\"field\":\"top\"}},\"id\":\"46747\",\"type\":\"Quad\"},{\"attributes\":{\"axis\":{\"id\":\"46722\"},\"coordinates\":null,\"grid_line_color\":null,\"group\":null,\"ticker\":null},\"id\":\"46725\",\"type\":\"Grid\"},{\"attributes\":{},\"id\":\"46744\",\"type\":\"Selection\"},{\"attributes\":{},\"id\":\"46732\",\"type\":\"WheelZoomTool\"},{\"attributes\":{\"below\":[{\"id\":\"46722\"}],\"center\":[{\"id\":\"46725\"},{\"id\":\"46729\"}],\"height\":300,\"left\":[{\"id\":\"46726\"}],\"margin\":[5,5,5,5],\"min_border_bottom\":10,\"min_border_left\":10,\"min_border_right\":10,\"min_border_top\":10,\"renderers\":[{\"id\":\"46749\"}],\"sizing_mode\":\"fixed\",\"title\":{\"id\":\"46714\"},\"toolbar\":{\"id\":\"46736\"},\"width\":700,\"x_range\":{\"id\":\"46710\"},\"x_scale\":{\"id\":\"46718\"},\"y_range\":{\"id\":\"46711\"},\"y_scale\":{\"id\":\"46720\"}},\"id\":\"46713\",\"subtype\":\"Figure\",\"type\":\"Plot\"},{\"attributes\":{},\"id\":\"46760\",\"type\":\"AllLabels\"},{\"attributes\":{\"children\":[{\"id\":\"46713\"}],\"height\":300,\"margin\":[0,0,0,0],\"name\":\"Row38642\",\"sizing_mode\":\"fixed\",\"tags\":[\"embedded\"],\"width\":700},\"id\":\"46709\",\"type\":\"Row\"},{\"attributes\":{\"bottom\":{\"value\":0},\"fill_color\":{\"value\":\"#30a2da\"},\"hatch_color\":{\"value\":\"#30a2da\"},\"left\":{\"field\":\"left\"},\"right\":{\"field\":\"right\"},\"top\":{\"field\":\"top\"}},\"id\":\"46746\",\"type\":\"Quad\"},{\"attributes\":{\"bottom\":{\"value\":0},\"fill_alpha\":{\"value\":0.2},\"fill_color\":{\"value\":\"#30a2da\"},\"hatch_alpha\":{\"value\":0.2},\"hatch_color\":{\"value\":\"#30a2da\"},\"left\":{\"field\":\"left\"},\"line_alpha\":{\"value\":0.2},\"right\":{\"field\":\"right\"},\"top\":{\"field\":\"top\"}},\"id\":\"46748\",\"type\":\"Quad\"},{\"attributes\":{\"bottom\":{\"value\":0},\"fill_alpha\":{\"value\":1.0},\"fill_color\":{\"value\":\"#30a2da\"},\"hatch_alpha\":{\"value\":1.0},\"hatch_color\":{\"value\":\"#30a2da\"},\"hatch_scale\":{\"value\":12.0},\"hatch_weight\":{\"value\":1.0},\"left\":{\"field\":\"left\"},\"line_alpha\":{\"value\":1.0},\"line_cap\":{\"value\":\"butt\"},\"line_color\":{\"value\":\"black\"},\"line_dash\":{\"value\":[]},\"line_dash_offset\":{\"value\":0},\"line_join\":{\"value\":\"bevel\"},\"line_width\":{\"value\":1},\"right\":{\"field\":\"right\"},\"top\":{\"field\":\"top\"}},\"id\":\"46751\",\"type\":\"Quad\"},{\"attributes\":{\"source\":{\"id\":\"46743\"}},\"id\":\"46750\",\"type\":\"CDSView\"},{\"attributes\":{},\"id\":\"46734\",\"type\":\"ResetTool\"},{\"attributes\":{},\"id\":\"46759\",\"type\":\"BasicTickFormatter\"},{\"attributes\":{\"end\":58832.98299999999,\"reset_end\":58832.98299999999,\"reset_start\":930.027,\"start\":930.027,\"tags\":[[[\"final_worth\",\"final_worth\",null]]]},\"id\":\"46710\",\"type\":\"Range1d\"},{\"attributes\":{},\"id\":\"46731\",\"type\":\"PanTool\"},{\"attributes\":{},\"id\":\"46723\",\"type\":\"BasicTicker\"},{\"attributes\":{},\"id\":\"46755\",\"type\":\"AllLabels\"}],\"root_ids\":[\"46709\"]},\"title\":\"Bokeh Application\",\"version\":\"2.4.3\"}};\n",
       "    var render_items = [{\"docid\":\"b34f5da2-a964-4b6a-a311-4890ef6f4edc\",\"root_ids\":[\"46709\"],\"roots\":{\"46709\":\"a7c0ab5a-6d1a-41ff-865c-3fe78ad9a819\"}}];\n",
       "    root.Bokeh.embed.embed_items_notebook(docs_json, render_items);\n",
       "    for (const render_item of render_items) {\n",
       "      for (const root_id of render_item.root_ids) {\n",
       "\tconst id_el = document.getElementById(root_id)\n",
       "\tif (id_el.children.length && (id_el.children[0].className === 'bk-root')) {\n",
       "\t  const root_el = id_el.children[0]\n",
       "\t  root_el.id = root_el.id + '-rendered'\n",
       "\t}\n",
       "      }\n",
       "    }\n",
       "  }\n",
       "  if (root.Bokeh !== undefined && root.Bokeh.Panel !== undefined) {\n",
       "    embed_document(root);\n",
       "  } else {\n",
       "    var attempts = 0;\n",
       "    var timer = setInterval(function(root) {\n",
       "      if (root.Bokeh !== undefined && root.Bokeh.Panel !== undefined) {\n",
       "        clearInterval(timer);\n",
       "        embed_document(root);\n",
       "      } else if (document.readyState == \"complete\") {\n",
       "        attempts++;\n",
       "        if (attempts > 200) {\n",
       "          clearInterval(timer);\n",
       "          console.log(\"Bokeh: ERROR: Unable to run BokehJS code because BokehJS library is missing\");\n",
       "        }\n",
       "      }\n",
       "    }, 25, root)\n",
       "  }\n",
       "})(window);</script>"
      ],
      "text/plain": [
       ":Histogram   [final_worth]   (final_worth_count)"
      ]
     },
     "execution_count": 601,
     "metadata": {
      "application/vnd.holoviews_exec.v0+json": {
       "id": "46709"
      }
     },
     "output_type": "execute_result"
    }
   ],
   "source": [
    "# plot distribution\n",
    "from bokeh.models import HoverTool\n",
    "hover = HoverTool(tooltips=[('final_worth','@final_worth{0.0f}')])\n",
    "pd.DataFrame(final_worths, columns=['final_worth']).hvplot(kind='hist', xformatter=\"%.0f\", tools=[hover])"
   ]
  },
  {
   "cell_type": "markdown",
   "id": "8cc6d6fe-5975-4b90-9aed-a9f9edf11715",
   "metadata": {},
   "source": [
    "## 6. svr on pct_change of all columns"
   ]
  },
  {
   "cell_type": "code",
   "execution_count": 603,
   "id": "278f8939-0644-4ae0-a9c3-a7fe1a57b8c3",
   "metadata": {},
   "outputs": [],
   "source": [
    "# shifted is a df globally. first we cal pct_change, then shift(2) is required to match signal (daily return, lagged, twice_lagged)\n",
    "shifted_dfs = {}\n",
    "for key in ticker_data:\n",
    "    shifted_dfs[key] = dfs[key].drop('symbol',axis=1).pct_change().shift(2)\n",
    "    shifted_dfs[key].dropna(inplace=True)\n"
   ]
  },
  {
   "cell_type": "markdown",
   "id": "745d4ac6-f5c4-4f6d-9f11-b06384a13836",
   "metadata": {},
   "source": [
    "### 6.1 train and predict"
   ]
  },
  {
   "cell_type": "code",
   "execution_count": 604,
   "id": "f7659945-c201-4c16-9f33-9f44217b774b",
   "metadata": {},
   "outputs": [],
   "source": [
    "def ML_pred_c( data, label ):\n",
    "    \"\"\" one cycle of n_dates_for_training + 15 days, using SVR on pct_change of all cols \"\"\"\n",
    "   \n",
    "    # use lagged returns to train SVM\n",
    "    instrs = pd.DataFrame()\n",
    "    model = svm.SVR()\n",
    "    \n",
    "    # rolling train for 30 days then predict 1 day, 15 cycles for 15 instructions\n",
    "    for instri in range(0,15):\n",
    "        iloc_to = instri + 30\n",
    "        X = data.iloc[:iloc_to,:]\n",
    "        y = label.iloc[:iloc_to]\n",
    "        model.fit(X, y)\n",
    "        signal = model.predict(data.iloc[iloc_to:iloc_to+1,:])\n",
    "        \n",
    "        if signal > 0:\n",
    "            instr = 1\n",
    "        else:\n",
    "            instr = -1\n",
    "        #one_row = pd.DataFrame([[signals.index[iloc_to].date(), cycle['symbol'][0], instr]])\n",
    "        one_row = pd.DataFrame([[cycle.index[iloc_to].date(), instr]])\n",
    "        instrs = pd.concat([instrs,one_row], join='outer')\n",
    "        \n",
    "    return instrs"
   ]
  },
  {
   "cell_type": "markdown",
   "id": "f50549c6-2e68-483f-ae48-f54dc15f9f26",
   "metadata": {},
   "source": [
    "### 6.2 one cycle of 45 days"
   ]
  },
  {
   "cell_type": "code",
   "execution_count": 605,
   "id": "03c3ff00-e3c0-444e-b417-b6c154d2e0cb",
   "metadata": {},
   "outputs": [
    {
     "name": "stdout",
     "output_type": "stream",
     "text": [
      "On 2023-08-14 trade AAPL\n",
      "{'action': 'buy', 'price': 178.61, 'bal': 7678.07, 'share': 13, 'status': 0, 'msg': 'success'}\n",
      "On 2023-08-15 trade AMZN\n",
      "{'action': 'buy', 'price': 139.06, 'bal': 5314.05, 'share': 17, 'status': 0, 'msg': 'success'}\n",
      "On 2023-08-16 trade GOOG\n",
      "{'action': 'buy', 'price': 129.44, 'bal': 2854.69, 'share': 19, 'status': 0, 'msg': 'success'}\n",
      "On 2023-08-17 trade MSFT\n",
      "{'action': 'buy', 'price': 318.88, 'bal': 622.53, 'share': 7, 'status': 0, 'msg': 'success'}\n",
      "On 2023-08-18 trade AAPL\n",
      "{'action': 'sell', 'price': 173.46, 'bal': 2877.51, 'share': 13, 'status': 0, 'msg': 'success'}\n",
      "On 2023-08-21 trade GOOG\n",
      "{'action': 'sell', 'price': 128.3, 'bal': 5315.21, 'share': 19, 'status': 0, 'msg': 'success'}\n",
      "On 2023-08-22 trade AAPL\n",
      "{'action': 'buy', 'price': 177.06, 'bal': 2836.37, 'share': 14, 'status': 0, 'msg': 'success'}\n",
      "On 2023-08-23 trade GOOG\n",
      "{'action': 'buy', 'price': 132.16, 'bal': 457.49, 'share': 18, 'status': 0, 'msg': 'success'}\n",
      "On 2023-08-24 trade MSFT\n",
      "{'action': 'sell', 'price': 326.44, 'bal': 2742.57, 'share': 7, 'status': 0, 'msg': 'success'}\n",
      "On 2023-08-25 trade AAPL\n",
      "{'action': 'sell', 'price': 177.74, 'bal': 5230.93, 'share': 14, 'status': 0, 'msg': 'success'}\n",
      "On 2023-08-28 trade AAPL\n",
      "{'action': 'buy', 'price': 179.85, 'bal': 2892.88, 'share': 13, 'status': 0, 'msg': 'success'}\n",
      "On 2023-08-29 trade MSFT\n",
      "{'action': 'buy', 'price': 325.29, 'bal': 615.85, 'share': 7, 'status': 0, 'msg': 'success'}\n",
      "On 2023-08-30 trade MSFT\n",
      "{'action': 'sell', 'price': 328.43, 'bal': 2914.86, 'share': 7, 'status': 0, 'msg': 'success'}\n",
      "On 2023-08-31 trade AAPL\n",
      "{'action': 'sell', 'price': 188.08, 'bal': 5359.9, 'share': 13, 'status': 0, 'msg': 'success'}\n",
      "On 2023-09-01 trade MSFT\n",
      "{'action': 'buy', 'price': 330.38, 'bal': 3047.24, 'share': 7, 'status': 0, 'msg': 'success'}\n",
      "networth: Cash: 3047.24, \n",
      "                  shares: {'AAPL': 0, 'AMZN': 17, 'GOOG': 18, 'MSFT': 7}, \n",
      "                  total: 16923.2\n"
     ]
    },
    {
     "data": {},
     "metadata": {},
     "output_type": "display_data"
    },
    {
     "data": {
      "application/vnd.holoviews_exec.v0+json": "",
      "text/html": [
       "<div id='46820'>\n",
       "  <div class=\"bk-root\" id=\"01b6416c-32eb-4c3b-9d7e-057dd9973cd5\" data-root-id=\"46820\"></div>\n",
       "</div>\n",
       "<script type=\"application/javascript\">(function(root) {\n",
       "  function embed_document(root) {\n",
       "    var docs_json = {\"842d7a1a-f531-432b-b0ea-5b66aa98ddb7\":{\"defs\":[{\"extends\":null,\"module\":null,\"name\":\"ReactiveHTML1\",\"overrides\":[],\"properties\":[]},{\"extends\":null,\"module\":null,\"name\":\"FlexBox1\",\"overrides\":[],\"properties\":[{\"default\":\"flex-start\",\"kind\":null,\"name\":\"align_content\"},{\"default\":\"flex-start\",\"kind\":null,\"name\":\"align_items\"},{\"default\":\"row\",\"kind\":null,\"name\":\"flex_direction\"},{\"default\":\"wrap\",\"kind\":null,\"name\":\"flex_wrap\"},{\"default\":\"flex-start\",\"kind\":null,\"name\":\"justify_content\"}]},{\"extends\":null,\"module\":null,\"name\":\"GridStack1\",\"overrides\":[],\"properties\":[{\"default\":\"warn\",\"kind\":null,\"name\":\"mode\"},{\"default\":null,\"kind\":null,\"name\":\"ncols\"},{\"default\":null,\"kind\":null,\"name\":\"nrows\"},{\"default\":true,\"kind\":null,\"name\":\"allow_resize\"},{\"default\":true,\"kind\":null,\"name\":\"allow_drag\"},{\"default\":[],\"kind\":null,\"name\":\"state\"}]},{\"extends\":null,\"module\":null,\"name\":\"click1\",\"overrides\":[],\"properties\":[{\"default\":\"\",\"kind\":null,\"name\":\"terminal_output\"},{\"default\":\"\",\"kind\":null,\"name\":\"debug_name\"},{\"default\":0,\"kind\":null,\"name\":\"clears\"}]},{\"extends\":null,\"module\":null,\"name\":\"NotificationAreaBase1\",\"overrides\":[],\"properties\":[{\"default\":\"bottom-right\",\"kind\":null,\"name\":\"position\"},{\"default\":0,\"kind\":null,\"name\":\"_clear\"}]},{\"extends\":null,\"module\":null,\"name\":\"NotificationArea1\",\"overrides\":[],\"properties\":[{\"default\":[],\"kind\":null,\"name\":\"notifications\"},{\"default\":\"bottom-right\",\"kind\":null,\"name\":\"position\"},{\"default\":0,\"kind\":null,\"name\":\"_clear\"},{\"default\":[{\"background\":\"#ffc107\",\"icon\":{\"className\":\"fas fa-exclamation-triangle\",\"color\":\"white\",\"tagName\":\"i\"},\"type\":\"warning\"},{\"background\":\"#007bff\",\"icon\":{\"className\":\"fas fa-info-circle\",\"color\":\"white\",\"tagName\":\"i\"},\"type\":\"info\"}],\"kind\":null,\"name\":\"types\"}]},{\"extends\":null,\"module\":null,\"name\":\"Notification\",\"overrides\":[],\"properties\":[{\"default\":null,\"kind\":null,\"name\":\"background\"},{\"default\":3000,\"kind\":null,\"name\":\"duration\"},{\"default\":null,\"kind\":null,\"name\":\"icon\"},{\"default\":\"\",\"kind\":null,\"name\":\"message\"},{\"default\":null,\"kind\":null,\"name\":\"notification_type\"},{\"default\":false,\"kind\":null,\"name\":\"_destroyed\"}]},{\"extends\":null,\"module\":null,\"name\":\"TemplateActions1\",\"overrides\":[],\"properties\":[{\"default\":0,\"kind\":null,\"name\":\"open_modal\"},{\"default\":0,\"kind\":null,\"name\":\"close_modal\"}]},{\"extends\":null,\"module\":null,\"name\":\"MaterialTemplateActions1\",\"overrides\":[],\"properties\":[{\"default\":0,\"kind\":null,\"name\":\"open_modal\"},{\"default\":0,\"kind\":null,\"name\":\"close_modal\"}]}],\"roots\":{\"references\":[{\"attributes\":{\"coordinates\":null,\"group\":null,\"text\":\"networth and cash\",\"text_color\":\"black\",\"text_font_size\":\"12pt\"},\"id\":\"47013\",\"type\":\"Title\"},{\"attributes\":{\"axis_label\":\"dollars\",\"coordinates\":null,\"formatter\":{\"id\":\"47046\"},\"group\":null,\"major_label_policy\":{\"id\":\"47047\"},\"ticker\":{\"id\":\"47026\"}},\"id\":\"47025\",\"type\":\"LinearAxis\"},{\"attributes\":{\"line_color\":\"#fc4f30\",\"line_width\":2,\"x\":{\"field\":\"date\"},\"y\":{\"field\":\"value\"}},\"id\":\"47114\",\"type\":\"Line\"},{\"attributes\":{},\"id\":\"47030\",\"type\":\"PanTool\"},{\"attributes\":{\"line_color\":\"#fc4f30\",\"line_width\":2,\"x\":{\"field\":\"date\"},\"y\":{\"field\":\"value\"}},\"id\":\"46929\",\"type\":\"Line\"},{\"attributes\":{},\"id\":\"47044\",\"type\":\"AllLabels\"},{\"attributes\":{\"num_minor_ticks\":5,\"tickers\":[{\"id\":\"47066\"},{\"id\":\"47067\"},{\"id\":\"47068\"},{\"id\":\"47069\"},{\"id\":\"47070\"},{\"id\":\"47071\"},{\"id\":\"47072\"},{\"id\":\"47073\"},{\"id\":\"47074\"},{\"id\":\"47075\"},{\"id\":\"47076\"},{\"id\":\"47077\"}]},\"id\":\"47022\",\"type\":\"DatetimeTicker\"},{\"attributes\":{\"axis\":{\"id\":\"47021\"},\"coordinates\":null,\"grid_line_color\":null,\"group\":null,\"ticker\":null},\"id\":\"47024\",\"type\":\"Grid\"},{\"attributes\":{\"line_alpha\":0.1,\"line_color\":\"#fc4f30\",\"line_width\":2,\"x\":{\"field\":\"date\"},\"y\":{\"field\":\"value\"}},\"id\":\"46900\",\"type\":\"Line\"},{\"attributes\":{\"axis\":{\"id\":\"46840\"},\"coordinates\":null,\"dimension\":1,\"grid_line_color\":null,\"group\":null,\"ticker\":null},\"id\":\"46843\",\"type\":\"Grid\"},{\"attributes\":{\"axis\":{\"id\":\"47025\"},\"coordinates\":null,\"dimension\":1,\"grid_line_color\":null,\"group\":null,\"ticker\":null},\"id\":\"47028\",\"type\":\"Grid\"},{\"attributes\":{},\"id\":\"47026\",\"type\":\"BasicTicker\"},{\"attributes\":{},\"id\":\"46913\",\"type\":\"UnionRenderers\"},{\"attributes\":{\"mantissas\":[1,2,5],\"max_interval\":500.0,\"num_minor_ticks\":0},\"id\":\"46881\",\"type\":\"AdaptiveTicker\"},{\"attributes\":{},\"id\":\"47031\",\"type\":\"WheelZoomTool\"},{\"attributes\":{\"base\":60,\"mantissas\":[1,2,5,10,15,20,30],\"max_interval\":1800000.0,\"min_interval\":1000.0,\"num_minor_ticks\":0},\"id\":\"46882\",\"type\":\"AdaptiveTicker\"},{\"attributes\":{\"days\":[1,2,3,4,5,6,7,8,9,10,11,12,13,14,15,16,17,18,19,20,21,22,23,24,25,26,27,28,29,30,31]},\"id\":\"46884\",\"type\":\"DaysTicker\"},{\"attributes\":{\"base\":24,\"mantissas\":[1,2,4,6,8,12],\"max_interval\":43200000.0,\"min_interval\":3600000.0,\"num_minor_ticks\":0},\"id\":\"46883\",\"type\":\"AdaptiveTicker\"},{\"attributes\":{},\"id\":\"47029\",\"type\":\"SaveTool\"},{\"attributes\":{\"months\":[0,1,2,3,4,5,6,7,8,9,10,11]},\"id\":\"46888\",\"type\":\"MonthsTicker\"},{\"attributes\":{\"overlay\":{\"id\":\"47034\"}},\"id\":\"47032\",\"type\":\"BoxZoomTool\"},{\"attributes\":{\"line_color\":\"#fc4f30\",\"line_width\":2,\"x\":{\"field\":\"date\"},\"y\":{\"field\":\"value\"}},\"id\":\"46899\",\"type\":\"Line\"},{\"attributes\":{\"months\":[0,2,4,6,8,10]},\"id\":\"46889\",\"type\":\"MonthsTicker\"},{\"attributes\":{},\"id\":\"47033\",\"type\":\"ResetTool\"},{\"attributes\":{\"line_alpha\":0.2,\"line_color\":\"#fc4f30\",\"line_width\":2,\"x\":{\"field\":\"date\"},\"y\":{\"field\":\"value\"}},\"id\":\"46901\",\"type\":\"Line\"},{\"attributes\":{\"days\":[1,4,7,10,13,16,19,22,25,28]},\"id\":\"46885\",\"type\":\"DaysTicker\"},{\"attributes\":{\"days\":[1,15]},\"id\":\"46887\",\"type\":\"DaysTicker\"},{\"attributes\":{\"bottom_units\":\"screen\",\"coordinates\":null,\"fill_alpha\":0.5,\"fill_color\":\"lightgrey\",\"group\":null,\"left_units\":\"screen\",\"level\":\"overlay\",\"line_alpha\":1.0,\"line_color\":\"black\",\"line_dash\":[4,4],\"line_width\":2,\"right_units\":\"screen\",\"syncable\":false,\"top_units\":\"screen\"},\"id\":\"47034\",\"type\":\"BoxAnnotation\"},{\"attributes\":{\"months\":[0,6]},\"id\":\"46891\",\"type\":\"MonthsTicker\"},{\"attributes\":{\"days\":[1,8,15,22]},\"id\":\"46886\",\"type\":\"DaysTicker\"},{\"attributes\":{},\"id\":\"46892\",\"type\":\"YearsTicker\"},{\"attributes\":{\"children\":[{\"id\":\"47175\"},{\"id\":\"47173\"}]},\"id\":\"47176\",\"type\":\"Column\"},{\"attributes\":{\"months\":[0,4,8]},\"id\":\"46890\",\"type\":\"MonthsTicker\"},{\"attributes\":{\"axis\":{\"id\":\"46836\"},\"coordinates\":null,\"grid_line_color\":null,\"group\":null,\"ticker\":null},\"id\":\"46839\",\"type\":\"Grid\"},{\"attributes\":{\"coordinates\":null,\"data_source\":{\"id\":\"46896\"},\"glyph\":{\"id\":\"46899\"},\"group\":null,\"hover_glyph\":null,\"muted_glyph\":{\"id\":\"46901\"},\"nonselection_glyph\":{\"id\":\"46900\"},\"selection_glyph\":{\"id\":\"46929\"},\"view\":{\"id\":\"46903\"}},\"id\":\"46902\",\"type\":\"GlyphRenderer\"},{\"attributes\":{},\"id\":\"47063\",\"type\":\"UnionRenderers\"},{\"attributes\":{\"axis_label\":\"shares\",\"coordinates\":null,\"formatter\":{\"id\":\"46861\"},\"group\":null,\"major_label_policy\":{\"id\":\"46862\"},\"ticker\":{\"id\":\"46841\"}},\"id\":\"46840\",\"type\":\"LinearAxis\"},{\"attributes\":{},\"id\":\"46967\",\"type\":\"Selection\"},{\"attributes\":{},\"id\":\"47098\",\"type\":\"UnionRenderers\"},{\"attributes\":{},\"id\":\"46832\",\"type\":\"LinearScale\"},{\"attributes\":{\"line_color\":\"#30a2da\",\"line_width\":2,\"x\":{\"field\":\"date\"},\"y\":{\"field\":\"value\"}},\"id\":\"47080\",\"type\":\"Line\"},{\"attributes\":{\"coordinates\":null,\"group\":null,\"text\":\"shares in trading\",\"text_color\":\"black\",\"text_font_size\":\"12pt\"},\"id\":\"46828\",\"type\":\"Title\"},{\"attributes\":{},\"id\":\"47043\",\"type\":\"DatetimeTickFormatter\"},{\"attributes\":{\"end\":20.9,\"reset_end\":20.9,\"reset_start\":-1.9000000000000001,\"start\":-1.9000000000000001,\"tags\":[[[\"value\",\"value\",null]]]},\"id\":\"46822\",\"type\":\"Range1d\"},{\"attributes\":{\"data\":{\"Variable\":[\"cash\",\"cash\",\"cash\",\"cash\",\"cash\",\"cash\",\"cash\",\"cash\",\"cash\",\"cash\",\"cash\",\"cash\",\"cash\",\"cash\",\"cash\"],\"date\":{\"__ndarray__\":\"AABAehWfeEIAAADgZ594QgAAwEW6n3hCAACAqwygeEIAAEARX6B4QgAAgEJWoXhCAABAqKiheEIAAAAO+6F4QgAAwHNNonhCAACA2Z+ieEIAAMAKl6N4QgAAgHDpo3hCAABA1jukeEIAAAA8jqR4QgAAwKHgpHhC\",\"dtype\":\"float64\",\"order\":\"little\",\"shape\":[15]},\"value\":{\"__ndarray__\":\"uB6F6xH+vUDNzMzMDMK0QHsUrkdhTaZACtejcD10g0DsUbgeBXumQClcj8I1w7RACtejcL0opkCkcD0K15d8QHE9CtcjbaVASOF6FO5utED2KFyPwpmmQM3MzMzMPoNAH4XrUbjFpkBmZmZm5u+0QBSuR+F6zqdA\",\"dtype\":\"float64\",\"order\":\"little\",\"shape\":[15]}},\"selected\":{\"id\":\"47049\"},\"selection_policy\":{\"id\":\"47063\"}},\"id\":\"47048\",\"type\":\"ColumnDataSource\"},{\"attributes\":{\"coordinates\":null,\"data_source\":{\"id\":\"47081\"},\"glyph\":{\"id\":\"47084\"},\"group\":null,\"hover_glyph\":null,\"muted_glyph\":{\"id\":\"47086\"},\"nonselection_glyph\":{\"id\":\"47085\"},\"selection_glyph\":{\"id\":\"47114\"},\"view\":{\"id\":\"47088\"}},\"id\":\"47087\",\"type\":\"GlyphRenderer\"},{\"attributes\":{\"toolbar\":{\"id\":\"47174\"},\"toolbar_location\":\"above\"},\"id\":\"47175\",\"type\":\"ToolbarBox\"},{\"attributes\":{\"active_drag\":{\"id\":\"47030\"},\"active_scroll\":{\"id\":\"47031\"},\"tools\":[{\"id\":\"47010\"},{\"id\":\"47029\"},{\"id\":\"47030\"},{\"id\":\"47031\"},{\"id\":\"47032\"},{\"id\":\"47033\"}]},\"id\":\"47035\",\"type\":\"Toolbar\"},{\"attributes\":{},\"id\":\"46845\",\"type\":\"PanTool\"},{\"attributes\":{\"mantissas\":[1,2,5],\"max_interval\":500.0,\"num_minor_ticks\":0},\"id\":\"47066\",\"type\":\"AdaptiveTicker\"},{\"attributes\":{\"base\":60,\"mantissas\":[1,2,5,10,15,20,30],\"max_interval\":1800000.0,\"min_interval\":1000.0,\"num_minor_ticks\":0},\"id\":\"47067\",\"type\":\"AdaptiveTicker\"},{\"attributes\":{\"end\":1693526400000.0,\"reset_end\":1693526400000.0,\"reset_start\":1691971200000.0,\"start\":1691971200000.0,\"tags\":[[[\"date\",\"date\",null]]]},\"id\":\"47008\",\"type\":\"Range1d\"},{\"attributes\":{\"source\":{\"id\":\"47081\"}},\"id\":\"47088\",\"type\":\"CDSView\"},{\"attributes\":{},\"id\":\"46897\",\"type\":\"Selection\"},{\"attributes\":{},\"id\":\"46834\",\"type\":\"LinearScale\"},{\"attributes\":{\"base\":24,\"mantissas\":[1,2,4,6,8,12],\"max_interval\":43200000.0,\"min_interval\":3600000.0,\"num_minor_ticks\":0},\"id\":\"47068\",\"type\":\"AdaptiveTicker\"},{\"attributes\":{\"days\":[1,2,3,4,5,6,7,8,9,10,11,12,13,14,15,16,17,18,19,20,21,22,23,24,25,26,27,28,29,30,31]},\"id\":\"47069\",\"type\":\"DaysTicker\"},{\"attributes\":{\"axis_label\":\"date\",\"coordinates\":null,\"formatter\":{\"id\":\"46858\"},\"group\":null,\"major_label_policy\":{\"id\":\"46859\"},\"ticker\":{\"id\":\"46837\"}},\"id\":\"46836\",\"type\":\"DatetimeAxis\"},{\"attributes\":{\"line_color\":\"#fc4f30\",\"line_width\":2,\"x\":{\"field\":\"date\"},\"y\":{\"field\":\"value\"}},\"id\":\"47084\",\"type\":\"Line\"},{\"attributes\":{\"data\":{\"Variable\":[\"AAPL\",\"AAPL\",\"AAPL\",\"AAPL\",\"AAPL\",\"AAPL\",\"AAPL\",\"AAPL\",\"AAPL\",\"AAPL\",\"AAPL\",\"AAPL\",\"AAPL\",\"AAPL\",\"AAPL\"],\"date\":{\"__ndarray__\":\"AABAehWfeEIAAADgZ594QgAAwEW6n3hCAACAqwygeEIAAEARX6B4QgAAgEJWoXhCAABAqKiheEIAAAAO+6F4QgAAwHNNonhCAACA2Z+ieEIAAMAKl6N4QgAAgHDpo3hCAABA1jukeEIAAAA8jqR4QgAAwKHgpHhC\",\"dtype\":\"float64\",\"order\":\"little\",\"shape\":[15]},\"value\":[13,13,13,13,0,0,14,14,14,0,13,13,13,0,0]},\"selected\":{\"id\":\"46864\"},\"selection_policy\":{\"id\":\"46878\"}},\"id\":\"46863\",\"type\":\"ColumnDataSource\"},{\"attributes\":{\"num_minor_ticks\":5,\"tickers\":[{\"id\":\"46881\"},{\"id\":\"46882\"},{\"id\":\"46883\"},{\"id\":\"46884\"},{\"id\":\"46885\"},{\"id\":\"46886\"},{\"id\":\"46887\"},{\"id\":\"46888\"},{\"id\":\"46889\"},{\"id\":\"46890\"},{\"id\":\"46891\"},{\"id\":\"46892\"}]},\"id\":\"46837\",\"type\":\"DatetimeTicker\"},{\"attributes\":{\"line_alpha\":0.2,\"line_color\":\"#fc4f30\",\"line_width\":2,\"x\":{\"field\":\"date\"},\"y\":{\"field\":\"value\"}},\"id\":\"47086\",\"type\":\"Line\"},{\"attributes\":{\"coordinates\":null,\"data_source\":{\"id\":\"46930\"},\"glyph\":{\"id\":\"46933\"},\"group\":null,\"hover_glyph\":null,\"muted_glyph\":{\"id\":\"46935\"},\"nonselection_glyph\":{\"id\":\"46934\"},\"selection_glyph\":{\"id\":\"46965\"},\"view\":{\"id\":\"46937\"}},\"id\":\"46936\",\"type\":\"GlyphRenderer\"},{\"attributes\":{\"months\":[0,1,2,3,4,5,6,7,8,9,10,11]},\"id\":\"47073\",\"type\":\"MonthsTicker\"},{\"attributes\":{\"months\":[0,2,4,6,8,10]},\"id\":\"47074\",\"type\":\"MonthsTicker\"},{\"attributes\":{},\"id\":\"46864\",\"type\":\"Selection\"},{\"attributes\":{\"days\":[1,4,7,10,13,16,19,22,25,28]},\"id\":\"47070\",\"type\":\"DaysTicker\"},{\"attributes\":{\"click_policy\":\"mute\",\"coordinates\":null,\"group\":null,\"items\":[{\"id\":\"47079\"},{\"id\":\"47113\"}],\"location\":[0,0],\"title\":\"Variable\"},\"id\":\"47078\",\"type\":\"Legend\"},{\"attributes\":{},\"id\":\"46841\",\"type\":\"BasicTicker\"},{\"attributes\":{},\"id\":\"47046\",\"type\":\"BasicTickFormatter\"},{\"attributes\":{},\"id\":\"46846\",\"type\":\"WheelZoomTool\"},{\"attributes\":{},\"id\":\"46949\",\"type\":\"UnionRenderers\"},{\"attributes\":{\"days\":[1,15]},\"id\":\"47072\",\"type\":\"DaysTicker\"},{\"attributes\":{},\"id\":\"47047\",\"type\":\"AllLabels\"},{\"attributes\":{\"days\":[1,8,15,22]},\"id\":\"47071\",\"type\":\"DaysTicker\"},{\"attributes\":{\"months\":[0,6]},\"id\":\"47076\",\"type\":\"MonthsTicker\"},{\"attributes\":{},\"id\":\"47077\",\"type\":\"YearsTicker\"},{\"attributes\":{},\"id\":\"46844\",\"type\":\"SaveTool\"},{\"attributes\":{\"label\":{\"value\":\"networth\"},\"renderers\":[{\"id\":\"47087\"}]},\"id\":\"47113\",\"type\":\"LegendItem\"},{\"attributes\":{\"end\":1693526400000.0,\"reset_end\":1693526400000.0,\"reset_start\":1691971200000.0,\"start\":1691971200000.0,\"tags\":[[[\"date\",\"date\",null]]]},\"id\":\"46821\",\"type\":\"Range1d\"},{\"attributes\":{\"line_alpha\":0.1,\"line_color\":\"#fc4f30\",\"line_width\":2,\"x\":{\"field\":\"date\"},\"y\":{\"field\":\"value\"}},\"id\":\"47085\",\"type\":\"Line\"},{\"attributes\":{\"months\":[0,4,8]},\"id\":\"47075\",\"type\":\"MonthsTicker\"},{\"attributes\":{\"overlay\":{\"id\":\"46849\"}},\"id\":\"46847\",\"type\":\"BoxZoomTool\"},{\"attributes\":{},\"id\":\"47082\",\"type\":\"Selection\"},{\"attributes\":{},\"id\":\"46848\",\"type\":\"ResetTool\"},{\"attributes\":{\"source\":{\"id\":\"46930\"}},\"id\":\"46937\",\"type\":\"CDSView\"},{\"attributes\":{\"bottom_units\":\"screen\",\"coordinates\":null,\"fill_alpha\":0.5,\"fill_color\":\"lightgrey\",\"group\":null,\"left_units\":\"screen\",\"level\":\"overlay\",\"line_alpha\":1.0,\"line_color\":\"black\",\"line_dash\":[4,4],\"line_width\":2,\"right_units\":\"screen\",\"syncable\":false,\"top_units\":\"screen\"},\"id\":\"46849\",\"type\":\"BoxAnnotation\"},{\"attributes\":{\"line_color\":\"#e5ae38\",\"line_width\":2,\"x\":{\"field\":\"date\"},\"y\":{\"field\":\"value\"}},\"id\":\"46933\",\"type\":\"Line\"},{\"attributes\":{\"line_alpha\":0.2,\"line_color\":\"#e5ae38\",\"line_width\":2,\"x\":{\"field\":\"date\"},\"y\":{\"field\":\"value\"}},\"id\":\"46935\",\"type\":\"Line\"},{\"attributes\":{\"active_drag\":{\"id\":\"46845\"},\"active_scroll\":{\"id\":\"46846\"},\"tools\":[{\"id\":\"46823\"},{\"id\":\"46844\"},{\"id\":\"46845\"},{\"id\":\"46846\"},{\"id\":\"46847\"},{\"id\":\"46848\"}]},\"id\":\"46850\",\"type\":\"Toolbar\"},{\"attributes\":{\"coordinates\":null,\"data_source\":{\"id\":\"47048\"},\"glyph\":{\"id\":\"47051\"},\"group\":null,\"hover_glyph\":null,\"muted_glyph\":{\"id\":\"47053\"},\"nonselection_glyph\":{\"id\":\"47052\"},\"selection_glyph\":{\"id\":\"47080\"},\"view\":{\"id\":\"47055\"}},\"id\":\"47054\",\"type\":\"GlyphRenderer\"},{\"attributes\":{\"data\":{\"Variable\":[\"networth\",\"networth\",\"networth\",\"networth\",\"networth\",\"networth\",\"networth\",\"networth\",\"networth\",\"networth\",\"networth\",\"networth\",\"networth\",\"networth\",\"networth\"],\"date\":{\"__ndarray__\":\"AABAehWfeEIAAADgZ594QgAAwEW6n3hCAACAqwygeEIAAEARX6B4QgAAgEJWoXhCAABAqKiheEIAAAAO+6F4QgAAwHNNonhCAACA2Z+ieEIAAMAKl6N4QgAAgHDpo3hCAABA1jukeEIAAAA8jqR4QgAAwKHgpHhC\",\"dtype\":\"float64\",\"order\":\"little\",\"shape\":[15]},\"value\":{\"__ndarray__\":\"AAAAAACIw0DNzMzM7IbCQAAAAACg9sFAcD0K1/ML0kDsUbgeJTDEQK5H4Xo0ZcBANDMzM1OuwkAzMzMzc7K+QB+F61GITNJA16NwPepdxkCkcD0K14LGQDMzMzOzEtJAAAAAAOA90kCamZmZWVPHQMzMzMzMhtBA\",\"dtype\":\"float64\",\"order\":\"little\",\"shape\":[15]}},\"selected\":{\"id\":\"47082\"},\"selection_policy\":{\"id\":\"47098\"}},\"id\":\"47081\",\"type\":\"ColumnDataSource\"},{\"attributes\":{\"source\":{\"id\":\"46896\"}},\"id\":\"46903\",\"type\":\"CDSView\"},{\"attributes\":{\"label\":{\"value\":\"cash\"},\"renderers\":[{\"id\":\"47054\"}]},\"id\":\"47079\",\"type\":\"LegendItem\"},{\"attributes\":{\"line_alpha\":0.1,\"line_color\":\"#30a2da\",\"line_width\":2,\"x\":{\"field\":\"date\"},\"y\":{\"field\":\"value\"}},\"id\":\"47052\",\"type\":\"Line\"},{\"attributes\":{\"label\":{\"value\":\"GOOG\"},\"renderers\":[{\"id\":\"46936\"}]},\"id\":\"46964\",\"type\":\"LegendItem\"},{\"attributes\":{\"line_alpha\":0.1,\"line_color\":\"#e5ae38\",\"line_width\":2,\"x\":{\"field\":\"date\"},\"y\":{\"field\":\"value\"}},\"id\":\"46934\",\"type\":\"Line\"},{\"attributes\":{\"line_color\":\"#30a2da\",\"line_width\":2,\"x\":{\"field\":\"date\"},\"y\":{\"field\":\"value\"}},\"id\":\"47051\",\"type\":\"Line\"},{\"attributes\":{\"toolbars\":[{\"id\":\"46850\"},{\"id\":\"47035\"}],\"tools\":[{\"id\":\"46823\"},{\"id\":\"46844\"},{\"id\":\"46845\"},{\"id\":\"46846\"},{\"id\":\"46847\"},{\"id\":\"46848\"},{\"id\":\"47010\"},{\"id\":\"47029\"},{\"id\":\"47030\"},{\"id\":\"47031\"},{\"id\":\"47032\"},{\"id\":\"47033\"}]},\"id\":\"47174\",\"type\":\"ProxyToolbar\"},{\"attributes\":{\"source\":{\"id\":\"47048\"}},\"id\":\"47055\",\"type\":\"CDSView\"},{\"attributes\":{},\"id\":\"46931\",\"type\":\"Selection\"},{\"attributes\":{\"label\":{\"value\":\"AMZN\"},\"renderers\":[{\"id\":\"46902\"}]},\"id\":\"46928\",\"type\":\"LegendItem\"},{\"attributes\":{\"line_alpha\":0.2,\"line_color\":\"#30a2da\",\"line_width\":2,\"x\":{\"field\":\"date\"},\"y\":{\"field\":\"value\"}},\"id\":\"47053\",\"type\":\"Line\"},{\"attributes\":{\"coordinates\":null,\"data_source\":{\"id\":\"46863\"},\"glyph\":{\"id\":\"46866\"},\"group\":null,\"hover_glyph\":null,\"muted_glyph\":{\"id\":\"46868\"},\"nonselection_glyph\":{\"id\":\"46867\"},\"selection_glyph\":{\"id\":\"46895\"},\"view\":{\"id\":\"46870\"}},\"id\":\"46869\",\"type\":\"GlyphRenderer\"},{\"attributes\":{\"data\":{\"Variable\":[\"MSFT\",\"MSFT\",\"MSFT\",\"MSFT\",\"MSFT\",\"MSFT\",\"MSFT\",\"MSFT\",\"MSFT\",\"MSFT\",\"MSFT\",\"MSFT\",\"MSFT\",\"MSFT\",\"MSFT\"],\"date\":{\"__ndarray__\":\"AABAehWfeEIAAADgZ594QgAAwEW6n3hCAACAqwygeEIAAEARX6B4QgAAgEJWoXhCAABAqKiheEIAAAAO+6F4QgAAwHNNonhCAACA2Z+ieEIAAMAKl6N4QgAAgHDpo3hCAABA1jukeEIAAAA8jqR4QgAAwKHgpHhC\",\"dtype\":\"float64\",\"order\":\"little\",\"shape\":[15]},\"value\":{\"__ndarray__\":\"AAAAAAAA+H8AAAAAAAD4fwAAAAAAAPh/AAAAAAAAHEAAAAAAAAAcQAAAAAAAABxAAAAAAAAAHEAAAAAAAAAcQAAAAAAAAAAAAAAAAAAAAAAAAAAAAAAAAAAAAAAAABxAAAAAAAAAAAAAAAAAAAAAAAAAAAAAABxA\",\"dtype\":\"float64\",\"order\":\"little\",\"shape\":[15]}},\"selected\":{\"id\":\"46967\"},\"selection_policy\":{\"id\":\"46987\"}},\"id\":\"46966\",\"type\":\"ColumnDataSource\"},{\"attributes\":{\"line_color\":\"#30a2da\",\"line_width\":2,\"x\":{\"field\":\"date\"},\"y\":{\"field\":\"value\"}},\"id\":\"46895\",\"type\":\"Line\"},{\"attributes\":{},\"id\":\"47049\",\"type\":\"Selection\"},{\"attributes\":{\"data\":{\"Variable\":[\"GOOG\",\"GOOG\",\"GOOG\",\"GOOG\",\"GOOG\",\"GOOG\",\"GOOG\",\"GOOG\",\"GOOG\",\"GOOG\",\"GOOG\",\"GOOG\",\"GOOG\",\"GOOG\",\"GOOG\"],\"date\":{\"__ndarray__\":\"AABAehWfeEIAAADgZ594QgAAwEW6n3hCAACAqwygeEIAAEARX6B4QgAAgEJWoXhCAABAqKiheEIAAAAO+6F4QgAAwHNNonhCAACA2Z+ieEIAAMAKl6N4QgAAgHDpo3hCAABA1jukeEIAAAA8jqR4QgAAwKHgpHhC\",\"dtype\":\"float64\",\"order\":\"little\",\"shape\":[15]},\"value\":{\"__ndarray__\":\"AAAAAAAA+H8AAAAAAAD4fwAAAAAAADNAAAAAAAAAM0AAAAAAAAAzQAAAAAAAAAAAAAAAAAAAAAAAAAAAAAAyQAAAAAAAADJAAAAAAAAAMkAAAAAAAAAyQAAAAAAAADJAAAAAAAAAMkAAAAAAAAAyQAAAAAAAADJA\",\"dtype\":\"float64\",\"order\":\"little\",\"shape\":[15]}},\"selected\":{\"id\":\"46931\"},\"selection_policy\":{\"id\":\"46949\"}},\"id\":\"46930\",\"type\":\"ColumnDataSource\"},{\"attributes\":{\"data\":{\"Variable\":[\"AMZN\",\"AMZN\",\"AMZN\",\"AMZN\",\"AMZN\",\"AMZN\",\"AMZN\",\"AMZN\",\"AMZN\",\"AMZN\",\"AMZN\",\"AMZN\",\"AMZN\",\"AMZN\",\"AMZN\"],\"date\":{\"__ndarray__\":\"AABAehWfeEIAAADgZ594QgAAwEW6n3hCAACAqwygeEIAAEARX6B4QgAAgEJWoXhCAABAqKiheEIAAAAO+6F4QgAAwHNNonhCAACA2Z+ieEIAAMAKl6N4QgAAgHDpo3hCAABA1jukeEIAAAA8jqR4QgAAwKHgpHhC\",\"dtype\":\"float64\",\"order\":\"little\",\"shape\":[15]},\"value\":{\"__ndarray__\":\"AAAAAAAA+H8AAAAAAAAxQAAAAAAAADFAAAAAAAAAMUAAAAAAAAAxQAAAAAAAADFAAAAAAAAAMUAAAAAAAAAxQAAAAAAAADFAAAAAAAAAMUAAAAAAAAAxQAAAAAAAADFAAAAAAAAAMUAAAAAAAAAxQAAAAAAAADFA\",\"dtype\":\"float64\",\"order\":\"little\",\"shape\":[15]}},\"selected\":{\"id\":\"46897\"},\"selection_policy\":{\"id\":\"46913\"}},\"id\":\"46896\",\"type\":\"ColumnDataSource\"},{\"attributes\":{\"label\":{\"value\":\"AAPL\"},\"renderers\":[{\"id\":\"46869\"}]},\"id\":\"46894\",\"type\":\"LegendItem\"},{\"attributes\":{\"line_color\":\"#6d904f\",\"line_width\":2,\"x\":{\"field\":\"date\"},\"y\":{\"field\":\"value\"}},\"id\":\"47003\",\"type\":\"Line\"},{\"attributes\":{},\"id\":\"46858\",\"type\":\"DatetimeTickFormatter\"},{\"attributes\":{\"line_color\":\"#e5ae38\",\"line_width\":2,\"x\":{\"field\":\"date\"},\"y\":{\"field\":\"value\"}},\"id\":\"46965\",\"type\":\"Line\"},{\"attributes\":{},\"id\":\"46859\",\"type\":\"AllLabels\"},{\"attributes\":{},\"id\":\"46861\",\"type\":\"BasicTickFormatter\"},{\"attributes\":{},\"id\":\"46862\",\"type\":\"AllLabels\"},{\"attributes\":{},\"id\":\"46987\",\"type\":\"UnionRenderers\"},{\"attributes\":{\"line_alpha\":0.1,\"line_color\":\"#6d904f\",\"line_width\":2,\"x\":{\"field\":\"date\"},\"y\":{\"field\":\"value\"}},\"id\":\"46970\",\"type\":\"Line\"},{\"attributes\":{\"source\":{\"id\":\"46966\"}},\"id\":\"46973\",\"type\":\"CDSView\"},{\"attributes\":{\"source\":{\"id\":\"46863\"}},\"id\":\"46870\",\"type\":\"CDSView\"},{\"attributes\":{\"line_color\":\"#6d904f\",\"line_width\":2,\"x\":{\"field\":\"date\"},\"y\":{\"field\":\"value\"}},\"id\":\"46969\",\"type\":\"Line\"},{\"attributes\":{\"line_alpha\":0.1,\"line_color\":\"#30a2da\",\"line_width\":2,\"x\":{\"field\":\"date\"},\"y\":{\"field\":\"value\"}},\"id\":\"46867\",\"type\":\"Line\"},{\"attributes\":{\"line_alpha\":0.2,\"line_color\":\"#6d904f\",\"line_width\":2,\"x\":{\"field\":\"date\"},\"y\":{\"field\":\"value\"}},\"id\":\"46971\",\"type\":\"Line\"},{\"attributes\":{\"line_color\":\"#30a2da\",\"line_width\":2,\"x\":{\"field\":\"date\"},\"y\":{\"field\":\"value\"}},\"id\":\"46866\",\"type\":\"Line\"},{\"attributes\":{\"label\":{\"value\":\"MSFT\"},\"renderers\":[{\"id\":\"46972\"}]},\"id\":\"47002\",\"type\":\"LegendItem\"},{\"attributes\":{\"click_policy\":\"mute\",\"coordinates\":null,\"group\":null,\"items\":[{\"id\":\"46894\"},{\"id\":\"46928\"},{\"id\":\"46964\"},{\"id\":\"47002\"}],\"location\":[0,0],\"title\":\"Variable\"},\"id\":\"46893\",\"type\":\"Legend\"},{\"attributes\":{\"coordinates\":null,\"data_source\":{\"id\":\"46966\"},\"glyph\":{\"id\":\"46969\"},\"group\":null,\"hover_glyph\":null,\"muted_glyph\":{\"id\":\"46971\"},\"nonselection_glyph\":{\"id\":\"46970\"},\"selection_glyph\":{\"id\":\"47003\"},\"view\":{\"id\":\"46973\"}},\"id\":\"46972\",\"type\":\"GlyphRenderer\"},{\"attributes\":{\"line_alpha\":0.2,\"line_color\":\"#30a2da\",\"line_width\":2,\"x\":{\"field\":\"date\"},\"y\":{\"field\":\"value\"}},\"id\":\"46868\",\"type\":\"Line\"},{\"attributes\":{\"below\":[{\"id\":\"46836\"}],\"center\":[{\"id\":\"46839\"},{\"id\":\"46843\"}],\"frame_width\":325,\"height\":300,\"left\":[{\"id\":\"46840\"}],\"margin\":null,\"min_border_bottom\":10,\"min_border_left\":10,\"min_border_right\":10,\"min_border_top\":10,\"renderers\":[{\"id\":\"46869\"},{\"id\":\"46902\"},{\"id\":\"46936\"},{\"id\":\"46972\"}],\"right\":[{\"id\":\"46893\"}],\"sizing_mode\":\"fixed\",\"title\":{\"id\":\"46828\"},\"toolbar\":{\"id\":\"46850\"},\"toolbar_location\":null,\"width\":null,\"x_range\":{\"id\":\"46821\"},\"x_scale\":{\"id\":\"46832\"},\"y_range\":{\"id\":\"46822\"},\"y_scale\":{\"id\":\"46834\"}},\"id\":\"46827\",\"subtype\":\"Figure\",\"type\":\"Plot\"},{\"attributes\":{\"children\":[{\"id\":\"47176\"}],\"margin\":[0,0,0,0],\"name\":\"Row38956\",\"tags\":[\"embedded\"]},\"id\":\"46820\",\"type\":\"Row\"},{\"attributes\":{\"callback\":null,\"formatters\":{\"@{date}\":\"datetime\"},\"renderers\":[{\"id\":\"46869\"},{\"id\":\"46902\"},{\"id\":\"46936\"},{\"id\":\"46972\"}],\"tags\":[\"hv_created\"],\"tooltips\":[[\"Variable\",\"@{Variable}\"],[\"date\",\"@{date}{%F %T}\"],[\"value\",\"@{value}\"]]},\"id\":\"46823\",\"type\":\"HoverTool\"},{\"attributes\":{},\"id\":\"47017\",\"type\":\"LinearScale\"},{\"attributes\":{},\"id\":\"46878\",\"type\":\"UnionRenderers\"},{\"attributes\":{\"end\":20566.194,\"reset_end\":20566.194,\"reset_start\":-1370.574,\"start\":-1370.574,\"tags\":[[[\"value\",\"value\",null]]]},\"id\":\"47009\",\"type\":\"Range1d\"},{\"attributes\":{\"below\":[{\"id\":\"47021\"}],\"center\":[{\"id\":\"47024\"},{\"id\":\"47028\"}],\"frame_width\":325,\"height\":300,\"left\":[{\"id\":\"47025\"}],\"margin\":null,\"min_border_bottom\":10,\"min_border_left\":10,\"min_border_right\":10,\"min_border_top\":10,\"renderers\":[{\"id\":\"47054\"},{\"id\":\"47087\"}],\"right\":[{\"id\":\"47078\"}],\"sizing_mode\":\"fixed\",\"title\":{\"id\":\"47013\"},\"toolbar\":{\"id\":\"47035\"},\"toolbar_location\":null,\"width\":null,\"x_range\":{\"id\":\"47008\"},\"x_scale\":{\"id\":\"47017\"},\"y_range\":{\"id\":\"47009\"},\"y_scale\":{\"id\":\"47019\"}},\"id\":\"47012\",\"subtype\":\"Figure\",\"type\":\"Plot\"},{\"attributes\":{\"callback\":null,\"formatters\":{\"@{date}\":\"datetime\"},\"renderers\":[{\"id\":\"47054\"},{\"id\":\"47087\"}],\"tags\":[\"hv_created\"],\"tooltips\":[[\"Variable\",\"@{Variable}\"],[\"date\",\"@{date}{%F %T}\"],[\"value\",\"@{value}\"]]},\"id\":\"47010\",\"type\":\"HoverTool\"},{\"attributes\":{\"axis_label\":\"date\",\"coordinates\":null,\"formatter\":{\"id\":\"47043\"},\"group\":null,\"major_label_policy\":{\"id\":\"47044\"},\"ticker\":{\"id\":\"47022\"}},\"id\":\"47021\",\"type\":\"DatetimeAxis\"},{\"attributes\":{\"children\":[[{\"id\":\"46827\"},0,0],[{\"id\":\"47012\"},0,1]]},\"id\":\"47173\",\"type\":\"GridBox\"},{\"attributes\":{},\"id\":\"47019\",\"type\":\"LinearScale\"}],\"root_ids\":[\"46820\"]},\"title\":\"Bokeh Application\",\"version\":\"2.4.3\"}};\n",
       "    var render_items = [{\"docid\":\"842d7a1a-f531-432b-b0ea-5b66aa98ddb7\",\"root_ids\":[\"46820\"],\"roots\":{\"46820\":\"01b6416c-32eb-4c3b-9d7e-057dd9973cd5\"}}];\n",
       "    root.Bokeh.embed.embed_items_notebook(docs_json, render_items);\n",
       "    for (const render_item of render_items) {\n",
       "      for (const root_id of render_item.root_ids) {\n",
       "\tconst id_el = document.getElementById(root_id)\n",
       "\tif (id_el.children.length && (id_el.children[0].className === 'bk-root')) {\n",
       "\t  const root_el = id_el.children[0]\n",
       "\t  root_el.id = root_el.id + '-rendered'\n",
       "\t}\n",
       "      }\n",
       "    }\n",
       "  }\n",
       "  if (root.Bokeh !== undefined && root.Bokeh.Panel !== undefined) {\n",
       "    embed_document(root);\n",
       "  } else {\n",
       "    var attempts = 0;\n",
       "    var timer = setInterval(function(root) {\n",
       "      if (root.Bokeh !== undefined && root.Bokeh.Panel !== undefined) {\n",
       "        clearInterval(timer);\n",
       "        embed_document(root);\n",
       "      } else if (document.readyState == \"complete\") {\n",
       "        attempts++;\n",
       "        if (attempts > 200) {\n",
       "          clearInterval(timer);\n",
       "          console.log(\"Bokeh: ERROR: Unable to run BokehJS code because BokehJS library is missing\");\n",
       "        }\n",
       "      }\n",
       "    }, 25, root)\n",
       "  }\n",
       "})(window);</script>"
      ],
      "text/plain": [
       ":Layout\n",
       "   .NdOverlay.I  :NdOverlay   [Variable]\n",
       "      :Curve   [date]   (value)\n",
       "   .NdOverlay.II :NdOverlay   [Variable]\n",
       "      :Curve   [date]   (value)"
      ]
     },
     "execution_count": 605,
     "metadata": {
      "application/vnd.holoviews_exec.v0+json": {
       "id": "46820"
      }
     },
     "output_type": "execute_result"
    }
   ],
   "source": [
    "instrs = pd.DataFrame()\n",
    "for key in shifted_dfs:\n",
    "    cycle = shifted_dfs[key].iloc[-45:,:]\n",
    "    cycle_signals = ML_pred_c(cycle, signals_dfs[key]['signal']).set_index(0)\n",
    "    cycle_signals.columns = [key]\n",
    "    instrs = pd.concat([instrs, cycle_signals],axis=1)\n",
    "\n",
    "# create workable instructions\n",
    "instr_df = derive_instr(instrs)\n",
    "\n",
    "# show result\n",
    "trade_action(instr_df)"
   ]
  },
  {
   "cell_type": "markdown",
   "id": "d5912704-4344-4851-a635-e6ff849c55da",
   "metadata": {},
   "source": [
    "### 6.3 rolling run 500 times"
   ]
  },
  {
   "cell_type": "code",
   "execution_count": 606,
   "id": "3553a151-f8ab-4bc8-a26b-f521707358a0",
   "metadata": {},
   "outputs": [],
   "source": [
    "def one_run_c(str_loc):\n",
    "    instrs = pd.DataFrame()\n",
    "    for key in shifted_dfs:\n",
    "        cycle = shifted_dfs[key].iloc[str_loc:,:]\n",
    "        cycle_signals = ML_pred_c(cycle, signals_dfs[key]['signal']).set_index(0)\n",
    "        cycle_signals.columns = [key]\n",
    "        instrs = pd.concat([instrs, cycle_signals],axis=1)\n",
    "        \n",
    "    instr_df = derive_instr(instrs)\n",
    "    return trade_action(instr_df, verbose=0)\n",
    "\n",
    "final_worths = []\n",
    "for n in range(500):\n",
    "    final_worths.append( one_run_c(-45-n) )\n"
   ]
  },
  {
   "cell_type": "code",
   "execution_count": 607,
   "id": "e8f09367-e035-4815-a694-9c7518e4e283",
   "metadata": {},
   "outputs": [
    {
     "data": {},
     "metadata": {},
     "output_type": "display_data"
    },
    {
     "data": {
      "application/vnd.holoviews_exec.v0+json": "",
      "text/html": [
       "<div id='47491'>\n",
       "  <div class=\"bk-root\" id=\"c21cc2d2-1720-4e5f-bf83-031d686472a4\" data-root-id=\"47491\"></div>\n",
       "</div>\n",
       "<script type=\"application/javascript\">(function(root) {\n",
       "  function embed_document(root) {\n",
       "    var docs_json = {\"a3cff728-655b-458a-9b8e-da79535e6543\":{\"defs\":[{\"extends\":null,\"module\":null,\"name\":\"ReactiveHTML1\",\"overrides\":[],\"properties\":[]},{\"extends\":null,\"module\":null,\"name\":\"FlexBox1\",\"overrides\":[],\"properties\":[{\"default\":\"flex-start\",\"kind\":null,\"name\":\"align_content\"},{\"default\":\"flex-start\",\"kind\":null,\"name\":\"align_items\"},{\"default\":\"row\",\"kind\":null,\"name\":\"flex_direction\"},{\"default\":\"wrap\",\"kind\":null,\"name\":\"flex_wrap\"},{\"default\":\"flex-start\",\"kind\":null,\"name\":\"justify_content\"}]},{\"extends\":null,\"module\":null,\"name\":\"GridStack1\",\"overrides\":[],\"properties\":[{\"default\":\"warn\",\"kind\":null,\"name\":\"mode\"},{\"default\":null,\"kind\":null,\"name\":\"ncols\"},{\"default\":null,\"kind\":null,\"name\":\"nrows\"},{\"default\":true,\"kind\":null,\"name\":\"allow_resize\"},{\"default\":true,\"kind\":null,\"name\":\"allow_drag\"},{\"default\":[],\"kind\":null,\"name\":\"state\"}]},{\"extends\":null,\"module\":null,\"name\":\"click1\",\"overrides\":[],\"properties\":[{\"default\":\"\",\"kind\":null,\"name\":\"terminal_output\"},{\"default\":\"\",\"kind\":null,\"name\":\"debug_name\"},{\"default\":0,\"kind\":null,\"name\":\"clears\"}]},{\"extends\":null,\"module\":null,\"name\":\"NotificationAreaBase1\",\"overrides\":[],\"properties\":[{\"default\":\"bottom-right\",\"kind\":null,\"name\":\"position\"},{\"default\":0,\"kind\":null,\"name\":\"_clear\"}]},{\"extends\":null,\"module\":null,\"name\":\"NotificationArea1\",\"overrides\":[],\"properties\":[{\"default\":[],\"kind\":null,\"name\":\"notifications\"},{\"default\":\"bottom-right\",\"kind\":null,\"name\":\"position\"},{\"default\":0,\"kind\":null,\"name\":\"_clear\"},{\"default\":[{\"background\":\"#ffc107\",\"icon\":{\"className\":\"fas fa-exclamation-triangle\",\"color\":\"white\",\"tagName\":\"i\"},\"type\":\"warning\"},{\"background\":\"#007bff\",\"icon\":{\"className\":\"fas fa-info-circle\",\"color\":\"white\",\"tagName\":\"i\"},\"type\":\"info\"}],\"kind\":null,\"name\":\"types\"}]},{\"extends\":null,\"module\":null,\"name\":\"Notification\",\"overrides\":[],\"properties\":[{\"default\":null,\"kind\":null,\"name\":\"background\"},{\"default\":3000,\"kind\":null,\"name\":\"duration\"},{\"default\":null,\"kind\":null,\"name\":\"icon\"},{\"default\":\"\",\"kind\":null,\"name\":\"message\"},{\"default\":null,\"kind\":null,\"name\":\"notification_type\"},{\"default\":false,\"kind\":null,\"name\":\"_destroyed\"}]},{\"extends\":null,\"module\":null,\"name\":\"TemplateActions1\",\"overrides\":[],\"properties\":[{\"default\":0,\"kind\":null,\"name\":\"open_modal\"},{\"default\":0,\"kind\":null,\"name\":\"close_modal\"}]},{\"extends\":null,\"module\":null,\"name\":\"MaterialTemplateActions1\",\"overrides\":[],\"properties\":[{\"default\":0,\"kind\":null,\"name\":\"open_modal\"},{\"default\":0,\"kind\":null,\"name\":\"close_modal\"}]}],\"roots\":{\"references\":[{\"attributes\":{\"data\":{\"final_worth\":{\"__ndarray__\":\"BoGVQwOgvUBqvHSTzADAQFK4HoWXMcFAOrTIdmJiwkAgsHJoLZPDQAisHFr4w8RA8KfGS8P0xUDWo3A9jiXHQL6fGi9ZVshAppvEICSHyUCNl24S77fKQHSTGAS66MtAXI/C9YQZzUBDi2znT0rOQCqHFtkae89AiUFg5fJV0EB8PzVeWO7QQHA9Cte9htFAZDvfTyMf0kBYObTIiLfSQA==\",\"dtype\":\"float64\",\"order\":\"little\",\"shape\":[20]},\"final_worth_count\":[25,79,36,72,118,7,67,21,9,1,2,0,1,17,4,2,22,0,0,17],\"left\":{\"__ndarray__\":\"H4XrUThvvEDufD81ztC+QF66SQwymcBARrbz/fzJwUAtsp3vx/rCQBSuR+GSK8RA/Knx0l1cxUDjpZvEKI3GQMqhRbbzvcdAsp3vp77uyECamZmZiR/KQICVQ4tUUMtAaJHtfB+BzEBQjZdu6rHNQDaJQWC14s5Aj8L1KMAJ0ECDwMqhJaLQQHa+nxqLOtFAarx0k/DS0UBeukkMVmvSQA==\",\"dtype\":\"float64\",\"order\":\"little\",\"shape\":[20]},\"right\":{\"__ndarray__\":\"7nw/Nc7QvkBeukkMMpnAQEa28/38ycFALbKd78f6wkAUrkfhkivEQPyp8dJdXMVA46WbxCiNxkDKoUW2873HQLKd76e+7shAmpmZmYkfykCAlUOLVFDLQGiR7XwfgcxAUI2XbuqxzUA2iUFgteLOQI/C9SjACdBAg8DKoSWi0EB2vp8aizrRQGq8dJPw0tFAXrpJDFZr0kBSuB6FuwPTQA==\",\"dtype\":\"float64\",\"order\":\"little\",\"shape\":[20]},\"top\":[25,79,36,72,118,7,67,21,9,1,2,0,1,17,4,2,22,0,0,17]},\"selected\":{\"id\":\"47526\"},\"selection_policy\":{\"id\":\"47553\"}},\"id\":\"47525\",\"type\":\"ColumnDataSource\"},{\"attributes\":{\"source\":{\"id\":\"47525\"}},\"id\":\"47532\",\"type\":\"CDSView\"},{\"attributes\":{},\"id\":\"47542\",\"type\":\"AllLabels\"},{\"attributes\":{},\"id\":\"47512\",\"type\":\"SaveTool\"},{\"attributes\":{},\"id\":\"47502\",\"type\":\"LinearScale\"},{\"attributes\":{},\"id\":\"47537\",\"type\":\"AllLabels\"},{\"attributes\":{\"axis_label\":\"\",\"coordinates\":null,\"formatter\":{\"id\":\"47541\"},\"group\":null,\"major_label_policy\":{\"id\":\"47542\"},\"ticker\":{\"id\":\"47509\"}},\"id\":\"47508\",\"type\":\"LinearAxis\"},{\"attributes\":{},\"id\":\"47526\",\"type\":\"Selection\"},{\"attributes\":{},\"id\":\"47509\",\"type\":\"BasicTicker\"},{\"attributes\":{\"overlay\":{\"id\":\"47517\"}},\"id\":\"47515\",\"type\":\"BoxZoomTool\"},{\"attributes\":{},\"id\":\"47513\",\"type\":\"PanTool\"},{\"attributes\":{\"format\":\"%.0f\"},\"id\":\"47534\",\"type\":\"PrintfTickFormatter\"},{\"attributes\":{\"axis\":{\"id\":\"47504\"},\"coordinates\":null,\"grid_line_color\":null,\"group\":null,\"ticker\":null},\"id\":\"47507\",\"type\":\"Grid\"},{\"attributes\":{},\"id\":\"47541\",\"type\":\"BasicTickFormatter\"},{\"attributes\":{\"below\":[{\"id\":\"47504\"}],\"center\":[{\"id\":\"47507\"},{\"id\":\"47511\"}],\"height\":300,\"left\":[{\"id\":\"47508\"}],\"margin\":[5,5,5,5],\"min_border_bottom\":10,\"min_border_left\":10,\"min_border_right\":10,\"min_border_top\":10,\"renderers\":[{\"id\":\"47531\"}],\"sizing_mode\":\"fixed\",\"title\":{\"id\":\"47496\"},\"toolbar\":{\"id\":\"47518\"},\"width\":700,\"x_range\":{\"id\":\"47492\"},\"x_scale\":{\"id\":\"47500\"},\"y_range\":{\"id\":\"47493\"},\"y_scale\":{\"id\":\"47502\"}},\"id\":\"47495\",\"subtype\":\"Figure\",\"type\":\"Plot\"},{\"attributes\":{},\"id\":\"47516\",\"type\":\"ResetTool\"},{\"attributes\":{\"callback\":null,\"renderers\":[{\"id\":\"47531\"}],\"tooltips\":[[\"final_worth\",\"@final_worth{0.0f}\"]]},\"id\":\"47494\",\"type\":\"HoverTool\"},{\"attributes\":{\"axis_label\":\"final_worth\",\"coordinates\":null,\"formatter\":{\"id\":\"47534\"},\"group\":null,\"major_label_policy\":{\"id\":\"47537\"},\"ticker\":{\"id\":\"47505\"}},\"id\":\"47504\",\"type\":\"LinearAxis\"},{\"attributes\":{},\"id\":\"47553\",\"type\":\"UnionRenderers\"},{\"attributes\":{\"coordinates\":null,\"group\":null,\"text_color\":\"black\",\"text_font_size\":\"12pt\"},\"id\":\"47496\",\"type\":\"Title\"},{\"attributes\":{\"bottom_units\":\"screen\",\"coordinates\":null,\"fill_alpha\":0.5,\"fill_color\":\"lightgrey\",\"group\":null,\"left_units\":\"screen\",\"level\":\"overlay\",\"line_alpha\":1.0,\"line_color\":\"black\",\"line_dash\":[4,4],\"line_width\":2,\"right_units\":\"screen\",\"syncable\":false,\"top_units\":\"screen\"},\"id\":\"47517\",\"type\":\"BoxAnnotation\"},{\"attributes\":{\"bottom\":{\"value\":0},\"fill_alpha\":{\"value\":0.1},\"fill_color\":{\"value\":\"#30a2da\"},\"hatch_alpha\":{\"value\":0.1},\"hatch_color\":{\"value\":\"#30a2da\"},\"left\":{\"field\":\"left\"},\"line_alpha\":{\"value\":0.1},\"right\":{\"field\":\"right\"},\"top\":{\"field\":\"top\"}},\"id\":\"47529\",\"type\":\"Quad\"},{\"attributes\":{\"active_drag\":{\"id\":\"47513\"},\"active_scroll\":{\"id\":\"47514\"},\"tools\":[{\"id\":\"47494\"},{\"id\":\"47512\"},{\"id\":\"47513\"},{\"id\":\"47514\"},{\"id\":\"47515\"},{\"id\":\"47516\"}]},\"id\":\"47518\",\"type\":\"Toolbar\"},{\"attributes\":{\"end\":19993.431857142856,\"reset_end\":19993.431857142856,\"reset_start\":6756.718142857143,\"start\":6756.718142857143,\"tags\":[[[\"final_worth\",\"final_worth\",null]]]},\"id\":\"47492\",\"type\":\"Range1d\"},{\"attributes\":{\"end\":129.8,\"reset_end\":129.8,\"reset_start\":0.0,\"tags\":[[[\"final_worth_count\",\"Count\",null]]]},\"id\":\"47493\",\"type\":\"Range1d\"},{\"attributes\":{},\"id\":\"47505\",\"type\":\"BasicTicker\"},{\"attributes\":{},\"id\":\"47500\",\"type\":\"LinearScale\"},{\"attributes\":{},\"id\":\"47514\",\"type\":\"WheelZoomTool\"},{\"attributes\":{\"children\":[{\"id\":\"47495\"}],\"height\":300,\"margin\":[0,0,0,0],\"name\":\"Row39183\",\"sizing_mode\":\"fixed\",\"tags\":[\"embedded\"],\"width\":700},\"id\":\"47491\",\"type\":\"Row\"},{\"attributes\":{\"axis\":{\"id\":\"47508\"},\"coordinates\":null,\"dimension\":1,\"grid_line_color\":null,\"group\":null,\"ticker\":null},\"id\":\"47511\",\"type\":\"Grid\"},{\"attributes\":{\"bottom\":{\"value\":0},\"fill_alpha\":{\"value\":0.2},\"fill_color\":{\"value\":\"#30a2da\"},\"hatch_alpha\":{\"value\":0.2},\"hatch_color\":{\"value\":\"#30a2da\"},\"left\":{\"field\":\"left\"},\"line_alpha\":{\"value\":0.2},\"right\":{\"field\":\"right\"},\"top\":{\"field\":\"top\"}},\"id\":\"47530\",\"type\":\"Quad\"},{\"attributes\":{\"bottom\":{\"value\":0},\"fill_alpha\":{\"value\":1.0},\"fill_color\":{\"value\":\"#30a2da\"},\"hatch_alpha\":{\"value\":1.0},\"hatch_color\":{\"value\":\"#30a2da\"},\"hatch_scale\":{\"value\":12.0},\"hatch_weight\":{\"value\":1.0},\"left\":{\"field\":\"left\"},\"line_alpha\":{\"value\":1.0},\"line_cap\":{\"value\":\"butt\"},\"line_color\":{\"value\":\"black\"},\"line_dash\":{\"value\":[]},\"line_dash_offset\":{\"value\":0},\"line_join\":{\"value\":\"bevel\"},\"line_width\":{\"value\":1},\"right\":{\"field\":\"right\"},\"top\":{\"field\":\"top\"}},\"id\":\"47533\",\"type\":\"Quad\"},{\"attributes\":{\"coordinates\":null,\"data_source\":{\"id\":\"47525\"},\"glyph\":{\"id\":\"47528\"},\"group\":null,\"hover_glyph\":null,\"muted_glyph\":{\"id\":\"47530\"},\"nonselection_glyph\":{\"id\":\"47529\"},\"selection_glyph\":{\"id\":\"47533\"},\"view\":{\"id\":\"47532\"}},\"id\":\"47531\",\"type\":\"GlyphRenderer\"},{\"attributes\":{\"bottom\":{\"value\":0},\"fill_color\":{\"value\":\"#30a2da\"},\"hatch_color\":{\"value\":\"#30a2da\"},\"left\":{\"field\":\"left\"},\"right\":{\"field\":\"right\"},\"top\":{\"field\":\"top\"}},\"id\":\"47528\",\"type\":\"Quad\"}],\"root_ids\":[\"47491\"]},\"title\":\"Bokeh Application\",\"version\":\"2.4.3\"}};\n",
       "    var render_items = [{\"docid\":\"a3cff728-655b-458a-9b8e-da79535e6543\",\"root_ids\":[\"47491\"],\"roots\":{\"47491\":\"c21cc2d2-1720-4e5f-bf83-031d686472a4\"}}];\n",
       "    root.Bokeh.embed.embed_items_notebook(docs_json, render_items);\n",
       "    for (const render_item of render_items) {\n",
       "      for (const root_id of render_item.root_ids) {\n",
       "\tconst id_el = document.getElementById(root_id)\n",
       "\tif (id_el.children.length && (id_el.children[0].className === 'bk-root')) {\n",
       "\t  const root_el = id_el.children[0]\n",
       "\t  root_el.id = root_el.id + '-rendered'\n",
       "\t}\n",
       "      }\n",
       "    }\n",
       "  }\n",
       "  if (root.Bokeh !== undefined && root.Bokeh.Panel !== undefined) {\n",
       "    embed_document(root);\n",
       "  } else {\n",
       "    var attempts = 0;\n",
       "    var timer = setInterval(function(root) {\n",
       "      if (root.Bokeh !== undefined && root.Bokeh.Panel !== undefined) {\n",
       "        clearInterval(timer);\n",
       "        embed_document(root);\n",
       "      } else if (document.readyState == \"complete\") {\n",
       "        attempts++;\n",
       "        if (attempts > 200) {\n",
       "          clearInterval(timer);\n",
       "          console.log(\"Bokeh: ERROR: Unable to run BokehJS code because BokehJS library is missing\");\n",
       "        }\n",
       "      }\n",
       "    }, 25, root)\n",
       "  }\n",
       "})(window);</script>"
      ],
      "text/plain": [
       ":Histogram   [final_worth]   (final_worth_count)"
      ]
     },
     "execution_count": 607,
     "metadata": {
      "application/vnd.holoviews_exec.v0+json": {
       "id": "47491"
      }
     },
     "output_type": "execute_result"
    }
   ],
   "source": [
    "# plot distribution\n",
    "from bokeh.models import HoverTool\n",
    "hover = HoverTool(tooltips=[('final_worth','@final_worth{0.0f}')])\n",
    "pd.DataFrame(final_worths, columns=['final_worth']).hvplot(kind='hist', xformatter=\"%.0f\", tools=[hover])"
   ]
  },
  {
   "cell_type": "markdown",
   "id": "572f77f9-bc91-4ad7-b171-abb23310b426",
   "metadata": {},
   "source": [
    "## 7. random trade action"
   ]
  },
  {
   "cell_type": "markdown",
   "id": "f3a6a2f8-2dcc-4e3d-a0fb-46a1b5ea9d01",
   "metadata": {},
   "source": [
    "### 7.1 randomly generate trade actions"
   ]
  },
  {
   "cell_type": "code",
   "execution_count": 608,
   "id": "0c1b34f5-083b-4046-98c7-bdd9e958b64d",
   "metadata": {},
   "outputs": [
    {
     "data": {
      "text/html": [
       "<div>\n",
       "<style scoped>\n",
       "    .dataframe tbody tr th:only-of-type {\n",
       "        vertical-align: middle;\n",
       "    }\n",
       "\n",
       "    .dataframe tbody tr th {\n",
       "        vertical-align: top;\n",
       "    }\n",
       "\n",
       "    .dataframe thead th {\n",
       "        text-align: right;\n",
       "    }\n",
       "</style>\n",
       "<table border=\"1\" class=\"dataframe\">\n",
       "  <thead>\n",
       "    <tr style=\"text-align: right;\">\n",
       "      <th></th>\n",
       "      <th>0</th>\n",
       "      <th>1</th>\n",
       "      <th>2</th>\n",
       "    </tr>\n",
       "  </thead>\n",
       "  <tbody>\n",
       "    <tr>\n",
       "      <th>0</th>\n",
       "      <td>2023-08-14</td>\n",
       "      <td>GOOG</td>\n",
       "      <td>-1</td>\n",
       "    </tr>\n",
       "    <tr>\n",
       "      <th>0</th>\n",
       "      <td>2023-08-15</td>\n",
       "      <td>AAPL</td>\n",
       "      <td>1</td>\n",
       "    </tr>\n",
       "    <tr>\n",
       "      <th>0</th>\n",
       "      <td>2023-08-16</td>\n",
       "      <td>AMZN</td>\n",
       "      <td>1</td>\n",
       "    </tr>\n",
       "    <tr>\n",
       "      <th>0</th>\n",
       "      <td>2023-08-17</td>\n",
       "      <td>MSFT</td>\n",
       "      <td>-1</td>\n",
       "    </tr>\n",
       "    <tr>\n",
       "      <th>0</th>\n",
       "      <td>2023-08-18</td>\n",
       "      <td>MSFT</td>\n",
       "      <td>-1</td>\n",
       "    </tr>\n",
       "    <tr>\n",
       "      <th>0</th>\n",
       "      <td>2023-08-21</td>\n",
       "      <td>AAPL</td>\n",
       "      <td>-1</td>\n",
       "    </tr>\n",
       "    <tr>\n",
       "      <th>0</th>\n",
       "      <td>2023-08-22</td>\n",
       "      <td>AAPL</td>\n",
       "      <td>-1</td>\n",
       "    </tr>\n",
       "    <tr>\n",
       "      <th>0</th>\n",
       "      <td>2023-08-23</td>\n",
       "      <td>GOOG</td>\n",
       "      <td>1</td>\n",
       "    </tr>\n",
       "    <tr>\n",
       "      <th>0</th>\n",
       "      <td>2023-08-24</td>\n",
       "      <td>GOOG</td>\n",
       "      <td>1</td>\n",
       "    </tr>\n",
       "    <tr>\n",
       "      <th>0</th>\n",
       "      <td>2023-08-25</td>\n",
       "      <td>AMZN</td>\n",
       "      <td>-1</td>\n",
       "    </tr>\n",
       "    <tr>\n",
       "      <th>0</th>\n",
       "      <td>2023-08-28</td>\n",
       "      <td>MSFT</td>\n",
       "      <td>-1</td>\n",
       "    </tr>\n",
       "    <tr>\n",
       "      <th>0</th>\n",
       "      <td>2023-08-29</td>\n",
       "      <td>MSFT</td>\n",
       "      <td>-1</td>\n",
       "    </tr>\n",
       "    <tr>\n",
       "      <th>0</th>\n",
       "      <td>2023-08-30</td>\n",
       "      <td>AMZN</td>\n",
       "      <td>-1</td>\n",
       "    </tr>\n",
       "    <tr>\n",
       "      <th>0</th>\n",
       "      <td>2023-08-31</td>\n",
       "      <td>AAPL</td>\n",
       "      <td>-1</td>\n",
       "    </tr>\n",
       "    <tr>\n",
       "      <th>0</th>\n",
       "      <td>2023-09-01</td>\n",
       "      <td>GOOG</td>\n",
       "      <td>1</td>\n",
       "    </tr>\n",
       "  </tbody>\n",
       "</table>\n",
       "</div>"
      ],
      "text/plain": [
       "            0     1  2\n",
       "0  2023-08-14  GOOG -1\n",
       "0  2023-08-15  AAPL  1\n",
       "0  2023-08-16  AMZN  1\n",
       "0  2023-08-17  MSFT -1\n",
       "0  2023-08-18  MSFT -1\n",
       "0  2023-08-21  AAPL -1\n",
       "0  2023-08-22  AAPL -1\n",
       "0  2023-08-23  GOOG  1\n",
       "0  2023-08-24  GOOG  1\n",
       "0  2023-08-25  AMZN -1\n",
       "0  2023-08-28  MSFT -1\n",
       "0  2023-08-29  MSFT -1\n",
       "0  2023-08-30  AMZN -1\n",
       "0  2023-08-31  AAPL -1\n",
       "0  2023-09-01  GOOG  1"
      ]
     },
     "execution_count": 608,
     "metadata": {},
     "output_type": "execute_result"
    }
   ],
   "source": [
    "instrs = np.random.randn(50, 1)\n",
    "\n",
    "def sample_df():\n",
    "    instri = 0\n",
    "\n",
    "    # using alpaca data for the dates to avoid non-trading days\n",
    "    df_market = dfs[tickers[0]].iloc[-15:,:]\n",
    "    \n",
    "    df = pd.DataFrame()\n",
    "    for index, data in df_market.iterrows():\n",
    "        if instrs[instri] > 0:\n",
    "            instr = 1\n",
    "        else:\n",
    "            instr = -1\n",
    "        instri += 1\n",
    "        one_row = pd.DataFrame([[index.date(), tickers[np.random.randint(4)], instr]])\n",
    "        df = pd.concat([df,one_row], join='outer')\n",
    "    return df\n",
    "\n",
    "random_actions = sample_df()\n",
    "random_actions"
   ]
  },
  {
   "cell_type": "markdown",
   "id": "0c524978-4747-4b76-a70d-52eb9eb6a7b8",
   "metadata": {},
   "source": [
    "### 7.2 show result"
   ]
  },
  {
   "cell_type": "code",
   "execution_count": 609,
   "id": "85855589-f096-4c3d-9d95-95ba481ced47",
   "metadata": {},
   "outputs": [
    {
     "name": "stdout",
     "output_type": "stream",
     "text": [
      "On 2023-08-14 trade GOOG\n",
      "{'action': 'none', 'price': 130.8, 'bal': 10000.0, 'share': 0, 'status': -1, 'msg': 'no share to sell'}\n",
      "On 2023-08-15 trade AAPL\n",
      "{'action': 'buy', 'price': 178.21, 'bal': 7505.06, 'share': 14, 'status': 0, 'msg': 'success'}\n",
      "On 2023-08-16 trade AMZN\n",
      "{'action': 'buy', 'price': 136.14, 'bal': 5054.54, 'share': 18, 'status': 0, 'msg': 'success'}\n",
      "On 2023-08-17 trade MSFT\n",
      "{'action': 'none', 'price': 318.88, 'bal': 5054.54, 'share': 0, 'status': -1, 'msg': 'no share to sell'}\n",
      "On 2023-08-18 trade MSFT\n",
      "{'action': 'none', 'price': 315.23, 'bal': 5054.54, 'share': 0, 'status': -1, 'msg': 'no share to sell'}\n",
      "On 2023-08-21 trade AAPL\n",
      "{'action': 'sell', 'price': 175.19, 'bal': 7507.2, 'share': 14, 'status': 0, 'msg': 'success'}\n",
      "On 2023-08-22 trade AAPL\n",
      "{'action': 'none', 'price': 177.06, 'bal': 7507.2, 'share': 0, 'status': -1, 'msg': 'no share to sell'}\n",
      "On 2023-08-23 trade GOOG\n",
      "{'action': 'buy', 'price': 132.16, 'bal': 5128.32, 'share': 18, 'status': 0, 'msg': 'success'}\n",
      "On 2023-08-24 trade GOOG\n",
      "{'action': 'buy', 'price': 132.6, 'bal': 2741.52, 'share': 18, 'status': 0, 'msg': 'success'}\n",
      "On 2023-08-25 trade AMZN\n",
      "{'action': 'sell', 'price': 132.55, 'bal': 5127.42, 'share': 18, 'status': 0, 'msg': 'success'}\n",
      "On 2023-08-28 trade MSFT\n",
      "{'action': 'none', 'price': 324.31, 'bal': 5127.42, 'share': 0, 'status': -1, 'msg': 'no share to sell'}\n",
      "On 2023-08-29 trade MSFT\n",
      "{'action': 'none', 'price': 325.29, 'bal': 5127.42, 'share': 0, 'status': -1, 'msg': 'no share to sell'}\n",
      "On 2023-08-30 trade AMZN\n",
      "{'action': 'none', 'price': 134.84, 'bal': 5127.42, 'share': 0, 'status': -1, 'msg': 'no share to sell'}\n",
      "On 2023-08-31 trade AAPL\n",
      "{'action': 'none', 'price': 188.08, 'bal': 5127.42, 'share': 0, 'status': -1, 'msg': 'no share to sell'}\n",
      "On 2023-09-01 trade GOOG\n",
      "{'action': 'buy', 'price': 137.38, 'bal': 2654.58, 'share': 18, 'status': 0, 'msg': 'success'}\n",
      "networth: Cash: 2654.58, \n",
      "                  shares: {'AAPL': 0, 'AMZN': 0, 'GOOG': 54}, \n",
      "                  total: 10073.1\n"
     ]
    },
    {
     "data": {},
     "metadata": {},
     "output_type": "display_data"
    },
    {
     "data": {
      "application/vnd.holoviews_exec.v0+json": "",
      "text/html": [
       "<div id='47602'>\n",
       "  <div class=\"bk-root\" id=\"aec0199f-80f1-45e8-a9fc-c5dcaced473e\" data-root-id=\"47602\"></div>\n",
       "</div>\n",
       "<script type=\"application/javascript\">(function(root) {\n",
       "  function embed_document(root) {\n",
       "    var docs_json = {\"d4b1f33f-7dcc-427e-b474-f6c8d18f0e94\":{\"defs\":[{\"extends\":null,\"module\":null,\"name\":\"ReactiveHTML1\",\"overrides\":[],\"properties\":[]},{\"extends\":null,\"module\":null,\"name\":\"FlexBox1\",\"overrides\":[],\"properties\":[{\"default\":\"flex-start\",\"kind\":null,\"name\":\"align_content\"},{\"default\":\"flex-start\",\"kind\":null,\"name\":\"align_items\"},{\"default\":\"row\",\"kind\":null,\"name\":\"flex_direction\"},{\"default\":\"wrap\",\"kind\":null,\"name\":\"flex_wrap\"},{\"default\":\"flex-start\",\"kind\":null,\"name\":\"justify_content\"}]},{\"extends\":null,\"module\":null,\"name\":\"GridStack1\",\"overrides\":[],\"properties\":[{\"default\":\"warn\",\"kind\":null,\"name\":\"mode\"},{\"default\":null,\"kind\":null,\"name\":\"ncols\"},{\"default\":null,\"kind\":null,\"name\":\"nrows\"},{\"default\":true,\"kind\":null,\"name\":\"allow_resize\"},{\"default\":true,\"kind\":null,\"name\":\"allow_drag\"},{\"default\":[],\"kind\":null,\"name\":\"state\"}]},{\"extends\":null,\"module\":null,\"name\":\"click1\",\"overrides\":[],\"properties\":[{\"default\":\"\",\"kind\":null,\"name\":\"terminal_output\"},{\"default\":\"\",\"kind\":null,\"name\":\"debug_name\"},{\"default\":0,\"kind\":null,\"name\":\"clears\"}]},{\"extends\":null,\"module\":null,\"name\":\"NotificationAreaBase1\",\"overrides\":[],\"properties\":[{\"default\":\"bottom-right\",\"kind\":null,\"name\":\"position\"},{\"default\":0,\"kind\":null,\"name\":\"_clear\"}]},{\"extends\":null,\"module\":null,\"name\":\"NotificationArea1\",\"overrides\":[],\"properties\":[{\"default\":[],\"kind\":null,\"name\":\"notifications\"},{\"default\":\"bottom-right\",\"kind\":null,\"name\":\"position\"},{\"default\":0,\"kind\":null,\"name\":\"_clear\"},{\"default\":[{\"background\":\"#ffc107\",\"icon\":{\"className\":\"fas fa-exclamation-triangle\",\"color\":\"white\",\"tagName\":\"i\"},\"type\":\"warning\"},{\"background\":\"#007bff\",\"icon\":{\"className\":\"fas fa-info-circle\",\"color\":\"white\",\"tagName\":\"i\"},\"type\":\"info\"}],\"kind\":null,\"name\":\"types\"}]},{\"extends\":null,\"module\":null,\"name\":\"Notification\",\"overrides\":[],\"properties\":[{\"default\":null,\"kind\":null,\"name\":\"background\"},{\"default\":3000,\"kind\":null,\"name\":\"duration\"},{\"default\":null,\"kind\":null,\"name\":\"icon\"},{\"default\":\"\",\"kind\":null,\"name\":\"message\"},{\"default\":null,\"kind\":null,\"name\":\"notification_type\"},{\"default\":false,\"kind\":null,\"name\":\"_destroyed\"}]},{\"extends\":null,\"module\":null,\"name\":\"TemplateActions1\",\"overrides\":[],\"properties\":[{\"default\":0,\"kind\":null,\"name\":\"open_modal\"},{\"default\":0,\"kind\":null,\"name\":\"close_modal\"}]},{\"extends\":null,\"module\":null,\"name\":\"MaterialTemplateActions1\",\"overrides\":[],\"properties\":[{\"default\":0,\"kind\":null,\"name\":\"open_modal\"},{\"default\":0,\"kind\":null,\"name\":\"close_modal\"}]}],\"roots\":{\"references\":[{\"attributes\":{\"toolbars\":[{\"id\":\"47631\"},{\"id\":\"47778\"}],\"tools\":[{\"id\":\"47605\"},{\"id\":\"47625\"},{\"id\":\"47626\"},{\"id\":\"47627\"},{\"id\":\"47628\"},{\"id\":\"47629\"},{\"id\":\"47753\"},{\"id\":\"47772\"},{\"id\":\"47773\"},{\"id\":\"47774\"},{\"id\":\"47775\"},{\"id\":\"47776\"}]},\"id\":\"47915\",\"type\":\"ProxyToolbar\"},{\"attributes\":{\"bottom_units\":\"screen\",\"coordinates\":null,\"fill_alpha\":0.5,\"fill_color\":\"lightgrey\",\"group\":null,\"left_units\":\"screen\",\"level\":\"overlay\",\"line_alpha\":1.0,\"line_color\":\"black\",\"line_dash\":[4,4],\"line_width\":2,\"right_units\":\"screen\",\"syncable\":false,\"top_units\":\"screen\"},\"id\":\"47777\",\"type\":\"BoxAnnotation\"},{\"attributes\":{\"line_color\":\"#e5ae38\",\"line_width\":2,\"x\":{\"field\":\"date\"},\"y\":{\"field\":\"value\"}},\"id\":\"47746\",\"type\":\"Line\"},{\"attributes\":{\"line_color\":\"#30a2da\",\"line_width\":2,\"x\":{\"field\":\"date\"},\"y\":{\"field\":\"value\"}},\"id\":\"47823\",\"type\":\"Line\"},{\"attributes\":{},\"id\":\"47730\",\"type\":\"UnionRenderers\"},{\"attributes\":{\"source\":{\"id\":\"47711\"}},\"id\":\"47718\",\"type\":\"CDSView\"},{\"attributes\":{\"label\":{\"value\":\"GOOG\"},\"renderers\":[{\"id\":\"47717\"}]},\"id\":\"47745\",\"type\":\"LegendItem\"},{\"attributes\":{\"line_alpha\":0.1,\"line_color\":\"#e5ae38\",\"line_width\":2,\"x\":{\"field\":\"date\"},\"y\":{\"field\":\"value\"}},\"id\":\"47715\",\"type\":\"Line\"},{\"attributes\":{\"line_color\":\"#e5ae38\",\"line_width\":2,\"x\":{\"field\":\"date\"},\"y\":{\"field\":\"value\"}},\"id\":\"47714\",\"type\":\"Line\"},{\"attributes\":{\"line_alpha\":0.2,\"line_color\":\"#e5ae38\",\"line_width\":2,\"x\":{\"field\":\"date\"},\"y\":{\"field\":\"value\"}},\"id\":\"47716\",\"type\":\"Line\"},{\"attributes\":{\"coordinates\":null,\"data_source\":{\"id\":\"47824\"},\"glyph\":{\"id\":\"47827\"},\"group\":null,\"hover_glyph\":null,\"muted_glyph\":{\"id\":\"47829\"},\"nonselection_glyph\":{\"id\":\"47828\"},\"selection_glyph\":{\"id\":\"47857\"},\"view\":{\"id\":\"47831\"}},\"id\":\"47830\",\"type\":\"GlyphRenderer\"},{\"attributes\":{},\"id\":\"47786\",\"type\":\"DatetimeTickFormatter\"},{\"attributes\":{},\"id\":\"47694\",\"type\":\"UnionRenderers\"},{\"attributes\":{},\"id\":\"47789\",\"type\":\"BasicTickFormatter\"},{\"attributes\":{\"line_color\":\"#30a2da\",\"line_width\":2,\"x\":{\"field\":\"date\"},\"y\":{\"field\":\"value\"}},\"id\":\"47676\",\"type\":\"Line\"},{\"attributes\":{\"active_drag\":{\"id\":\"47773\"},\"active_scroll\":{\"id\":\"47774\"},\"tools\":[{\"id\":\"47753\"},{\"id\":\"47772\"},{\"id\":\"47773\"},{\"id\":\"47774\"},{\"id\":\"47775\"},{\"id\":\"47776\"}]},\"id\":\"47778\",\"type\":\"Toolbar\"},{\"attributes\":{},\"id\":\"47787\",\"type\":\"AllLabels\"},{\"attributes\":{},\"id\":\"47790\",\"type\":\"AllLabels\"},{\"attributes\":{\"coordinates\":null,\"data_source\":{\"id\":\"47677\"},\"glyph\":{\"id\":\"47680\"},\"group\":null,\"hover_glyph\":null,\"muted_glyph\":{\"id\":\"47682\"},\"nonselection_glyph\":{\"id\":\"47681\"},\"selection_glyph\":{\"id\":\"47710\"},\"view\":{\"id\":\"47684\"}},\"id\":\"47683\",\"type\":\"GlyphRenderer\"},{\"attributes\":{\"line_color\":\"#fc4f30\",\"line_width\":2,\"x\":{\"field\":\"date\"},\"y\":{\"field\":\"value\"}},\"id\":\"47710\",\"type\":\"Line\"},{\"attributes\":{\"source\":{\"id\":\"47677\"}},\"id\":\"47684\",\"type\":\"CDSView\"},{\"attributes\":{\"line_color\":\"#fc4f30\",\"line_width\":2,\"x\":{\"field\":\"date\"},\"y\":{\"field\":\"value\"}},\"id\":\"47680\",\"type\":\"Line\"},{\"attributes\":{\"line_alpha\":0.2,\"line_color\":\"#fc4f30\",\"line_width\":2,\"x\":{\"field\":\"date\"},\"y\":{\"field\":\"value\"}},\"id\":\"47682\",\"type\":\"Line\"},{\"attributes\":{\"num_minor_ticks\":5,\"tickers\":[{\"id\":\"47809\"},{\"id\":\"47810\"},{\"id\":\"47811\"},{\"id\":\"47812\"},{\"id\":\"47813\"},{\"id\":\"47814\"},{\"id\":\"47815\"},{\"id\":\"47816\"},{\"id\":\"47817\"},{\"id\":\"47818\"},{\"id\":\"47819\"},{\"id\":\"47820\"}]},\"id\":\"47765\",\"type\":\"DatetimeTicker\"},{\"attributes\":{\"axis\":{\"id\":\"47764\"},\"coordinates\":null,\"grid_line_color\":null,\"group\":null,\"ticker\":null},\"id\":\"47767\",\"type\":\"Grid\"},{\"attributes\":{\"click_policy\":\"mute\",\"coordinates\":null,\"group\":null,\"items\":[{\"id\":\"47822\"},{\"id\":\"47856\"}],\"location\":[0,0],\"title\":\"Variable\"},\"id\":\"47821\",\"type\":\"Legend\"},{\"attributes\":{\"coordinates\":null,\"data_source\":{\"id\":\"47791\"},\"glyph\":{\"id\":\"47794\"},\"group\":null,\"hover_glyph\":null,\"muted_glyph\":{\"id\":\"47796\"},\"nonselection_glyph\":{\"id\":\"47795\"},\"selection_glyph\":{\"id\":\"47823\"},\"view\":{\"id\":\"47798\"}},\"id\":\"47797\",\"type\":\"GlyphRenderer\"},{\"attributes\":{\"line_alpha\":0.1,\"line_color\":\"#fc4f30\",\"line_width\":2,\"x\":{\"field\":\"date\"},\"y\":{\"field\":\"value\"}},\"id\":\"47681\",\"type\":\"Line\"},{\"attributes\":{\"callback\":null,\"formatters\":{\"@{date}\":\"datetime\"},\"renderers\":[{\"id\":\"47797\"},{\"id\":\"47830\"}],\"tags\":[\"hv_created\"],\"tooltips\":[[\"Variable\",\"@{Variable}\"],[\"date\",\"@{date}{%F %T}\"],[\"value\",\"@{value}\"]]},\"id\":\"47753\",\"type\":\"HoverTool\"},{\"attributes\":{},\"id\":\"47678\",\"type\":\"Selection\"},{\"attributes\":{\"end\":1693526400000.0,\"reset_end\":1693526400000.0,\"reset_start\":1691971200000.0,\"start\":1691971200000.0,\"tags\":[[[\"date\",\"date\",null]]]},\"id\":\"47751\",\"type\":\"Range1d\"},{\"attributes\":{\"line_alpha\":0.1,\"line_color\":\"#30a2da\",\"line_width\":2,\"x\":{\"field\":\"date\"},\"y\":{\"field\":\"value\"}},\"id\":\"47795\",\"type\":\"Line\"},{\"attributes\":{\"below\":[{\"id\":\"47764\"}],\"center\":[{\"id\":\"47767\"},{\"id\":\"47771\"}],\"frame_width\":325,\"height\":300,\"left\":[{\"id\":\"47768\"}],\"margin\":null,\"min_border_bottom\":10,\"min_border_left\":10,\"min_border_right\":10,\"min_border_top\":10,\"renderers\":[{\"id\":\"47797\"},{\"id\":\"47830\"}],\"right\":[{\"id\":\"47821\"}],\"sizing_mode\":\"fixed\",\"title\":{\"id\":\"47756\"},\"toolbar\":{\"id\":\"47778\"},\"toolbar_location\":null,\"width\":null,\"x_range\":{\"id\":\"47751\"},\"x_scale\":{\"id\":\"47760\"},\"y_range\":{\"id\":\"47752\"},\"y_scale\":{\"id\":\"47762\"}},\"id\":\"47755\",\"subtype\":\"Figure\",\"type\":\"Plot\"},{\"attributes\":{},\"id\":\"47760\",\"type\":\"LinearScale\"},{\"attributes\":{\"coordinates\":null,\"group\":null,\"text\":\"networth and cash\",\"text_color\":\"black\",\"text_font_size\":\"12pt\"},\"id\":\"47756\",\"type\":\"Title\"},{\"attributes\":{\"source\":{\"id\":\"47791\"}},\"id\":\"47798\",\"type\":\"CDSView\"},{\"attributes\":{\"line_color\":\"#30a2da\",\"line_width\":2,\"x\":{\"field\":\"date\"},\"y\":{\"field\":\"value\"}},\"id\":\"47794\",\"type\":\"Line\"},{\"attributes\":{},\"id\":\"47825\",\"type\":\"Selection\"},{\"attributes\":{},\"id\":\"47773\",\"type\":\"PanTool\"},{\"attributes\":{\"end\":18256.188000000002,\"reset_end\":18256.188000000002,\"reset_start\":1236.2519999999997,\"start\":1236.2519999999997,\"tags\":[[[\"value\",\"value\",null]]]},\"id\":\"47752\",\"type\":\"Range1d\"},{\"attributes\":{},\"id\":\"47762\",\"type\":\"LinearScale\"},{\"attributes\":{},\"id\":\"47792\",\"type\":\"Selection\"},{\"attributes\":{\"axis_label\":\"dollars\",\"coordinates\":null,\"formatter\":{\"id\":\"47789\"},\"group\":null,\"major_label_policy\":{\"id\":\"47790\"},\"ticker\":{\"id\":\"47769\"}},\"id\":\"47768\",\"type\":\"LinearAxis\"},{\"attributes\":{\"data\":{\"Variable\":[\"cash\",\"cash\",\"cash\",\"cash\",\"cash\",\"cash\",\"cash\",\"cash\",\"cash\",\"cash\",\"cash\",\"cash\",\"cash\",\"cash\",\"cash\"],\"date\":{\"__ndarray__\":\"AABAehWfeEIAAADgZ594QgAAwEW6n3hCAACAqwygeEIAAEARX6B4QgAAgEJWoXhCAABAqKiheEIAAAAO+6F4QgAAwHNNonhCAACA2Z+ieEIAAMAKl6N4QgAAgHDpo3hCAABA1jukeEIAAAA8jqR4QgAAwKHgpHhC\",\"dtype\":\"float64\",\"order\":\"little\",\"shape\":[15]},\"value\":{\"__ndarray__\":\"AAAAAACIw0DD9ShcD1G9QNejcD2KvrNA16NwPYq+s0DXo3A9ir6zQDMzMzMzU71AMzMzMzNTvUC4HoXrUQi0QNejcD0Ka6VAUrgehWsHtEBSuB6Fawe0QFK4HoVrB7RAUrgehWsHtEBSuB6Fawe0QFyPwvUovaRA\",\"dtype\":\"float64\",\"order\":\"little\",\"shape\":[15]}},\"selected\":{\"id\":\"47792\"},\"selection_policy\":{\"id\":\"47806\"}},\"id\":\"47791\",\"type\":\"ColumnDataSource\"},{\"attributes\":{\"axis_label\":\"date\",\"coordinates\":null,\"formatter\":{\"id\":\"47786\"},\"group\":null,\"major_label_policy\":{\"id\":\"47787\"},\"ticker\":{\"id\":\"47765\"}},\"id\":\"47764\",\"type\":\"DatetimeAxis\"},{\"attributes\":{\"label\":{\"value\":\"cash\"},\"renderers\":[{\"id\":\"47797\"}]},\"id\":\"47822\",\"type\":\"LegendItem\"},{\"attributes\":{\"axis\":{\"id\":\"47768\"},\"coordinates\":null,\"dimension\":1,\"grid_line_color\":null,\"group\":null,\"ticker\":null},\"id\":\"47771\",\"type\":\"Grid\"},{\"attributes\":{\"line_alpha\":0.2,\"line_color\":\"#30a2da\",\"line_width\":2,\"x\":{\"field\":\"date\"},\"y\":{\"field\":\"value\"}},\"id\":\"47796\",\"type\":\"Line\"},{\"attributes\":{},\"id\":\"47769\",\"type\":\"BasicTicker\"},{\"attributes\":{},\"id\":\"47774\",\"type\":\"WheelZoomTool\"},{\"attributes\":{},\"id\":\"47776\",\"type\":\"ResetTool\"},{\"attributes\":{\"children\":[{\"id\":\"47917\"}],\"margin\":[0,0,0,0],\"name\":\"Row39466\",\"tags\":[\"embedded\"]},\"id\":\"47602\",\"type\":\"Row\"},{\"attributes\":{},\"id\":\"47772\",\"type\":\"SaveTool\"},{\"attributes\":{},\"id\":\"47712\",\"type\":\"Selection\"},{\"attributes\":{\"overlay\":{\"id\":\"47777\"}},\"id\":\"47775\",\"type\":\"BoxZoomTool\"},{\"attributes\":{\"axis\":{\"id\":\"47621\"},\"coordinates\":null,\"dimension\":1,\"grid_line_color\":null,\"group\":null,\"ticker\":null},\"id\":\"47624\",\"type\":\"Grid\"},{\"attributes\":{},\"id\":\"47640\",\"type\":\"AllLabels\"},{\"attributes\":{},\"id\":\"47626\",\"type\":\"PanTool\"},{\"attributes\":{},\"id\":\"47627\",\"type\":\"WheelZoomTool\"},{\"attributes\":{},\"id\":\"47625\",\"type\":\"SaveTool\"},{\"attributes\":{\"overlay\":{\"id\":\"47630\"}},\"id\":\"47628\",\"type\":\"BoxZoomTool\"},{\"attributes\":{},\"id\":\"47629\",\"type\":\"ResetTool\"},{\"attributes\":{\"bottom_units\":\"screen\",\"coordinates\":null,\"fill_alpha\":0.5,\"fill_color\":\"lightgrey\",\"group\":null,\"left_units\":\"screen\",\"level\":\"overlay\",\"line_alpha\":1.0,\"line_color\":\"black\",\"line_dash\":[4,4],\"line_width\":2,\"right_units\":\"screen\",\"syncable\":false,\"top_units\":\"screen\"},\"id\":\"47630\",\"type\":\"BoxAnnotation\"},{\"attributes\":{},\"id\":\"47659\",\"type\":\"UnionRenderers\"},{\"attributes\":{},\"id\":\"47806\",\"type\":\"UnionRenderers\"},{\"attributes\":{\"source\":{\"id\":\"47644\"}},\"id\":\"47651\",\"type\":\"CDSView\"},{\"attributes\":{},\"id\":\"47615\",\"type\":\"LinearScale\"},{\"attributes\":{\"label\":{\"value\":\"AAPL\"},\"renderers\":[{\"id\":\"47650\"}]},\"id\":\"47675\",\"type\":\"LegendItem\"},{\"attributes\":{\"line_color\":\"#30a2da\",\"line_width\":2,\"x\":{\"field\":\"date\"},\"y\":{\"field\":\"value\"}},\"id\":\"47647\",\"type\":\"Line\"},{\"attributes\":{\"coordinates\":null,\"data_source\":{\"id\":\"47711\"},\"glyph\":{\"id\":\"47714\"},\"group\":null,\"hover_glyph\":null,\"muted_glyph\":{\"id\":\"47716\"},\"nonselection_glyph\":{\"id\":\"47715\"},\"selection_glyph\":{\"id\":\"47746\"},\"view\":{\"id\":\"47718\"}},\"id\":\"47717\",\"type\":\"GlyphRenderer\"},{\"attributes\":{},\"id\":\"47841\",\"type\":\"UnionRenderers\"},{\"attributes\":{\"source\":{\"id\":\"47824\"}},\"id\":\"47831\",\"type\":\"CDSView\"},{\"attributes\":{\"line_color\":\"#fc4f30\",\"line_width\":2,\"x\":{\"field\":\"date\"},\"y\":{\"field\":\"value\"}},\"id\":\"47857\",\"type\":\"Line\"},{\"attributes\":{},\"id\":\"47639\",\"type\":\"DatetimeTickFormatter\"},{\"attributes\":{\"active_drag\":{\"id\":\"47626\"},\"active_scroll\":{\"id\":\"47627\"},\"tools\":[{\"id\":\"47605\"},{\"id\":\"47625\"},{\"id\":\"47626\"},{\"id\":\"47627\"},{\"id\":\"47628\"},{\"id\":\"47629\"}]},\"id\":\"47631\",\"type\":\"Toolbar\"},{\"attributes\":{\"mantissas\":[1,2,5],\"max_interval\":500.0,\"num_minor_ticks\":0},\"id\":\"47662\",\"type\":\"AdaptiveTicker\"},{\"attributes\":{\"children\":[[{\"id\":\"47608\"},0,0],[{\"id\":\"47755\"},0,1]]},\"id\":\"47914\",\"type\":\"GridBox\"},{\"attributes\":{\"base\":60,\"mantissas\":[1,2,5,10,15,20,30],\"max_interval\":1800000.0,\"min_interval\":1000.0,\"num_minor_ticks\":0},\"id\":\"47663\",\"type\":\"AdaptiveTicker\"},{\"attributes\":{\"days\":[1,2,3,4,5,6,7,8,9,10,11,12,13,14,15,16,17,18,19,20,21,22,23,24,25,26,27,28,29,30,31]},\"id\":\"47665\",\"type\":\"DaysTicker\"},{\"attributes\":{\"base\":24,\"mantissas\":[1,2,4,6,8,12],\"max_interval\":43200000.0,\"min_interval\":3600000.0,\"num_minor_ticks\":0},\"id\":\"47664\",\"type\":\"AdaptiveTicker\"},{\"attributes\":{\"mantissas\":[1,2,5],\"max_interval\":500.0,\"num_minor_ticks\":0},\"id\":\"47809\",\"type\":\"AdaptiveTicker\"},{\"attributes\":{\"base\":60,\"mantissas\":[1,2,5,10,15,20,30],\"max_interval\":1800000.0,\"min_interval\":1000.0,\"num_minor_ticks\":0},\"id\":\"47810\",\"type\":\"AdaptiveTicker\"},{\"attributes\":{\"num_minor_ticks\":5,\"tickers\":[{\"id\":\"47662\"},{\"id\":\"47663\"},{\"id\":\"47664\"},{\"id\":\"47665\"},{\"id\":\"47666\"},{\"id\":\"47667\"},{\"id\":\"47668\"},{\"id\":\"47669\"},{\"id\":\"47670\"},{\"id\":\"47671\"},{\"id\":\"47672\"},{\"id\":\"47673\"}]},\"id\":\"47618\",\"type\":\"DatetimeTicker\"},{\"attributes\":{\"months\":[0,1,2,3,4,5,6,7,8,9,10,11]},\"id\":\"47669\",\"type\":\"MonthsTicker\"},{\"attributes\":{\"days\":[1,2,3,4,5,6,7,8,9,10,11,12,13,14,15,16,17,18,19,20,21,22,23,24,25,26,27,28,29,30,31]},\"id\":\"47812\",\"type\":\"DaysTicker\"},{\"attributes\":{\"months\":[0,2,4,6,8,10]},\"id\":\"47670\",\"type\":\"MonthsTicker\"},{\"attributes\":{\"base\":24,\"mantissas\":[1,2,4,6,8,12],\"max_interval\":43200000.0,\"min_interval\":3600000.0,\"num_minor_ticks\":0},\"id\":\"47811\",\"type\":\"AdaptiveTicker\"},{\"attributes\":{\"days\":[1,4,7,10,13,16,19,22,25,28]},\"id\":\"47666\",\"type\":\"DaysTicker\"},{\"attributes\":{\"days\":[1,15]},\"id\":\"47668\",\"type\":\"DaysTicker\"},{\"attributes\":{\"months\":[0,1,2,3,4,5,6,7,8,9,10,11]},\"id\":\"47816\",\"type\":\"MonthsTicker\"},{\"attributes\":{\"children\":[{\"id\":\"47916\"},{\"id\":\"47914\"}]},\"id\":\"47917\",\"type\":\"Column\"},{\"attributes\":{\"months\":[0,6]},\"id\":\"47672\",\"type\":\"MonthsTicker\"},{\"attributes\":{\"months\":[0,2,4,6,8,10]},\"id\":\"47817\",\"type\":\"MonthsTicker\"},{\"attributes\":{\"end\":1693526400000.0,\"reset_end\":1693526400000.0,\"reset_start\":1691971200000.0,\"start\":1691971200000.0,\"tags\":[[[\"date\",\"date\",null]]]},\"id\":\"47603\",\"type\":\"Range1d\"},{\"attributes\":{\"days\":[1,8,15,22]},\"id\":\"47667\",\"type\":\"DaysTicker\"},{\"attributes\":{\"days\":[1,4,7,10,13,16,19,22,25,28]},\"id\":\"47813\",\"type\":\"DaysTicker\"},{\"attributes\":{},\"id\":\"47642\",\"type\":\"BasicTickFormatter\"},{\"attributes\":{},\"id\":\"47673\",\"type\":\"YearsTicker\"},{\"attributes\":{\"days\":[1,15]},\"id\":\"47815\",\"type\":\"DaysTicker\"},{\"attributes\":{},\"id\":\"47643\",\"type\":\"AllLabels\"},{\"attributes\":{\"months\":[0,6]},\"id\":\"47819\",\"type\":\"MonthsTicker\"},{\"attributes\":{\"months\":[0,4,8]},\"id\":\"47671\",\"type\":\"MonthsTicker\"},{\"attributes\":{\"days\":[1,8,15,22]},\"id\":\"47814\",\"type\":\"DaysTicker\"},{\"attributes\":{\"callback\":null,\"formatters\":{\"@{date}\":\"datetime\"},\"renderers\":[{\"id\":\"47650\"},{\"id\":\"47683\"},{\"id\":\"47717\"}],\"tags\":[\"hv_created\"],\"tooltips\":[[\"Variable\",\"@{Variable}\"],[\"date\",\"@{date}{%F %T}\"],[\"value\",\"@{value}\"]]},\"id\":\"47605\",\"type\":\"HoverTool\"},{\"attributes\":{},\"id\":\"47820\",\"type\":\"YearsTicker\"},{\"attributes\":{\"coordinates\":null,\"data_source\":{\"id\":\"47644\"},\"glyph\":{\"id\":\"47647\"},\"group\":null,\"hover_glyph\":null,\"muted_glyph\":{\"id\":\"47649\"},\"nonselection_glyph\":{\"id\":\"47648\"},\"selection_glyph\":{\"id\":\"47676\"},\"view\":{\"id\":\"47651\"}},\"id\":\"47650\",\"type\":\"GlyphRenderer\"},{\"attributes\":{\"months\":[0,4,8]},\"id\":\"47818\",\"type\":\"MonthsTicker\"},{\"attributes\":{\"label\":{\"value\":\"AMZN\"},\"renderers\":[{\"id\":\"47683\"}]},\"id\":\"47709\",\"type\":\"LegendItem\"},{\"attributes\":{\"line_alpha\":0.2,\"line_color\":\"#fc4f30\",\"line_width\":2,\"x\":{\"field\":\"date\"},\"y\":{\"field\":\"value\"}},\"id\":\"47829\",\"type\":\"Line\"},{\"attributes\":{},\"id\":\"47613\",\"type\":\"LinearScale\"},{\"attributes\":{\"click_policy\":\"mute\",\"coordinates\":null,\"group\":null,\"items\":[{\"id\":\"47675\"},{\"id\":\"47709\"},{\"id\":\"47745\"}],\"location\":[0,0],\"title\":\"Variable\"},\"id\":\"47674\",\"type\":\"Legend\"},{\"attributes\":{\"data\":{\"Variable\":[\"networth\",\"networth\",\"networth\",\"networth\",\"networth\",\"networth\",\"networth\",\"networth\",\"networth\",\"networth\",\"networth\",\"networth\",\"networth\",\"networth\",\"networth\"],\"date\":{\"__ndarray__\":\"AABAehWfeEIAAADgZ594QgAAwEW6n3hCAACAqwygeEIAAEARX6B4QgAAgEJWoXhCAABAqKiheEIAAAAO+6F4QgAAwHNNonhCAACA2Z+ieEIAAMAKl6N4QgAAgHDpo3hCAABA1jukeEIAAAA8jqR4QgAAwKHgpHhC\",\"dtype\":\"float64\",\"order\":\"little\",\"shape\":[15]},\"value\":{\"__ndarray__\":\"AAAAAACIw0AAAAAAAIjDQPYoXI+CYcJAmpmZmVnNzUA0MzMz85LNQML1KFxP0sRAcD0K1yPjxEDXo3A9Ck/DQClcj8L1VsNAkML1KJxVw0DsUbgepWjQQKRwPQp3cdBArkfhetR+w0BmZmZmJj3HQM3MzMyMrMNA\",\"dtype\":\"float64\",\"order\":\"little\",\"shape\":[15]}},\"selected\":{\"id\":\"47825\"},\"selection_policy\":{\"id\":\"47841\"}},\"id\":\"47824\",\"type\":\"ColumnDataSource\"},{\"attributes\":{\"data\":{\"Variable\":[\"AAPL\",\"AAPL\",\"AAPL\",\"AAPL\",\"AAPL\",\"AAPL\",\"AAPL\",\"AAPL\",\"AAPL\",\"AAPL\",\"AAPL\",\"AAPL\",\"AAPL\",\"AAPL\",\"AAPL\"],\"date\":{\"__ndarray__\":\"AABAehWfeEIAAADgZ594QgAAwEW6n3hCAACAqwygeEIAAEARX6B4QgAAgEJWoXhCAABAqKiheEIAAAAO+6F4QgAAwHNNonhCAACA2Z+ieEIAAMAKl6N4QgAAgHDpo3hCAABA1jukeEIAAAA8jqR4QgAAwKHgpHhC\",\"dtype\":\"float64\",\"order\":\"little\",\"shape\":[15]},\"value\":{\"__ndarray__\":\"AAAAAAAA+H8AAAAAAAAsQAAAAAAAACxAAAAAAAAALEAAAAAAAAAsQAAAAAAAAAAAAAAAAAAAAAAAAAAAAAAAAAAAAAAAAAAAAAAAAAAAAAAAAAAAAAAAAAAAAAAAAAAAAAAAAAAAAAAAAAAAAAAAAAAAAAAAAAAA\",\"dtype\":\"float64\",\"order\":\"little\",\"shape\":[15]}},\"selected\":{\"id\":\"47645\"},\"selection_policy\":{\"id\":\"47659\"}},\"id\":\"47644\",\"type\":\"ColumnDataSource\"},{\"attributes\":{\"line_alpha\":0.2,\"line_color\":\"#30a2da\",\"line_width\":2,\"x\":{\"field\":\"date\"},\"y\":{\"field\":\"value\"}},\"id\":\"47649\",\"type\":\"Line\"},{\"attributes\":{\"data\":{\"Variable\":[\"GOOG\",\"GOOG\",\"GOOG\",\"GOOG\",\"GOOG\",\"GOOG\",\"GOOG\",\"GOOG\",\"GOOG\",\"GOOG\",\"GOOG\",\"GOOG\",\"GOOG\",\"GOOG\",\"GOOG\"],\"date\":{\"__ndarray__\":\"AABAehWfeEIAAADgZ594QgAAwEW6n3hCAACAqwygeEIAAEARX6B4QgAAgEJWoXhCAABAqKiheEIAAAAO+6F4QgAAwHNNonhCAACA2Z+ieEIAAMAKl6N4QgAAgHDpo3hCAABA1jukeEIAAAA8jqR4QgAAwKHgpHhC\",\"dtype\":\"float64\",\"order\":\"little\",\"shape\":[15]},\"value\":{\"__ndarray__\":\"AAAAAAAA+H8AAAAAAAD4fwAAAAAAAPh/AAAAAAAA+H8AAAAAAAD4fwAAAAAAAPh/AAAAAAAA+H8AAAAAAAAyQAAAAAAAAEJAAAAAAAAAQkAAAAAAAABCQAAAAAAAAEJAAAAAAAAAQkAAAAAAAABCQAAAAAAAAEtA\",\"dtype\":\"float64\",\"order\":\"little\",\"shape\":[15]}},\"selected\":{\"id\":\"47712\"},\"selection_policy\":{\"id\":\"47730\"}},\"id\":\"47711\",\"type\":\"ColumnDataSource\"},{\"attributes\":{\"coordinates\":null,\"group\":null,\"text\":\"shares in trading\",\"text_color\":\"black\",\"text_font_size\":\"12pt\"},\"id\":\"47609\",\"type\":\"Title\"},{\"attributes\":{\"line_alpha\":0.1,\"line_color\":\"#fc4f30\",\"line_width\":2,\"x\":{\"field\":\"date\"},\"y\":{\"field\":\"value\"}},\"id\":\"47828\",\"type\":\"Line\"},{\"attributes\":{\"label\":{\"value\":\"networth\"},\"renderers\":[{\"id\":\"47830\"}]},\"id\":\"47856\",\"type\":\"LegendItem\"},{\"attributes\":{\"line_color\":\"#fc4f30\",\"line_width\":2,\"x\":{\"field\":\"date\"},\"y\":{\"field\":\"value\"}},\"id\":\"47827\",\"type\":\"Line\"},{\"attributes\":{\"axis\":{\"id\":\"47617\"},\"coordinates\":null,\"grid_line_color\":null,\"group\":null,\"ticker\":null},\"id\":\"47620\",\"type\":\"Grid\"},{\"attributes\":{\"line_alpha\":0.1,\"line_color\":\"#30a2da\",\"line_width\":2,\"x\":{\"field\":\"date\"},\"y\":{\"field\":\"value\"}},\"id\":\"47648\",\"type\":\"Line\"},{\"attributes\":{\"data\":{\"Variable\":[\"AMZN\",\"AMZN\",\"AMZN\",\"AMZN\",\"AMZN\",\"AMZN\",\"AMZN\",\"AMZN\",\"AMZN\",\"AMZN\",\"AMZN\",\"AMZN\",\"AMZN\",\"AMZN\",\"AMZN\"],\"date\":{\"__ndarray__\":\"AABAehWfeEIAAADgZ594QgAAwEW6n3hCAACAqwygeEIAAEARX6B4QgAAgEJWoXhCAABAqKiheEIAAAAO+6F4QgAAwHNNonhCAACA2Z+ieEIAAMAKl6N4QgAAgHDpo3hCAABA1jukeEIAAAA8jqR4QgAAwKHgpHhC\",\"dtype\":\"float64\",\"order\":\"little\",\"shape\":[15]},\"value\":{\"__ndarray__\":\"AAAAAAAA+H8AAAAAAAD4fwAAAAAAADJAAAAAAAAAMkAAAAAAAAAyQAAAAAAAADJAAAAAAAAAMkAAAAAAAAAyQAAAAAAAADJAAAAAAAAAAAAAAAAAAAAAAAAAAAAAAAAAAAAAAAAAAAAAAAAAAAAAAAAAAAAAAAAA\",\"dtype\":\"float64\",\"order\":\"little\",\"shape\":[15]}},\"selected\":{\"id\":\"47678\"},\"selection_policy\":{\"id\":\"47694\"}},\"id\":\"47677\",\"type\":\"ColumnDataSource\"},{\"attributes\":{\"below\":[{\"id\":\"47617\"}],\"center\":[{\"id\":\"47620\"},{\"id\":\"47624\"}],\"frame_width\":325,\"height\":300,\"left\":[{\"id\":\"47621\"}],\"margin\":null,\"min_border_bottom\":10,\"min_border_left\":10,\"min_border_right\":10,\"min_border_top\":10,\"renderers\":[{\"id\":\"47650\"},{\"id\":\"47683\"},{\"id\":\"47717\"}],\"right\":[{\"id\":\"47674\"}],\"sizing_mode\":\"fixed\",\"title\":{\"id\":\"47609\"},\"toolbar\":{\"id\":\"47631\"},\"toolbar_location\":null,\"width\":null,\"x_range\":{\"id\":\"47603\"},\"x_scale\":{\"id\":\"47613\"},\"y_range\":{\"id\":\"47604\"},\"y_scale\":{\"id\":\"47615\"}},\"id\":\"47608\",\"subtype\":\"Figure\",\"type\":\"Plot\"},{\"attributes\":{\"axis_label\":\"shares\",\"coordinates\":null,\"formatter\":{\"id\":\"47642\"},\"group\":null,\"major_label_policy\":{\"id\":\"47643\"},\"ticker\":{\"id\":\"47622\"}},\"id\":\"47621\",\"type\":\"LinearAxis\"},{\"attributes\":{},\"id\":\"47645\",\"type\":\"Selection\"},{\"attributes\":{\"axis_label\":\"date\",\"coordinates\":null,\"formatter\":{\"id\":\"47639\"},\"group\":null,\"major_label_policy\":{\"id\":\"47640\"},\"ticker\":{\"id\":\"47618\"}},\"id\":\"47617\",\"type\":\"DatetimeAxis\"},{\"attributes\":{\"toolbar\":{\"id\":\"47915\"},\"toolbar_location\":\"above\"},\"id\":\"47916\",\"type\":\"ToolbarBox\"},{\"attributes\":{},\"id\":\"47622\",\"type\":\"BasicTicker\"},{\"attributes\":{\"end\":59.4,\"reset_end\":59.4,\"reset_start\":-5.4,\"start\":-5.4,\"tags\":[[[\"value\",\"value\",null]]]},\"id\":\"47604\",\"type\":\"Range1d\"}],\"root_ids\":[\"47602\"]},\"title\":\"Bokeh Application\",\"version\":\"2.4.3\"}};\n",
       "    var render_items = [{\"docid\":\"d4b1f33f-7dcc-427e-b474-f6c8d18f0e94\",\"root_ids\":[\"47602\"],\"roots\":{\"47602\":\"aec0199f-80f1-45e8-a9fc-c5dcaced473e\"}}];\n",
       "    root.Bokeh.embed.embed_items_notebook(docs_json, render_items);\n",
       "    for (const render_item of render_items) {\n",
       "      for (const root_id of render_item.root_ids) {\n",
       "\tconst id_el = document.getElementById(root_id)\n",
       "\tif (id_el.children.length && (id_el.children[0].className === 'bk-root')) {\n",
       "\t  const root_el = id_el.children[0]\n",
       "\t  root_el.id = root_el.id + '-rendered'\n",
       "\t}\n",
       "      }\n",
       "    }\n",
       "  }\n",
       "  if (root.Bokeh !== undefined && root.Bokeh.Panel !== undefined) {\n",
       "    embed_document(root);\n",
       "  } else {\n",
       "    var attempts = 0;\n",
       "    var timer = setInterval(function(root) {\n",
       "      if (root.Bokeh !== undefined && root.Bokeh.Panel !== undefined) {\n",
       "        clearInterval(timer);\n",
       "        embed_document(root);\n",
       "      } else if (document.readyState == \"complete\") {\n",
       "        attempts++;\n",
       "        if (attempts > 200) {\n",
       "          clearInterval(timer);\n",
       "          console.log(\"Bokeh: ERROR: Unable to run BokehJS code because BokehJS library is missing\");\n",
       "        }\n",
       "      }\n",
       "    }, 25, root)\n",
       "  }\n",
       "})(window);</script>"
      ],
      "text/plain": [
       ":Layout\n",
       "   .NdOverlay.I  :NdOverlay   [Variable]\n",
       "      :Curve   [date]   (value)\n",
       "   .NdOverlay.II :NdOverlay   [Variable]\n",
       "      :Curve   [date]   (value)"
      ]
     },
     "execution_count": 609,
     "metadata": {
      "application/vnd.holoviews_exec.v0+json": {
       "id": "47602"
      }
     },
     "output_type": "execute_result"
    }
   ],
   "source": [
    "trade_action(random_actions)"
   ]
  },
  {
   "cell_type": "markdown",
   "id": "e926be2e-305f-40af-985f-359f34227f9f",
   "metadata": {},
   "source": [
    "### 7.3 run 500 times random actions see distribution"
   ]
  },
  {
   "cell_type": "code",
   "execution_count": 610,
   "id": "3f9793a0-fb4a-47de-a7e0-9fa848aba071",
   "metadata": {},
   "outputs": [],
   "source": [
    "final_worths = []\n",
    "for n in range(500):\n",
    "    final_worths.append(trade_action( sample_df(), verbose=0 ))\n"
   ]
  },
  {
   "cell_type": "code",
   "execution_count": 611,
   "id": "1337140f-a00e-4a9a-855e-2569e6c4e4d6",
   "metadata": {},
   "outputs": [
    {
     "data": {},
     "metadata": {},
     "output_type": "display_data"
    },
    {
     "data": {
      "application/vnd.holoviews_exec.v0+json": "",
      "text/html": [
       "<div id='48220'>\n",
       "  <div class=\"bk-root\" id=\"308081fa-7116-4746-8d42-dd1f60996967\" data-root-id=\"48220\"></div>\n",
       "</div>\n",
       "<script type=\"application/javascript\">(function(root) {\n",
       "  function embed_document(root) {\n",
       "    var docs_json = {\"8d289fc4-222e-4c2f-8a33-89a4d9d1faad\":{\"defs\":[{\"extends\":null,\"module\":null,\"name\":\"ReactiveHTML1\",\"overrides\":[],\"properties\":[]},{\"extends\":null,\"module\":null,\"name\":\"FlexBox1\",\"overrides\":[],\"properties\":[{\"default\":\"flex-start\",\"kind\":null,\"name\":\"align_content\"},{\"default\":\"flex-start\",\"kind\":null,\"name\":\"align_items\"},{\"default\":\"row\",\"kind\":null,\"name\":\"flex_direction\"},{\"default\":\"wrap\",\"kind\":null,\"name\":\"flex_wrap\"},{\"default\":\"flex-start\",\"kind\":null,\"name\":\"justify_content\"}]},{\"extends\":null,\"module\":null,\"name\":\"GridStack1\",\"overrides\":[],\"properties\":[{\"default\":\"warn\",\"kind\":null,\"name\":\"mode\"},{\"default\":null,\"kind\":null,\"name\":\"ncols\"},{\"default\":null,\"kind\":null,\"name\":\"nrows\"},{\"default\":true,\"kind\":null,\"name\":\"allow_resize\"},{\"default\":true,\"kind\":null,\"name\":\"allow_drag\"},{\"default\":[],\"kind\":null,\"name\":\"state\"}]},{\"extends\":null,\"module\":null,\"name\":\"click1\",\"overrides\":[],\"properties\":[{\"default\":\"\",\"kind\":null,\"name\":\"terminal_output\"},{\"default\":\"\",\"kind\":null,\"name\":\"debug_name\"},{\"default\":0,\"kind\":null,\"name\":\"clears\"}]},{\"extends\":null,\"module\":null,\"name\":\"NotificationAreaBase1\",\"overrides\":[],\"properties\":[{\"default\":\"bottom-right\",\"kind\":null,\"name\":\"position\"},{\"default\":0,\"kind\":null,\"name\":\"_clear\"}]},{\"extends\":null,\"module\":null,\"name\":\"NotificationArea1\",\"overrides\":[],\"properties\":[{\"default\":[],\"kind\":null,\"name\":\"notifications\"},{\"default\":\"bottom-right\",\"kind\":null,\"name\":\"position\"},{\"default\":0,\"kind\":null,\"name\":\"_clear\"},{\"default\":[{\"background\":\"#ffc107\",\"icon\":{\"className\":\"fas fa-exclamation-triangle\",\"color\":\"white\",\"tagName\":\"i\"},\"type\":\"warning\"},{\"background\":\"#007bff\",\"icon\":{\"className\":\"fas fa-info-circle\",\"color\":\"white\",\"tagName\":\"i\"},\"type\":\"info\"}],\"kind\":null,\"name\":\"types\"}]},{\"extends\":null,\"module\":null,\"name\":\"Notification\",\"overrides\":[],\"properties\":[{\"default\":null,\"kind\":null,\"name\":\"background\"},{\"default\":3000,\"kind\":null,\"name\":\"duration\"},{\"default\":null,\"kind\":null,\"name\":\"icon\"},{\"default\":\"\",\"kind\":null,\"name\":\"message\"},{\"default\":null,\"kind\":null,\"name\":\"notification_type\"},{\"default\":false,\"kind\":null,\"name\":\"_destroyed\"}]},{\"extends\":null,\"module\":null,\"name\":\"TemplateActions1\",\"overrides\":[],\"properties\":[{\"default\":0,\"kind\":null,\"name\":\"open_modal\"},{\"default\":0,\"kind\":null,\"name\":\"close_modal\"}]},{\"extends\":null,\"module\":null,\"name\":\"MaterialTemplateActions1\",\"overrides\":[],\"properties\":[{\"default\":0,\"kind\":null,\"name\":\"open_modal\"},{\"default\":0,\"kind\":null,\"name\":\"close_modal\"}]}],\"roots\":{\"references\":[{\"attributes\":{},\"id\":\"48245\",\"type\":\"ResetTool\"},{\"attributes\":{},\"id\":\"48229\",\"type\":\"LinearScale\"},{\"attributes\":{\"overlay\":{\"id\":\"48246\"}},\"id\":\"48244\",\"type\":\"BoxZoomTool\"},{\"attributes\":{},\"id\":\"48243\",\"type\":\"WheelZoomTool\"},{\"attributes\":{},\"id\":\"48271\",\"type\":\"AllLabels\"},{\"attributes\":{\"axis_label\":\"\",\"coordinates\":null,\"formatter\":{\"id\":\"48270\"},\"group\":null,\"major_label_policy\":{\"id\":\"48271\"},\"ticker\":{\"id\":\"48238\"}},\"id\":\"48237\",\"type\":\"LinearAxis\"},{\"attributes\":{\"children\":[{\"id\":\"48224\"}],\"height\":300,\"margin\":[0,0,0,0],\"name\":\"Row39679\",\"sizing_mode\":\"fixed\",\"tags\":[\"embedded\"],\"width\":700},\"id\":\"48220\",\"type\":\"Row\"},{\"attributes\":{},\"id\":\"48266\",\"type\":\"AllLabels\"},{\"attributes\":{\"end\":20022.32085714286,\"reset_end\":20022.32085714286,\"reset_start\":5431.819142857143,\"start\":5431.819142857143,\"tags\":[[[\"final_worth\",\"final_worth\",null]]]},\"id\":\"48221\",\"type\":\"Range1d\"},{\"attributes\":{\"bottom\":{\"value\":0},\"fill_color\":{\"value\":\"#30a2da\"},\"hatch_color\":{\"value\":\"#30a2da\"},\"left\":{\"field\":\"left\"},\"right\":{\"field\":\"right\"},\"top\":{\"field\":\"top\"}},\"id\":\"48257\",\"type\":\"Quad\"},{\"attributes\":{},\"id\":\"48238\",\"type\":\"BasicTicker\"},{\"attributes\":{\"axis\":{\"id\":\"48233\"},\"coordinates\":null,\"grid_line_color\":null,\"group\":null,\"ticker\":null},\"id\":\"48236\",\"type\":\"Grid\"},{\"attributes\":{\"bottom\":{\"value\":0},\"fill_alpha\":{\"value\":0.1},\"fill_color\":{\"value\":\"#30a2da\"},\"hatch_alpha\":{\"value\":0.1},\"hatch_color\":{\"value\":\"#30a2da\"},\"left\":{\"field\":\"left\"},\"line_alpha\":{\"value\":0.1},\"right\":{\"field\":\"right\"},\"top\":{\"field\":\"top\"}},\"id\":\"48258\",\"type\":\"Quad\"},{\"attributes\":{\"below\":[{\"id\":\"48233\"}],\"center\":[{\"id\":\"48236\"},{\"id\":\"48240\"}],\"height\":300,\"left\":[{\"id\":\"48237\"}],\"margin\":[5,5,5,5],\"min_border_bottom\":10,\"min_border_left\":10,\"min_border_right\":10,\"min_border_top\":10,\"renderers\":[{\"id\":\"48260\"}],\"sizing_mode\":\"fixed\",\"title\":{\"id\":\"48225\"},\"toolbar\":{\"id\":\"48247\"},\"width\":700,\"x_range\":{\"id\":\"48221\"},\"x_scale\":{\"id\":\"48229\"},\"y_range\":{\"id\":\"48222\"},\"y_scale\":{\"id\":\"48231\"}},\"id\":\"48224\",\"subtype\":\"Figure\",\"type\":\"Plot\"},{\"attributes\":{\"axis\":{\"id\":\"48237\"},\"coordinates\":null,\"dimension\":1,\"grid_line_color\":null,\"group\":null,\"ticker\":null},\"id\":\"48240\",\"type\":\"Grid\"},{\"attributes\":{\"end\":283.8,\"reset_end\":283.8,\"reset_start\":0.0,\"tags\":[[[\"final_worth_count\",\"Count\",null]]]},\"id\":\"48222\",\"type\":\"Range1d\"},{\"attributes\":{\"source\":{\"id\":\"48254\"}},\"id\":\"48261\",\"type\":\"CDSView\"},{\"attributes\":{\"callback\":null,\"renderers\":[{\"id\":\"48260\"}],\"tooltips\":[[\"final_worth\",\"@final_worth{0.0f}\"]]},\"id\":\"48223\",\"type\":\"HoverTool\"},{\"attributes\":{},\"id\":\"48282\",\"type\":\"UnionRenderers\"},{\"attributes\":{},\"id\":\"48231\",\"type\":\"LinearScale\"},{\"attributes\":{\"axis_label\":\"final_worth\",\"coordinates\":null,\"formatter\":{\"id\":\"48263\"},\"group\":null,\"major_label_policy\":{\"id\":\"48266\"},\"ticker\":{\"id\":\"48234\"}},\"id\":\"48233\",\"type\":\"LinearAxis\"},{\"attributes\":{},\"id\":\"48242\",\"type\":\"PanTool\"},{\"attributes\":{\"active_drag\":{\"id\":\"48242\"},\"active_scroll\":{\"id\":\"48243\"},\"tools\":[{\"id\":\"48223\"},{\"id\":\"48241\"},{\"id\":\"48242\"},{\"id\":\"48243\"},{\"id\":\"48244\"},{\"id\":\"48245\"}]},\"id\":\"48247\",\"type\":\"Toolbar\"},{\"attributes\":{},\"id\":\"48241\",\"type\":\"SaveTool\"},{\"attributes\":{\"bottom\":{\"value\":0},\"fill_alpha\":{\"value\":0.2},\"fill_color\":{\"value\":\"#30a2da\"},\"hatch_alpha\":{\"value\":0.2},\"hatch_color\":{\"value\":\"#30a2da\"},\"left\":{\"field\":\"left\"},\"line_alpha\":{\"value\":0.2},\"right\":{\"field\":\"right\"},\"top\":{\"field\":\"top\"}},\"id\":\"48259\",\"type\":\"Quad\"},{\"attributes\":{\"coordinates\":null,\"data_source\":{\"id\":\"48254\"},\"glyph\":{\"id\":\"48257\"},\"group\":null,\"hover_glyph\":null,\"muted_glyph\":{\"id\":\"48259\"},\"nonselection_glyph\":{\"id\":\"48258\"},\"selection_glyph\":{\"id\":\"48262\"},\"view\":{\"id\":\"48261\"}},\"id\":\"48260\",\"type\":\"GlyphRenderer\"},{\"attributes\":{},\"id\":\"48234\",\"type\":\"BasicTicker\"},{\"attributes\":{\"format\":\"%.0f\"},\"id\":\"48263\",\"type\":\"PrintfTickFormatter\"},{\"attributes\":{\"coordinates\":null,\"group\":null,\"text_color\":\"black\",\"text_font_size\":\"12pt\"},\"id\":\"48225\",\"type\":\"Title\"},{\"attributes\":{},\"id\":\"48255\",\"type\":\"Selection\"},{\"attributes\":{\"bottom_units\":\"screen\",\"coordinates\":null,\"fill_alpha\":0.5,\"fill_color\":\"lightgrey\",\"group\":null,\"left_units\":\"screen\",\"level\":\"overlay\",\"line_alpha\":1.0,\"line_color\":\"black\",\"line_dash\":[4,4],\"line_width\":2,\"right_units\":\"screen\",\"syncable\":false,\"top_units\":\"screen\"},\"id\":\"48246\",\"type\":\"BoxAnnotation\"},{\"attributes\":{\"bottom\":{\"value\":0},\"fill_alpha\":{\"value\":1.0},\"fill_color\":{\"value\":\"#30a2da\"},\"hatch_alpha\":{\"value\":1.0},\"hatch_color\":{\"value\":\"#30a2da\"},\"hatch_scale\":{\"value\":12.0},\"hatch_weight\":{\"value\":1.0},\"left\":{\"field\":\"left\"},\"line_alpha\":{\"value\":1.0},\"line_cap\":{\"value\":\"butt\"},\"line_color\":{\"value\":\"black\"},\"line_dash\":{\"value\":[]},\"line_dash_offset\":{\"value\":0},\"line_join\":{\"value\":\"bevel\"},\"line_width\":{\"value\":1},\"right\":{\"field\":\"right\"},\"top\":{\"field\":\"top\"}},\"id\":\"48262\",\"type\":\"Quad\"},{\"attributes\":{\"data\":{\"final_worth\":{\"__ndarray__\":\"QDVeurnHuEDUTWIQqGe7QGZmZmaWB75AfT81XsJTwEDHSzeJuaPBQBFYObSw88JAWmQ736dDxECkcD0Kn5PFQO58PzWW48ZAOIlBYI0zyECBlUOLhIPJQMuhRbZ708pAFa5H4XIjzEBeukkManPNQKjGSzdhw85AeekmMawJ0ECe76fGp7HQQMP1KFyjWdFA6Pup8Z4B0kAMAiuHmqnSQA==\",\"dtype\":\"float64\",\"order\":\"little\",\"shape\":[20]},\"final_worth_count\":[1,5,4,20,39,258,100,23,11,4,2,18,1,1,2,1,9,0,0,1],\"left\":{\"__ndarray__\":\"9ihcj8J3t0CKQWDlsBe6QB1aZDuft7xAsHJokY1Xv0CiRbbzvfvAQOxRuB61S8JANl66Saybw0B/arx0o+vEQMl2vp+aO8ZAE4PAypGLx0Bcj8L1iNvIQKabxCCAK8pA8KfGS3d7y0A6tMh2bsvMQIPAyqFlG85AzczMzFxrz0CMbOf7qV3QQLByaJGlBdFA1njpJqGt0UD6fmq8nFXSQA==\",\"dtype\":\"float64\",\"order\":\"little\",\"shape\":[20]},\"right\":{\"__ndarray__\":\"ikFg5bAXukAdWmQ7n7e8QLByaJGNV79AokW28737wEDsUbgetUvCQDZeukmsm8NAf2q8dKPrxEDJdr6fmjvGQBODwMqRi8dAXI/C9YjbyECmm8QggCvKQPCnxkt3e8tAOrTIdm7LzECDwMqhZRvOQM3MzMxca89AjGzn+6ld0ECwcmiRpQXRQNZ46SahrdFA+n5qvJxV0kAfhetRmP3SQA==\",\"dtype\":\"float64\",\"order\":\"little\",\"shape\":[20]},\"top\":[1,5,4,20,39,258,100,23,11,4,2,18,1,1,2,1,9,0,0,1]},\"selected\":{\"id\":\"48255\"},\"selection_policy\":{\"id\":\"48282\"}},\"id\":\"48254\",\"type\":\"ColumnDataSource\"},{\"attributes\":{},\"id\":\"48270\",\"type\":\"BasicTickFormatter\"}],\"root_ids\":[\"48220\"]},\"title\":\"Bokeh Application\",\"version\":\"2.4.3\"}};\n",
       "    var render_items = [{\"docid\":\"8d289fc4-222e-4c2f-8a33-89a4d9d1faad\",\"root_ids\":[\"48220\"],\"roots\":{\"48220\":\"308081fa-7116-4746-8d42-dd1f60996967\"}}];\n",
       "    root.Bokeh.embed.embed_items_notebook(docs_json, render_items);\n",
       "    for (const render_item of render_items) {\n",
       "      for (const root_id of render_item.root_ids) {\n",
       "\tconst id_el = document.getElementById(root_id)\n",
       "\tif (id_el.children.length && (id_el.children[0].className === 'bk-root')) {\n",
       "\t  const root_el = id_el.children[0]\n",
       "\t  root_el.id = root_el.id + '-rendered'\n",
       "\t}\n",
       "      }\n",
       "    }\n",
       "  }\n",
       "  if (root.Bokeh !== undefined && root.Bokeh.Panel !== undefined) {\n",
       "    embed_document(root);\n",
       "  } else {\n",
       "    var attempts = 0;\n",
       "    var timer = setInterval(function(root) {\n",
       "      if (root.Bokeh !== undefined && root.Bokeh.Panel !== undefined) {\n",
       "        clearInterval(timer);\n",
       "        embed_document(root);\n",
       "      } else if (document.readyState == \"complete\") {\n",
       "        attempts++;\n",
       "        if (attempts > 200) {\n",
       "          clearInterval(timer);\n",
       "          console.log(\"Bokeh: ERROR: Unable to run BokehJS code because BokehJS library is missing\");\n",
       "        }\n",
       "      }\n",
       "    }, 25, root)\n",
       "  }\n",
       "})(window);</script>"
      ],
      "text/plain": [
       ":Histogram   [final_worth]   (final_worth_count)"
      ]
     },
     "execution_count": 611,
     "metadata": {
      "application/vnd.holoviews_exec.v0+json": {
       "id": "48220"
      }
     },
     "output_type": "execute_result"
    }
   ],
   "source": [
    "# plot distribution\n",
    "from bokeh.models import HoverTool\n",
    "hover = HoverTool(tooltips=[('final_worth','@final_worth{0.0f}')])\n",
    "pd.DataFrame(final_worths, columns=['final_worth']).hvplot(kind='hist', xformatter=\"%.0f\", tools=[hover])"
   ]
  }
 ],
 "metadata": {
  "kernelspec": {
   "display_name": "Python 3 (ipykernel)",
   "language": "python",
   "name": "python3"
  },
  "language_info": {
   "codemirror_mode": {
    "name": "ipython",
    "version": 3
   },
   "file_extension": ".py",
   "mimetype": "text/x-python",
   "name": "python",
   "nbconvert_exporter": "python",
   "pygments_lexer": "ipython3",
   "version": "3.8.16"
  }
 },
 "nbformat": 4,
 "nbformat_minor": 5
}
